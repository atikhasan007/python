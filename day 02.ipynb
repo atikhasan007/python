{
 "cells": [
  {
   "cell_type": "code",
   "execution_count": 3,
   "id": "1dff8160",
   "metadata": {},
   "outputs": [
    {
     "name": "stdout",
     "output_type": "stream",
     "text": [
      "hello, world !, welcome to 60 days of Python\n"
     ]
    }
   ],
   "source": [
    "print(\"hello, world !, welcome to 60 days of Python\")"
   ]
  },
  {
   "cell_type": "code",
   "execution_count": 4,
   "id": "a2a523e7",
   "metadata": {},
   "outputs": [
    {
     "name": "stdout",
     "output_type": "stream",
     "text": [
      "hello world\n"
     ]
    }
   ],
   "source": [
    "var = 'hello world'\n",
    "print(var)"
   ]
  },
  {
   "cell_type": "code",
   "execution_count": 7,
   "id": "e37441ea",
   "metadata": {},
   "outputs": [
    {
     "name": "stdout",
     "output_type": "stream",
     "text": [
      "My sentence hello world!\n"
     ]
    }
   ],
   "source": [
    "var = 'hello world'\n",
    "print('My sentence ' + var + '!')"
   ]
  },
  {
   "cell_type": "code",
   "execution_count": 8,
   "id": "3b2c2b4b",
   "metadata": {},
   "outputs": [
    {
     "data": {
      "text/plain": [
       "138846769296560"
      ]
     },
     "execution_count": 8,
     "metadata": {},
     "output_type": "execute_result"
    }
   ],
   "source": [
    "id(var)"
   ]
  },
  {
   "cell_type": "code",
   "execution_count": 10,
   "id": "b32583f9",
   "metadata": {},
   "outputs": [
    {
     "data": {
      "text/plain": [
       "60"
      ]
     },
     "execution_count": 10,
     "metadata": {},
     "output_type": "execute_result"
    }
   ],
   "source": [
    "import sys\n",
    "sys.getsizeof(var)\n"
   ]
  },
  {
   "cell_type": "code",
   "execution_count": 11,
   "id": "c47c8ba3",
   "metadata": {},
   "outputs": [
    {
     "name": "stdout",
     "output_type": "stream",
     "text": [
      "100\n"
     ]
    }
   ],
   "source": [
    "x = 100\n",
    "print(x)"
   ]
  },
  {
   "cell_type": "code",
   "execution_count": 13,
   "id": "bad6fb7d",
   "metadata": {},
   "outputs": [
    {
     "name": "stdout",
     "output_type": "stream",
     "text": [
      "100\n"
     ]
    }
   ],
   "source": [
    "y=100\n",
    "print(y)\n"
   ]
  },
  {
   "cell_type": "code",
   "execution_count": 14,
   "id": "cbcfbf22",
   "metadata": {},
   "outputs": [
    {
     "name": "stdout",
     "output_type": "stream",
     "text": [
      "Atik\n"
     ]
    }
   ],
   "source": [
    "name = 'Atik'\n",
    "print(name)"
   ]
  },
  {
   "cell_type": "code",
   "execution_count": 16,
   "id": "83b65a30",
   "metadata": {},
   "outputs": [
    {
     "name": "stdout",
     "output_type": "stream",
     "text": [
      "100\n"
     ]
    }
   ],
   "source": [
    "var_2 = 100\n",
    "print(var_2)"
   ]
  },
  {
   "cell_type": "code",
   "execution_count": 17,
   "id": "7ac79593",
   "metadata": {},
   "outputs": [
    {
     "name": "stdout",
     "output_type": "stream",
     "text": [
      "10\n"
     ]
    }
   ],
   "source": [
    "x,y,z = 10,20,30\n",
    "print(x)"
   ]
  },
  {
   "cell_type": "code",
   "execution_count": 18,
   "id": "abf48520",
   "metadata": {},
   "outputs": [
    {
     "name": "stdout",
     "output_type": "stream",
     "text": [
      "20\n"
     ]
    }
   ],
   "source": [
    "print(y)"
   ]
  },
  {
   "cell_type": "code",
   "execution_count": 19,
   "id": "0237368f",
   "metadata": {},
   "outputs": [
    {
     "name": "stdout",
     "output_type": "stream",
     "text": [
      "30\n"
     ]
    }
   ],
   "source": [
    "print(z)"
   ]
  },
  {
   "cell_type": "code",
   "execution_count": 21,
   "id": "3563b847",
   "metadata": {},
   "outputs": [
    {
     "name": "stdout",
     "output_type": "stream",
     "text": [
      "1001\n"
     ]
    }
   ],
   "source": [
    "varsity_id = 1001 #snake case var\n",
    "VarsityId = 1001 # PascalCaseVAR\n",
    "varsityId = 1001 #camelCaseVar\n",
    "print(varsity_id)"
   ]
  },
  {
   "cell_type": "markdown",
   "id": "fc9e9355",
   "metadata": {},
   "source": [
    "local vs global\n"
   ]
  },
  {
   "cell_type": "code",
   "execution_count": 31,
   "id": "2bf952f0",
   "metadata": {},
   "outputs": [
    {
     "name": "stdout",
     "output_type": "stream",
     "text": [
      "my number is : 500\n",
      "my name is : 1000\n"
     ]
    }
   ],
   "source": [
    "x = 1000 #global\n",
    "def func1():\n",
    "    x = 500\n",
    "    print('my number is :',x)\n",
    "func1()\n",
    "print(\"my name is :\",x)"
   ]
  },
  {
   "cell_type": "code",
   "execution_count": 32,
   "id": "44cc2069",
   "metadata": {},
   "outputs": [
    {
     "name": "stdout",
     "output_type": "stream",
     "text": [
      "my number is : 500\n"
     ]
    }
   ],
   "source": [
    "func1()\n"
   ]
  },
  {
   "cell_type": "code",
   "execution_count": 25,
   "id": "c8cba35b",
   "metadata": {},
   "outputs": [
    {
     "name": "stdout",
     "output_type": "stream",
     "text": [
      "my number is : 1000\n"
     ]
    }
   ],
   "source": [
    "func1()\n"
   ]
  },
  {
   "cell_type": "code",
   "execution_count": 26,
   "id": "b76a7d92",
   "metadata": {},
   "outputs": [
    {
     "name": "stdout",
     "output_type": "stream",
     "text": [
      "my number is : 1000\n"
     ]
    }
   ],
   "source": [
    "func1()"
   ]
  },
  {
   "cell_type": "code",
   "execution_count": 29,
   "id": "9b0d538f",
   "metadata": {},
   "outputs": [
    {
     "name": "stdout",
     "output_type": "stream",
     "text": [
      "my number is : 500\n"
     ]
    }
   ],
   "source": [
    "func1()"
   ]
  },
  {
   "cell_type": "code",
   "execution_count": 1,
   "id": "363f1f3f",
   "metadata": {},
   "outputs": [
    {
     "ename": "NameError",
     "evalue": "name 'func1' is not defined",
     "output_type": "error",
     "traceback": [
      "\u001b[0;31m---------------------------------------------------------------------------\u001b[0m",
      "\u001b[0;31mNameError\u001b[0m                                 Traceback (most recent call last)",
      "Cell \u001b[0;32mIn[1], line 1\u001b[0m\n\u001b[0;32m----> 1\u001b[0m \u001b[43mfunc1\u001b[49m()\n",
      "\u001b[0;31mNameError\u001b[0m: name 'func1' is not defined"
     ]
    }
   ],
   "source": [
    "func1()"
   ]
  },
  {
   "cell_type": "code",
   "execution_count": 2,
   "id": "e97cf42f",
   "metadata": {},
   "outputs": [],
   "source": [
    "data = 'data science'"
   ]
  },
  {
   "cell_type": "code",
   "execution_count": 3,
   "id": "466c62aa",
   "metadata": {},
   "outputs": [
    {
     "data": {
      "text/plain": [
       "str"
      ]
     },
     "execution_count": 3,
     "metadata": {},
     "output_type": "execute_result"
    }
   ],
   "source": [
    "type(data)"
   ]
  },
  {
   "cell_type": "code",
   "execution_count": 4,
   "id": "bd1981d8",
   "metadata": {},
   "outputs": [
    {
     "name": "stdout",
     "output_type": "stream",
     "text": [
      "md atik hasan \n"
     ]
    }
   ],
   "source": [
    "data = input()"
   ]
  },
  {
   "cell_type": "code",
   "execution_count": 5,
   "id": "a7d26ab6",
   "metadata": {},
   "outputs": [
    {
     "data": {
      "text/plain": [
       "str"
      ]
     },
     "execution_count": 5,
     "metadata": {},
     "output_type": "execute_result"
    }
   ],
   "source": [
    "type(data)"
   ]
  },
  {
   "cell_type": "code",
   "execution_count": 7,
   "id": "27930963",
   "metadata": {},
   "outputs": [
    {
     "name": "stdout",
     "output_type": "stream",
     "text": [
      "10\n",
      "20\n"
     ]
    }
   ],
   "source": [
    "x = input()\n",
    "y = input()"
   ]
  },
  {
   "cell_type": "code",
   "execution_count": 8,
   "id": "e0fbca72",
   "metadata": {},
   "outputs": [
    {
     "data": {
      "text/plain": [
       "'1020'"
      ]
     },
     "execution_count": 8,
     "metadata": {},
     "output_type": "execute_result"
    }
   ],
   "source": [
    "x+y"
   ]
  },
  {
   "cell_type": "code",
   "execution_count": 9,
   "id": "87aa38c9",
   "metadata": {},
   "outputs": [
    {
     "data": {
      "text/plain": [
       "1020"
      ]
     },
     "execution_count": 9,
     "metadata": {},
     "output_type": "execute_result"
    }
   ],
   "source": [
    "int(x+y)"
   ]
  },
  {
   "cell_type": "code",
   "execution_count": 10,
   "id": "88ea482d",
   "metadata": {},
   "outputs": [],
   "source": [
    "x = int(x)\n",
    "y = int(y)"
   ]
  },
  {
   "cell_type": "code",
   "execution_count": 11,
   "id": "143fc047",
   "metadata": {},
   "outputs": [
    {
     "data": {
      "text/plain": [
       "30"
      ]
     },
     "execution_count": 11,
     "metadata": {},
     "output_type": "execute_result"
    }
   ],
   "source": [
    "(x+y)"
   ]
  },
  {
   "cell_type": "code",
   "execution_count": 12,
   "id": "1e1c8463",
   "metadata": {},
   "outputs": [
    {
     "name": "stdout",
     "output_type": "stream",
     "text": [
      "Enter your first number : 2000\n"
     ]
    }
   ],
   "source": [
    "x = int(input(\"Enter your first number : \"))"
   ]
  },
  {
   "cell_type": "code",
   "execution_count": 13,
   "id": "e96b028c",
   "metadata": {},
   "outputs": [
    {
     "name": "stdout",
     "output_type": "stream",
     "text": [
      "2000\n"
     ]
    }
   ],
   "source": [
    "print(x)"
   ]
  },
  {
   "cell_type": "code",
   "execution_count": 15,
   "id": "0159ec30",
   "metadata": {},
   "outputs": [
    {
     "name": "stdout",
     "output_type": "stream",
     "text": [
      "Enter your 2nd num: 10.0\n"
     ]
    }
   ],
   "source": [
    "y = float(input(\"Enter your 2nd num: \"))\n"
   ]
  },
  {
   "cell_type": "code",
   "execution_count": 16,
   "id": "c504fad3",
   "metadata": {},
   "outputs": [
    {
     "name": "stdout",
     "output_type": "stream",
     "text": [
      "10.0\n"
     ]
    }
   ],
   "source": [
    "print(y)"
   ]
  },
  {
   "cell_type": "code",
   "execution_count": 17,
   "id": "ac4bc8e2",
   "metadata": {},
   "outputs": [
    {
     "data": {
      "text/plain": [
       "2010.0"
      ]
     },
     "execution_count": 17,
     "metadata": {},
     "output_type": "execute_result"
    }
   ],
   "source": [
    "x+y\n"
   ]
  },
  {
   "cell_type": "code",
   "execution_count": 18,
   "id": "5bf9c67f",
   "metadata": {},
   "outputs": [
    {
     "data": {
      "text/plain": [
       "2010.0"
      ]
     },
     "execution_count": 18,
     "metadata": {},
     "output_type": "execute_result"
    }
   ],
   "source": [
    "(x+y)"
   ]
  },
  {
   "cell_type": "code",
   "execution_count": 19,
   "id": "f99a14e7",
   "metadata": {},
   "outputs": [
    {
     "ename": "NameError",
     "evalue": "name 'Y' is not defined",
     "output_type": "error",
     "traceback": [
      "\u001b[0;31m---------------------------------------------------------------------------\u001b[0m",
      "\u001b[0;31mNameError\u001b[0m                                 Traceback (most recent call last)",
      "Cell \u001b[0;32mIn[19], line 1\u001b[0m\n\u001b[0;32m----> 1\u001b[0m \u001b[38;5;28mprint\u001b[39m(x\u001b[38;5;241m+\u001b[39m\u001b[43mY\u001b[49m)\n",
      "\u001b[0;31mNameError\u001b[0m: name 'Y' is not defined"
     ]
    }
   ],
   "source": [
    "print(x+Y)"
   ]
  },
  {
   "cell_type": "code",
   "execution_count": 20,
   "id": "e0f4ca5d",
   "metadata": {},
   "outputs": [
    {
     "ename": "TypeError",
     "evalue": "unsupported operand type(s) for -: 'str' and 'str'",
     "output_type": "error",
     "traceback": [
      "\u001b[0;31m---------------------------------------------------------------------------\u001b[0m",
      "\u001b[0;31mTypeError\u001b[0m                                 Traceback (most recent call last)",
      "Cell \u001b[0;32mIn[20], line 1\u001b[0m\n\u001b[0;32m----> 1\u001b[0m \u001b[43mdata\u001b[49m\u001b[43m \u001b[49m\u001b[38;5;241;43m-\u001b[39;49m\u001b[43m \u001b[49m\u001b[38;5;124;43m'\u001b[39;49m\u001b[38;5;124;43m60 days of python\u001b[39;49m\u001b[38;5;124;43m'\u001b[39;49m\n",
      "\u001b[0;31mTypeError\u001b[0m: unsupported operand type(s) for -: 'str' and 'str'"
     ]
    }
   ],
   "source": [
    "data - '60 days of python'"
   ]
  },
  {
   "cell_type": "code",
   "execution_count": 21,
   "id": "1d03b70d",
   "metadata": {},
   "outputs": [
    {
     "data": {
      "text/plain": [
       "14"
      ]
     },
     "execution_count": 21,
     "metadata": {},
     "output_type": "execute_result"
    }
   ],
   "source": [
    "len(data)"
   ]
  },
  {
   "cell_type": "code",
   "execution_count": 22,
   "id": "08299308",
   "metadata": {},
   "outputs": [
    {
     "data": {
      "text/plain": [
       "63"
      ]
     },
     "execution_count": 22,
     "metadata": {},
     "output_type": "execute_result"
    }
   ],
   "source": [
    "import sys\n",
    "sys.getsizeof(data)"
   ]
  },
  {
   "cell_type": "code",
   "execution_count": 23,
   "id": "2002f3a7",
   "metadata": {},
   "outputs": [
    {
     "data": {
      "text/plain": [
       "0"
      ]
     },
     "execution_count": 23,
     "metadata": {},
     "output_type": "execute_result"
    }
   ],
   "source": [
    "data.count('python')"
   ]
  },
  {
   "cell_type": "code",
   "execution_count": 24,
   "id": "e8c17e25",
   "metadata": {},
   "outputs": [],
   "source": [
    "sub = \"Days of\"\n"
   ]
  },
  {
   "cell_type": "code",
   "execution_count": 25,
   "id": "8eee083a",
   "metadata": {},
   "outputs": [
    {
     "data": {
      "text/plain": [
       "0"
      ]
     },
     "execution_count": 25,
     "metadata": {},
     "output_type": "execute_result"
    }
   ],
   "source": [
    "data.count(sub)"
   ]
  },
  {
   "cell_type": "markdown",
   "id": "c217f48e",
   "metadata": {},
   "source": [
    "# Python String Methods"
   ]
  },
  {
   "cell_type": "code",
   "execution_count": 26,
   "id": "6f0ee7d5",
   "metadata": {},
   "outputs": [
    {
     "data": {
      "text/plain": [
       "8"
      ]
     },
     "execution_count": 26,
     "metadata": {},
     "output_type": "execute_result"
    }
   ],
   "source": [
    "data = '60 Days of python'\n",
    "data.find('of')"
   ]
  },
  {
   "cell_type": "code",
   "execution_count": 27,
   "id": "c7614adf",
   "metadata": {},
   "outputs": [
    {
     "data": {
      "text/plain": [
       "9"
      ]
     },
     "execution_count": 27,
     "metadata": {},
     "output_type": "execute_result"
    }
   ],
   "source": [
    "data.find('f') #find value from string"
   ]
  },
  {
   "cell_type": "code",
   "execution_count": 29,
   "id": "9ce6eeaa",
   "metadata": {},
   "outputs": [
    {
     "data": {
      "text/plain": [
       "-1"
      ]
     },
     "execution_count": 29,
     "metadata": {},
     "output_type": "execute_result"
    }
   ],
   "source": [
    "data.find('y',6,10)"
   ]
  },
  {
   "cell_type": "code",
   "execution_count": 30,
   "id": "15ae98fe",
   "metadata": {},
   "outputs": [
    {
     "data": {
      "text/plain": [
       "5"
      ]
     },
     "execution_count": 30,
     "metadata": {},
     "output_type": "execute_result"
    }
   ],
   "source": [
    "data.index('y')"
   ]
  },
  {
   "cell_type": "code",
   "execution_count": 31,
   "id": "c743cfe8",
   "metadata": {},
   "outputs": [
    {
     "data": {
      "text/plain": [
       "12"
      ]
     },
     "execution_count": 31,
     "metadata": {},
     "output_type": "execute_result"
    }
   ],
   "source": [
    "data.index('y',6,13)"
   ]
  },
  {
   "cell_type": "code",
   "execution_count": 32,
   "id": "212832e4",
   "metadata": {},
   "outputs": [
    {
     "ename": "ValueError",
     "evalue": "substring not found",
     "output_type": "error",
     "traceback": [
      "\u001b[0;31m---------------------------------------------------------------------------\u001b[0m",
      "\u001b[0;31mValueError\u001b[0m                                Traceback (most recent call last)",
      "Cell \u001b[0;32mIn[32], line 1\u001b[0m\n\u001b[0;32m----> 1\u001b[0m \u001b[43mdata\u001b[49m\u001b[38;5;241;43m.\u001b[39;49m\u001b[43mindex\u001b[49m\u001b[43m(\u001b[49m\u001b[38;5;124;43m'\u001b[39;49m\u001b[38;5;124;43mai\u001b[39;49m\u001b[38;5;124;43m'\u001b[39;49m\u001b[43m)\u001b[49m\n",
      "\u001b[0;31mValueError\u001b[0m: substring not found"
     ]
    }
   ],
   "source": [
    "data.index('ai')"
   ]
  },
  {
   "cell_type": "code",
   "execution_count": 33,
   "id": "bcd525ea",
   "metadata": {},
   "outputs": [
    {
     "data": {
      "text/plain": [
       "'60 days of python'"
      ]
     },
     "execution_count": 33,
     "metadata": {},
     "output_type": "execute_result"
    }
   ],
   "source": [
    "data.lower()"
   ]
  },
  {
   "cell_type": "code",
   "execution_count": 34,
   "id": "9c87564f",
   "metadata": {},
   "outputs": [
    {
     "data": {
      "text/plain": [
       "'60 DAYS OF PYTHON'"
      ]
     },
     "execution_count": 34,
     "metadata": {},
     "output_type": "execute_result"
    }
   ],
   "source": [
    "data.upper()"
   ]
  },
  {
   "cell_type": "code",
   "execution_count": 35,
   "id": "1f5c3745",
   "metadata": {},
   "outputs": [
    {
     "ename": "TypeError",
     "evalue": "count() takes at least 1 argument (0 given)",
     "output_type": "error",
     "traceback": [
      "\u001b[0;31m---------------------------------------------------------------------------\u001b[0m",
      "\u001b[0;31mTypeError\u001b[0m                                 Traceback (most recent call last)",
      "Cell \u001b[0;32mIn[35], line 1\u001b[0m\n\u001b[0;32m----> 1\u001b[0m \u001b[43mdata\u001b[49m\u001b[38;5;241;43m.\u001b[39;49m\u001b[43mcount\u001b[49m\u001b[43m(\u001b[49m\u001b[43m)\u001b[49m\n",
      "\u001b[0;31mTypeError\u001b[0m: count() takes at least 1 argument (0 given)"
     ]
    }
   ],
   "source": [
    "data.count()"
   ]
  },
  {
   "cell_type": "code",
   "execution_count": 36,
   "id": "0211ac45",
   "metadata": {},
   "outputs": [
    {
     "data": {
      "text/plain": [
       "'60 days of python'"
      ]
     },
     "execution_count": 36,
     "metadata": {},
     "output_type": "execute_result"
    }
   ],
   "source": [
    "data.casefold() #lowerCase"
   ]
  },
  {
   "cell_type": "code",
   "execution_count": 40,
   "id": "ba49d26b",
   "metadata": {},
   "outputs": [
    {
     "data": {
      "text/plain": [
       "'60 days of python'"
      ]
     },
     "execution_count": 40,
     "metadata": {},
     "output_type": "execute_result"
    }
   ],
   "source": [
    "data.capitalize()"
   ]
  },
  {
   "cell_type": "code",
   "execution_count": 41,
   "id": "65505cde",
   "metadata": {},
   "outputs": [],
   "source": [
    "x = 'data science is fun'\n"
   ]
  },
  {
   "cell_type": "code",
   "execution_count": 43,
   "id": "0ae8198e",
   "metadata": {},
   "outputs": [
    {
     "data": {
      "text/plain": [
       "'Data science is fun'"
      ]
     },
     "execution_count": 43,
     "metadata": {},
     "output_type": "execute_result"
    }
   ],
   "source": [
    "x.capitalize() #convert only first char into uper case"
   ]
  },
  {
   "cell_type": "code",
   "execution_count": 44,
   "id": "c4a4452b",
   "metadata": {},
   "outputs": [
    {
     "data": {
      "text/plain": [
       "'DATA SCIENCE IS FUN'"
      ]
     },
     "execution_count": 44,
     "metadata": {},
     "output_type": "execute_result"
    }
   ],
   "source": [
    "x.swapcase()"
   ]
  },
  {
   "cell_type": "code",
   "execution_count": 46,
   "id": "48b5a3b5",
   "metadata": {},
   "outputs": [
    {
     "data": {
      "text/plain": [
       "'Data Science Is Fun'"
      ]
     },
     "execution_count": 46,
     "metadata": {},
     "output_type": "execute_result"
    }
   ],
   "source": [
    "x.title() #first char is upper each word"
   ]
  },
  {
   "cell_type": "code",
   "execution_count": 47,
   "id": "6e6a4980",
   "metadata": {},
   "outputs": [
    {
     "data": {
      "text/plain": [
       "True"
      ]
     },
     "execution_count": 47,
     "metadata": {},
     "output_type": "execute_result"
    }
   ],
   "source": [
    "x.islower()"
   ]
  },
  {
   "cell_type": "code",
   "execution_count": 48,
   "id": "2564f101",
   "metadata": {},
   "outputs": [
    {
     "data": {
      "text/plain": [
       "False"
      ]
     },
     "execution_count": 48,
     "metadata": {},
     "output_type": "execute_result"
    }
   ],
   "source": [
    "x.isupper()"
   ]
  },
  {
   "cell_type": "code",
   "execution_count": 49,
   "id": "3dbc0336",
   "metadata": {},
   "outputs": [
    {
     "ename": "AttributeError",
     "evalue": "'str' object has no attribute 'digit'",
     "output_type": "error",
     "traceback": [
      "\u001b[0;31m---------------------------------------------------------------------------\u001b[0m",
      "\u001b[0;31mAttributeError\u001b[0m                            Traceback (most recent call last)",
      "Cell \u001b[0;32mIn[49], line 1\u001b[0m\n\u001b[0;32m----> 1\u001b[0m \u001b[43mx\u001b[49m\u001b[38;5;241;43m.\u001b[39;49m\u001b[43mdigit\u001b[49m()\n",
      "\u001b[0;31mAttributeError\u001b[0m: 'str' object has no attribute 'digit'"
     ]
    }
   ],
   "source": [
    "x.digit()"
   ]
  },
  {
   "cell_type": "code",
   "execution_count": 50,
   "id": "41f094cc",
   "metadata": {},
   "outputs": [
    {
     "data": {
      "text/plain": [
       "False"
      ]
     },
     "execution_count": 50,
     "metadata": {},
     "output_type": "execute_result"
    }
   ],
   "source": [
    "x.isdigit()"
   ]
  },
  {
   "cell_type": "code",
   "execution_count": 51,
   "id": "e708176c",
   "metadata": {},
   "outputs": [
    {
     "data": {
      "text/plain": [
       "b'data science is fun'"
      ]
     },
     "execution_count": 51,
     "metadata": {},
     "output_type": "execute_result"
    }
   ],
   "source": [
    "x.encode()"
   ]
  },
  {
   "cell_type": "code",
   "execution_count": 52,
   "id": "9beab55b",
   "metadata": {},
   "outputs": [
    {
     "data": {
      "text/plain": [
       "bytes"
      ]
     },
     "execution_count": 52,
     "metadata": {},
     "output_type": "execute_result"
    }
   ],
   "source": [
    "type(x.encode())"
   ]
  },
  {
   "cell_type": "code",
   "execution_count": 53,
   "id": "625f9d38",
   "metadata": {},
   "outputs": [
    {
     "data": {
      "text/plain": [
       "['data', 'science', 'is', 'fun']"
      ]
     },
     "execution_count": 53,
     "metadata": {},
     "output_type": "execute_result"
    }
   ],
   "source": [
    "x.split()"
   ]
  },
  {
   "cell_type": "code",
   "execution_count": 54,
   "id": "68317f1f",
   "metadata": {},
   "outputs": [
    {
     "data": {
      "text/plain": [
       "'data'"
      ]
     },
     "execution_count": 54,
     "metadata": {},
     "output_type": "execute_result"
    }
   ],
   "source": [
    "x.split()[0]"
   ]
  },
  {
   "cell_type": "code",
   "execution_count": 55,
   "id": "a3571219",
   "metadata": {},
   "outputs": [
    {
     "data": {
      "text/plain": [
       "'science'"
      ]
     },
     "execution_count": 55,
     "metadata": {},
     "output_type": "execute_result"
    }
   ],
   "source": [
    "x.split()[1]"
   ]
  },
  {
   "cell_type": "code",
   "execution_count": 56,
   "id": "8a21c8d2",
   "metadata": {},
   "outputs": [
    {
     "data": {
      "text/plain": [
       "'               data science is fun                '"
      ]
     },
     "execution_count": 56,
     "metadata": {},
     "output_type": "execute_result"
    }
   ],
   "source": [
    "x.center(50)"
   ]
  },
  {
   "cell_type": "code",
   "execution_count": 57,
   "id": "4c9a1bfb",
   "metadata": {},
   "outputs": [
    {
     "data": {
      "text/plain": [
       "'AI science is fun'"
      ]
     },
     "execution_count": 57,
     "metadata": {},
     "output_type": "execute_result"
    }
   ],
   "source": [
    "x.replace('data','AI')"
   ]
  },
  {
   "cell_type": "code",
   "execution_count": 60,
   "id": "1f3f2005",
   "metadata": {},
   "outputs": [
    {
     "name": "stdout",
     "output_type": "stream",
     "text": [
      "I have 100 taka\n"
     ]
    }
   ],
   "source": [
    "x = 10\n",
    "y = 10\n",
    "z = x*y\n",
    "print('I have',z,'taka')"
   ]
  },
  {
   "cell_type": "code",
   "execution_count": 61,
   "id": "1174a4b2",
   "metadata": {},
   "outputs": [
    {
     "name": "stdout",
     "output_type": "stream",
     "text": [
      "I have 100 taka\n"
     ]
    }
   ],
   "source": [
    "print('I have {} taka'.format(z))"
   ]
  },
  {
   "cell_type": "markdown",
   "id": "086c4d4d",
   "metadata": {},
   "source": [
    "\n",
    "# Numeric Data"
   ]
  },
  {
   "cell_type": "code",
   "execution_count": 1,
   "id": "edc0a6a9",
   "metadata": {},
   "outputs": [],
   "source": [
    "x = 10  #integer number\n",
    "y = 10.5 #floating number \n",
    "z = 10 + 5j #10 is real number and 5j is imaginary part\n",
    "\n"
   ]
  },
  {
   "cell_type": "code",
   "execution_count": 2,
   "id": "563b0ac4",
   "metadata": {},
   "outputs": [
    {
     "data": {
      "text/plain": [
       "int"
      ]
     },
     "execution_count": 2,
     "metadata": {},
     "output_type": "execute_result"
    }
   ],
   "source": [
    "type(x)"
   ]
  },
  {
   "cell_type": "code",
   "execution_count": 3,
   "id": "07adcd8a",
   "metadata": {},
   "outputs": [
    {
     "data": {
      "text/plain": [
       "float"
      ]
     },
     "execution_count": 3,
     "metadata": {},
     "output_type": "execute_result"
    }
   ],
   "source": [
    "type(y)"
   ]
  },
  {
   "cell_type": "code",
   "execution_count": 4,
   "id": "cc070ab3",
   "metadata": {},
   "outputs": [
    {
     "data": {
      "text/plain": [
       "complex"
      ]
     },
     "execution_count": 4,
     "metadata": {},
     "output_type": "execute_result"
    }
   ],
   "source": [
    "type(z)"
   ]
  },
  {
   "cell_type": "code",
   "execution_count": 5,
   "id": "f13c6ad7",
   "metadata": {},
   "outputs": [
    {
     "data": {
      "text/plain": [
       "True"
      ]
     },
     "execution_count": 5,
     "metadata": {},
     "output_type": "execute_result"
    }
   ],
   "source": [
    "isinstance(z,complex)"
   ]
  },
  {
   "cell_type": "code",
   "execution_count": 7,
   "id": "28d8b2ce",
   "metadata": {},
   "outputs": [
    {
     "data": {
      "text/plain": [
       "True"
      ]
     },
     "execution_count": 7,
     "metadata": {},
     "output_type": "execute_result"
    }
   ],
   "source": [
    "isinstance(x,int)"
   ]
  },
  {
   "cell_type": "code",
   "execution_count": 8,
   "id": "4594e78a",
   "metadata": {},
   "outputs": [
    {
     "data": {
      "text/plain": [
       "True"
      ]
     },
     "execution_count": 8,
     "metadata": {},
     "output_type": "execute_result"
    }
   ],
   "source": [
    "isinstance(y,float)"
   ]
  },
  {
   "cell_type": "code",
   "execution_count": 9,
   "id": "0ef7e533",
   "metadata": {},
   "outputs": [],
   "source": [
    "#int to float\n",
    "n = float(x);"
   ]
  },
  {
   "cell_type": "code",
   "execution_count": 10,
   "id": "9f87ec30",
   "metadata": {},
   "outputs": [
    {
     "data": {
      "text/plain": [
       "float"
      ]
     },
     "execution_count": 10,
     "metadata": {},
     "output_type": "execute_result"
    }
   ],
   "source": [
    "type(n)"
   ]
  },
  {
   "cell_type": "code",
   "execution_count": 11,
   "id": "cd2cda8b",
   "metadata": {},
   "outputs": [
    {
     "data": {
      "text/plain": [
       "True"
      ]
     },
     "execution_count": 11,
     "metadata": {},
     "output_type": "execute_result"
    }
   ],
   "source": [
    "isinstance(n,float)"
   ]
  },
  {
   "cell_type": "code",
   "execution_count": 12,
   "id": "c7d00ce6",
   "metadata": {},
   "outputs": [
    {
     "name": "stdout",
     "output_type": "stream",
     "text": [
      "10.0\n"
     ]
    }
   ],
   "source": [
    "print(n)"
   ]
  },
  {
   "cell_type": "code",
   "execution_count": 13,
   "id": "96f16009",
   "metadata": {},
   "outputs": [
    {
     "data": {
      "text/plain": [
       "int"
      ]
     },
     "execution_count": 13,
     "metadata": {},
     "output_type": "execute_result"
    }
   ],
   "source": [
    "n = int(n)\n",
    "type(n)"
   ]
  },
  {
   "cell_type": "code",
   "execution_count": 14,
   "id": "8ce150e8",
   "metadata": {},
   "outputs": [
    {
     "data": {
      "text/plain": [
       "True"
      ]
     },
     "execution_count": 14,
     "metadata": {},
     "output_type": "execute_result"
    }
   ],
   "source": [
    "isinstance(n,int)"
   ]
  },
  {
   "cell_type": "code",
   "execution_count": 15,
   "id": "5bf7f44b",
   "metadata": {},
   "outputs": [
    {
     "data": {
      "text/plain": [
       "complex"
      ]
     },
     "execution_count": 15,
     "metadata": {},
     "output_type": "execute_result"
    }
   ],
   "source": [
    "#int to complex\n",
    "n = complex(n)\n",
    "type(n)"
   ]
  },
  {
   "cell_type": "code",
   "execution_count": 16,
   "id": "c3865b49",
   "metadata": {},
   "outputs": [
    {
     "data": {
      "text/plain": [
       "(10+0j)"
      ]
     },
     "execution_count": 16,
     "metadata": {},
     "output_type": "execute_result"
    }
   ],
   "source": [
    "n"
   ]
  },
  {
   "cell_type": "code",
   "execution_count": 17,
   "id": "0214b6a2",
   "metadata": {},
   "outputs": [
    {
     "ename": "TypeError",
     "evalue": "int() argument must be a string, a bytes-like object or a real number, not 'complex'",
     "output_type": "error",
     "traceback": [
      "\u001b[0;31m---------------------------------------------------------------------------\u001b[0m",
      "\u001b[0;31mTypeError\u001b[0m                                 Traceback (most recent call last)",
      "Cell \u001b[0;32mIn[17], line 1\u001b[0m\n\u001b[0;32m----> 1\u001b[0m n \u001b[38;5;241m=\u001b[39m \u001b[38;5;28;43mint\u001b[39;49m\u001b[43m(\u001b[49m\u001b[43mn\u001b[49m\u001b[43m)\u001b[49m\n",
      "\u001b[0;31mTypeError\u001b[0m: int() argument must be a string, a bytes-like object or a real number, not 'complex'"
     ]
    }
   ],
   "source": [
    "n = int(n)"
   ]
  },
  {
   "cell_type": "code",
   "execution_count": 18,
   "id": "22dda5bd",
   "metadata": {},
   "outputs": [
    {
     "ename": "TypeError",
     "evalue": "float() argument must be a string or a real number, not 'complex'",
     "output_type": "error",
     "traceback": [
      "\u001b[0;31m---------------------------------------------------------------------------\u001b[0m",
      "\u001b[0;31mTypeError\u001b[0m                                 Traceback (most recent call last)",
      "Cell \u001b[0;32mIn[18], line 1\u001b[0m\n\u001b[0;32m----> 1\u001b[0m n \u001b[38;5;241m=\u001b[39m \u001b[38;5;28;43mfloat\u001b[39;49m\u001b[43m(\u001b[49m\u001b[43mn\u001b[49m\u001b[43m)\u001b[49m\n",
      "\u001b[0;31mTypeError\u001b[0m: float() argument must be a string or a real number, not 'complex'"
     ]
    }
   ],
   "source": [
    "n = float(n)"
   ]
  },
  {
   "cell_type": "code",
   "execution_count": 22,
   "id": "a8a80ebb",
   "metadata": {},
   "outputs": [
    {
     "name": "stdout",
     "output_type": "stream",
     "text": [
      "Enter your complex number : 1+5j\n"
     ]
    }
   ],
   "source": [
    "n = complex(input('Enter your complex number : '))"
   ]
  },
  {
   "cell_type": "code",
   "execution_count": 21,
   "id": "0984b08a",
   "metadata": {},
   "outputs": [
    {
     "data": {
      "text/plain": [
       "(1+0j)"
      ]
     },
     "execution_count": 21,
     "metadata": {},
     "output_type": "execute_result"
    }
   ],
   "source": [
    "n"
   ]
  },
  {
   "cell_type": "code",
   "execution_count": 23,
   "id": "c1b7ac08",
   "metadata": {},
   "outputs": [
    {
     "data": {
      "text/plain": [
       "(1+5j)"
      ]
     },
     "execution_count": 23,
     "metadata": {},
     "output_type": "execute_result"
    }
   ],
   "source": [
    "n"
   ]
  },
  {
   "cell_type": "code",
   "execution_count": 24,
   "id": "574943aa",
   "metadata": {},
   "outputs": [
    {
     "data": {
      "text/plain": [
       "complex"
      ]
     },
     "execution_count": 24,
     "metadata": {},
     "output_type": "execute_result"
    }
   ],
   "source": [
    "type(n)"
   ]
  },
  {
   "cell_type": "code",
   "execution_count": 26,
   "id": "3da44811",
   "metadata": {},
   "outputs": [
    {
     "data": {
      "text/plain": [
       "True"
      ]
     },
     "execution_count": 26,
     "metadata": {},
     "output_type": "execute_result"
    }
   ],
   "source": [
    "isinstance(n,complex)"
   ]
  },
  {
   "cell_type": "markdown",
   "id": "f143dee6",
   "metadata": {},
   "source": [
    "# Bool"
   ]
  },
  {
   "cell_type": "code",
   "execution_count": 29,
   "id": "584351f3",
   "metadata": {},
   "outputs": [],
   "source": [
    "x = True\n",
    "y = False"
   ]
  },
  {
   "cell_type": "code",
   "execution_count": 30,
   "id": "abbc233e",
   "metadata": {},
   "outputs": [
    {
     "data": {
      "text/plain": [
       "True"
      ]
     },
     "execution_count": 30,
     "metadata": {},
     "output_type": "execute_result"
    }
   ],
   "source": [
    "x\n"
   ]
  },
  {
   "cell_type": "code",
   "execution_count": 31,
   "id": "c3355db8",
   "metadata": {},
   "outputs": [
    {
     "data": {
      "text/plain": [
       "False"
      ]
     },
     "execution_count": 31,
     "metadata": {},
     "output_type": "execute_result"
    }
   ],
   "source": [
    "y"
   ]
  },
  {
   "cell_type": "code",
   "execution_count": 32,
   "id": "75965f98",
   "metadata": {},
   "outputs": [
    {
     "data": {
      "text/plain": [
       "True"
      ]
     },
     "execution_count": 32,
     "metadata": {},
     "output_type": "execute_result"
    }
   ],
   "source": [
    "True"
   ]
  },
  {
   "cell_type": "code",
   "execution_count": 33,
   "id": "a55a9ed3",
   "metadata": {},
   "outputs": [
    {
     "ename": "NameError",
     "evalue": "name 'true' is not defined",
     "output_type": "error",
     "traceback": [
      "\u001b[0;31m---------------------------------------------------------------------------\u001b[0m",
      "\u001b[0;31mNameError\u001b[0m                                 Traceback (most recent call last)",
      "Cell \u001b[0;32mIn[33], line 1\u001b[0m\n\u001b[0;32m----> 1\u001b[0m \u001b[43mtrue\u001b[49m\n",
      "\u001b[0;31mNameError\u001b[0m: name 'true' is not defined"
     ]
    }
   ],
   "source": [
    "true"
   ]
  },
  {
   "cell_type": "code",
   "execution_count": 34,
   "id": "b28806d5",
   "metadata": {},
   "outputs": [
    {
     "ename": "NameError",
     "evalue": "name 'false' is not defined",
     "output_type": "error",
     "traceback": [
      "\u001b[0;31m---------------------------------------------------------------------------\u001b[0m",
      "\u001b[0;31mNameError\u001b[0m                                 Traceback (most recent call last)",
      "Cell \u001b[0;32mIn[34], line 1\u001b[0m\n\u001b[0;32m----> 1\u001b[0m \u001b[43mfalse\u001b[49m\n",
      "\u001b[0;31mNameError\u001b[0m: name 'false' is not defined"
     ]
    }
   ],
   "source": [
    "false"
   ]
  },
  {
   "cell_type": "markdown",
   "id": "5ebe0b1f",
   "metadata": {},
   "source": [
    "# Sequence Data"
   ]
  },
  {
   "cell_type": "code",
   "execution_count": 35,
   "id": "ed6f4c30",
   "metadata": {},
   "outputs": [],
   "source": [
    "#list[]\n",
    "l = [1,2,3,4,True,[1,3],'data',(1,2,3,4)]\n"
   ]
  },
  {
   "cell_type": "code",
   "execution_count": 36,
   "id": "4b4ac933",
   "metadata": {},
   "outputs": [
    {
     "data": {
      "text/plain": [
       "1"
      ]
     },
     "execution_count": 36,
     "metadata": {},
     "output_type": "execute_result"
    }
   ],
   "source": [
    "l[0]"
   ]
  },
  {
   "cell_type": "code",
   "execution_count": 37,
   "id": "26ec1994",
   "metadata": {},
   "outputs": [
    {
     "data": {
      "text/plain": [
       "(1, 2, 3, 4)"
      ]
     },
     "execution_count": 37,
     "metadata": {},
     "output_type": "execute_result"
    }
   ],
   "source": [
    "l[-1]"
   ]
  },
  {
   "cell_type": "code",
   "execution_count": 38,
   "id": "125c2ea8",
   "metadata": {},
   "outputs": [
    {
     "data": {
      "text/plain": [
       "1"
      ]
     },
     "execution_count": 38,
     "metadata": {},
     "output_type": "execute_result"
    }
   ],
   "source": [
    "l[-1][0]"
   ]
  },
  {
   "cell_type": "code",
   "execution_count": 39,
   "id": "41be50d6",
   "metadata": {},
   "outputs": [
    {
     "data": {
      "text/plain": [
       "4"
      ]
     },
     "execution_count": 39,
     "metadata": {},
     "output_type": "execute_result"
    }
   ],
   "source": [
    "l[-1][-1]"
   ]
  },
  {
   "cell_type": "code",
   "execution_count": 40,
   "id": "46981af6",
   "metadata": {},
   "outputs": [
    {
     "data": {
      "text/plain": [
       "list"
      ]
     },
     "execution_count": 40,
     "metadata": {},
     "output_type": "execute_result"
    }
   ],
   "source": [
    "type(l)"
   ]
  },
  {
   "cell_type": "code",
   "execution_count": 41,
   "id": "774e0f20",
   "metadata": {},
   "outputs": [
    {
     "data": {
      "text/plain": [
       "True"
      ]
     },
     "execution_count": 41,
     "metadata": {},
     "output_type": "execute_result"
    }
   ],
   "source": [
    "isinstance(l,list)"
   ]
  },
  {
   "cell_type": "code",
   "execution_count": 42,
   "id": "1e5f16c4",
   "metadata": {},
   "outputs": [],
   "source": [
    "#tuple()\n",
    "t = (1,2,3,4,'ai')\n"
   ]
  },
  {
   "cell_type": "code",
   "execution_count": 43,
   "id": "8aabc040",
   "metadata": {},
   "outputs": [
    {
     "data": {
      "text/plain": [
       "tuple"
      ]
     },
     "execution_count": 43,
     "metadata": {},
     "output_type": "execute_result"
    }
   ],
   "source": [
    "type(t)"
   ]
  },
  {
   "cell_type": "code",
   "execution_count": 44,
   "id": "269ff205",
   "metadata": {},
   "outputs": [
    {
     "data": {
      "text/plain": [
       "True"
      ]
     },
     "execution_count": 44,
     "metadata": {},
     "output_type": "execute_result"
    }
   ],
   "source": [
    "isinstance(t,tuple)"
   ]
  },
  {
   "cell_type": "code",
   "execution_count": 45,
   "id": "9f26a770",
   "metadata": {},
   "outputs": [
    {
     "data": {
      "text/plain": [
       "1"
      ]
     },
     "execution_count": 45,
     "metadata": {},
     "output_type": "execute_result"
    }
   ],
   "source": [
    "t[0]"
   ]
  },
  {
   "cell_type": "code",
   "execution_count": 46,
   "id": "442df39e",
   "metadata": {},
   "outputs": [
    {
     "data": {
      "text/plain": [
       "(1, 2, 3, 4)"
      ]
     },
     "execution_count": 46,
     "metadata": {},
     "output_type": "execute_result"
    }
   ],
   "source": [
    "t[0:4]"
   ]
  },
  {
   "cell_type": "code",
   "execution_count": 47,
   "id": "610ba3ee",
   "metadata": {},
   "outputs": [
    {
     "data": {
      "text/plain": [
       "[1, 2, 3, 4]"
      ]
     },
     "execution_count": 47,
     "metadata": {},
     "output_type": "execute_result"
    }
   ],
   "source": [
    "l[0:4]"
   ]
  },
  {
   "cell_type": "code",
   "execution_count": 48,
   "id": "a46a501d",
   "metadata": {},
   "outputs": [
    {
     "data": {
      "text/plain": [
       "[1, 2, 3, 4, True, [1, 3]]"
      ]
     },
     "execution_count": 48,
     "metadata": {},
     "output_type": "execute_result"
    }
   ],
   "source": [
    "l[0:6]"
   ]
  },
  {
   "cell_type": "code",
   "execution_count": 49,
   "id": "fc89289b",
   "metadata": {},
   "outputs": [],
   "source": [
    "#Range()\n",
    "x = range(10) #first case\n"
   ]
  },
  {
   "cell_type": "code",
   "execution_count": 50,
   "id": "9a2e0c67",
   "metadata": {},
   "outputs": [
    {
     "data": {
      "text/plain": [
       "range(0, 10)"
      ]
     },
     "execution_count": 50,
     "metadata": {},
     "output_type": "execute_result"
    }
   ],
   "source": [
    "x"
   ]
  },
  {
   "cell_type": "code",
   "execution_count": 52,
   "id": "f9416889",
   "metadata": {},
   "outputs": [
    {
     "name": "stdout",
     "output_type": "stream",
     "text": [
      "0\n",
      "1\n",
      "2\n",
      "3\n",
      "4\n",
      "5\n",
      "6\n",
      "7\n",
      "8\n",
      "9\n"
     ]
    }
   ],
   "source": [
    "for i in x:\n",
    "    print(i)"
   ]
  },
  {
   "cell_type": "code",
   "execution_count": 53,
   "id": "bb04daf0",
   "metadata": {},
   "outputs": [],
   "source": [
    "x = range(5,20) #second case "
   ]
  },
  {
   "cell_type": "code",
   "execution_count": 54,
   "id": "59153f8c",
   "metadata": {},
   "outputs": [
    {
     "name": "stdout",
     "output_type": "stream",
     "text": [
      "5\n",
      "6\n",
      "7\n",
      "8\n",
      "9\n",
      "10\n",
      "11\n",
      "12\n",
      "13\n",
      "14\n",
      "15\n",
      "16\n",
      "17\n",
      "18\n",
      "19\n"
     ]
    }
   ],
   "source": [
    "for i in x:\n",
    "    print(i)"
   ]
  },
  {
   "cell_type": "code",
   "execution_count": 55,
   "id": "568ec175",
   "metadata": {},
   "outputs": [],
   "source": [
    "x = range(5,20,3) # third case increment"
   ]
  },
  {
   "cell_type": "code",
   "execution_count": 56,
   "id": "452b3c78",
   "metadata": {},
   "outputs": [
    {
     "name": "stdout",
     "output_type": "stream",
     "text": [
      "5\n",
      "8\n",
      "11\n",
      "14\n",
      "17\n"
     ]
    }
   ],
   "source": [
    "for i in x:\n",
    "    print(i)"
   ]
  },
  {
   "cell_type": "code",
   "execution_count": 57,
   "id": "f7314d5d",
   "metadata": {},
   "outputs": [],
   "source": [
    "x = range(20,5,-3) #fourth case reverse"
   ]
  },
  {
   "cell_type": "code",
   "execution_count": 58,
   "id": "2376d479",
   "metadata": {},
   "outputs": [
    {
     "name": "stdout",
     "output_type": "stream",
     "text": [
      "20\n",
      "17\n",
      "14\n",
      "11\n",
      "8\n"
     ]
    }
   ],
   "source": [
    "for i in x:\n",
    "    print(i)"
   ]
  },
  {
   "cell_type": "code",
   "execution_count": 59,
   "id": "d1017eed",
   "metadata": {},
   "outputs": [],
   "source": [
    "#array\n",
    "import array as ar  #as diye rename kore nilam"
   ]
  },
  {
   "cell_type": "code",
   "execution_count": 61,
   "id": "93e50bc3",
   "metadata": {},
   "outputs": [],
   "source": [
    "a = ar.array('i',[1,2,3,4])"
   ]
  },
  {
   "cell_type": "code",
   "execution_count": 62,
   "id": "563a7d61",
   "metadata": {},
   "outputs": [
    {
     "data": {
      "text/plain": [
       "array.array"
      ]
     },
     "execution_count": 62,
     "metadata": {},
     "output_type": "execute_result"
    }
   ],
   "source": [
    "type(a)"
   ]
  },
  {
   "cell_type": "code",
   "execution_count": 63,
   "id": "cd41e37e",
   "metadata": {},
   "outputs": [],
   "source": [
    "a = ar.array('f',[1,2,3,4])"
   ]
  },
  {
   "cell_type": "code",
   "execution_count": 64,
   "id": "e3a0b405",
   "metadata": {},
   "outputs": [
    {
     "data": {
      "text/plain": [
       "array.array"
      ]
     },
     "execution_count": 64,
     "metadata": {},
     "output_type": "execute_result"
    }
   ],
   "source": [
    "type(a)"
   ]
  },
  {
   "cell_type": "code",
   "execution_count": 1,
   "id": "caa7fbe7",
   "metadata": {},
   "outputs": [
    {
     "data": {
      "text/plain": [
       "str"
      ]
     },
     "execution_count": 1,
     "metadata": {},
     "output_type": "execute_result"
    }
   ],
   "source": [
    "#string \n",
    "x = 'data'\n",
    "type(x)"
   ]
  },
  {
   "cell_type": "code",
   "execution_count": 2,
   "id": "7c00fc53",
   "metadata": {},
   "outputs": [
    {
     "data": {
      "text/plain": [
       "str"
      ]
     },
     "execution_count": 2,
     "metadata": {},
     "output_type": "execute_result"
    }
   ],
   "source": [
    "x = \"data\"\n",
    "type(x)"
   ]
  },
  {
   "cell_type": "code",
   "execution_count": 3,
   "id": "e7b6bd0d",
   "metadata": {},
   "outputs": [],
   "source": [
    "x = \"\"\"\n",
    "I love data\n",
    "science.\n",
    "\"\"\""
   ]
  },
  {
   "cell_type": "code",
   "execution_count": 4,
   "id": "a0a7062a",
   "metadata": {},
   "outputs": [
    {
     "data": {
      "text/plain": [
       "'\\nI love data\\nscience.\\n'"
      ]
     },
     "execution_count": 4,
     "metadata": {},
     "output_type": "execute_result"
    }
   ],
   "source": [
    "x"
   ]
  },
  {
   "cell_type": "code",
   "execution_count": 5,
   "id": "789b230b",
   "metadata": {},
   "outputs": [
    {
     "name": "stdout",
     "output_type": "stream",
     "text": [
      "\n",
      "I love data\n",
      "science.\n",
      "\n"
     ]
    }
   ],
   "source": [
    "print(x)"
   ]
  },
  {
   "cell_type": "code",
   "execution_count": 6,
   "id": "ba37f4c8",
   "metadata": {},
   "outputs": [
    {
     "data": {
      "text/plain": [
       "str"
      ]
     },
     "execution_count": 6,
     "metadata": {},
     "output_type": "execute_result"
    }
   ],
   "source": [
    "type(x)"
   ]
  },
  {
   "cell_type": "markdown",
   "id": "6280afbf",
   "metadata": {},
   "source": [
    "# set data"
   ]
  },
  {
   "cell_type": "code",
   "execution_count": 7,
   "id": "dc2cb74c",
   "metadata": {},
   "outputs": [
    {
     "data": {
      "text/plain": [
       "set"
      ]
     },
     "execution_count": 7,
     "metadata": {},
     "output_type": "execute_result"
    }
   ],
   "source": [
    "s = {1,2,3,4}\n",
    "type(s)"
   ]
  },
  {
   "cell_type": "code",
   "execution_count": 9,
   "id": "044617a3",
   "metadata": {},
   "outputs": [],
   "source": [
    "#mapping\n",
    "dic={\n",
    "    'varsity' : 'Fau German',\n",
    "    'Dept' : 'data science'\n",
    "    \n",
    "}"
   ]
  },
  {
   "cell_type": "code",
   "execution_count": 10,
   "id": "38e0bc9b",
   "metadata": {},
   "outputs": [
    {
     "data": {
      "text/plain": [
       "dict"
      ]
     },
     "execution_count": 10,
     "metadata": {},
     "output_type": "execute_result"
    }
   ],
   "source": [
    "type(dic)"
   ]
  },
  {
   "cell_type": "code",
   "execution_count": 12,
   "id": "2f5e69c2",
   "metadata": {},
   "outputs": [
    {
     "data": {
      "text/plain": [
       "dict_keys(['varsity', 'Dept'])"
      ]
     },
     "execution_count": 12,
     "metadata": {},
     "output_type": "execute_result"
    }
   ],
   "source": [
    "dic.keys()"
   ]
  },
  {
   "cell_type": "code",
   "execution_count": 13,
   "id": "04bb528b",
   "metadata": {},
   "outputs": [
    {
     "data": {
      "text/plain": [
       "dict_values(['Fau German', 'data science'])"
      ]
     },
     "execution_count": 13,
     "metadata": {},
     "output_type": "execute_result"
    }
   ],
   "source": [
    "dic.values()"
   ]
  },
  {
   "cell_type": "markdown",
   "id": "43071b9a",
   "metadata": {},
   "source": [
    "# Data Frame"
   ]
  },
  {
   "cell_type": "code",
   "execution_count": 20,
   "id": "c726b327",
   "metadata": {},
   "outputs": [
    {
     "ename": "ModuleNotFoundError",
     "evalue": "No module named 'pandas'",
     "output_type": "error",
     "traceback": [
      "\u001b[0;31m---------------------------------------------------------------------------\u001b[0m",
      "\u001b[0;31mModuleNotFoundError\u001b[0m                       Traceback (most recent call last)",
      "Cell \u001b[0;32mIn[20], line 1\u001b[0m\n\u001b[0;32m----> 1\u001b[0m \u001b[38;5;28;01mimport\u001b[39;00m \u001b[38;5;21;01mpandas\u001b[39;00m \u001b[38;5;28;01mas\u001b[39;00m \u001b[38;5;21;01mpd\u001b[39;00m \u001b[38;5;66;03m#pandas\u001b[39;00m\n\u001b[1;32m      2\u001b[0m df \u001b[38;5;241m=\u001b[39m pd\u001b[38;5;241m.\u001b[39mread_csv(\u001b[38;5;124m'\u001b[39m\u001b[38;5;124mindustry.csv\u001b[39m\u001b[38;5;124m'\u001b[39m)\n",
      "\u001b[0;31mModuleNotFoundError\u001b[0m: No module named 'pandas'"
     ]
    }
   ],
   "source": [
    "import pandas as pd #pandas\n",
    "df = pd.read_csv('industry.csv')\n"
   ]
  },
  {
   "cell_type": "markdown",
   "id": "784e0fec",
   "metadata": {},
   "source": [
    "# Binary Type"
   ]
  },
  {
   "cell_type": "code",
   "execution_count": 23,
   "id": "95eabcf4",
   "metadata": {},
   "outputs": [],
   "source": [
    "byte_arr = bytearray('abcdef','utf-8')"
   ]
  },
  {
   "cell_type": "code",
   "execution_count": 24,
   "id": "9e3905a2",
   "metadata": {},
   "outputs": [
    {
     "data": {
      "text/plain": [
       "bytearray"
      ]
     },
     "execution_count": 24,
     "metadata": {},
     "output_type": "execute_result"
    }
   ],
   "source": [
    "type(byte_arr)"
   ]
  },
  {
   "cell_type": "code",
   "execution_count": 25,
   "id": "99415328",
   "metadata": {},
   "outputs": [
    {
     "data": {
      "text/plain": [
       "bytearray(b'abcdef')"
      ]
     },
     "execution_count": 25,
     "metadata": {},
     "output_type": "execute_result"
    }
   ],
   "source": [
    "byte_arr"
   ]
  },
  {
   "cell_type": "code",
   "execution_count": 26,
   "id": "33a8130e",
   "metadata": {},
   "outputs": [
    {
     "data": {
      "text/plain": [
       "<memory at 0x79a5b8bb3e80>"
      ]
     },
     "execution_count": 26,
     "metadata": {},
     "output_type": "execute_result"
    }
   ],
   "source": [
    "memoryview(byte_arr)"
   ]
  },
  {
   "cell_type": "code",
   "execution_count": 27,
   "id": "943d3a67",
   "metadata": {},
   "outputs": [
    {
     "data": {
      "text/plain": [
       "97"
      ]
     },
     "execution_count": 27,
     "metadata": {},
     "output_type": "execute_result"
    }
   ],
   "source": [
    "memoryview(byte_arr)[0]"
   ]
  },
  {
   "cell_type": "code",
   "execution_count": 28,
   "id": "12c606b4",
   "metadata": {},
   "outputs": [
    {
     "data": {
      "text/plain": [
       "97"
      ]
     },
     "execution_count": 28,
     "metadata": {},
     "output_type": "execute_result"
    }
   ],
   "source": [
    "mv = memoryview(byte_arr)\n",
    "mv[0]"
   ]
  },
  {
   "cell_type": "code",
   "execution_count": 29,
   "id": "d0a8818f",
   "metadata": {},
   "outputs": [
    {
     "data": {
      "text/plain": [
       "98"
      ]
     },
     "execution_count": 29,
     "metadata": {},
     "output_type": "execute_result"
    }
   ],
   "source": [
    "mv[1]"
   ]
  },
  {
   "cell_type": "code",
   "execution_count": 30,
   "id": "dbe1146a",
   "metadata": {},
   "outputs": [
    {
     "data": {
      "text/plain": [
       "99"
      ]
     },
     "execution_count": 30,
     "metadata": {},
     "output_type": "execute_result"
    }
   ],
   "source": [
    "mv[2]"
   ]
  },
  {
   "cell_type": "code",
   "execution_count": 31,
   "id": "92d283f1",
   "metadata": {},
   "outputs": [
    {
     "data": {
      "text/plain": [
       "100"
      ]
     },
     "execution_count": 31,
     "metadata": {},
     "output_type": "execute_result"
    }
   ],
   "source": [
    "mv[3]"
   ]
  },
  {
   "cell_type": "code",
   "execution_count": 36,
   "id": "8b7da1df",
   "metadata": {},
   "outputs": [
    {
     "data": {
      "text/plain": [
       "65"
      ]
     },
     "execution_count": 36,
     "metadata": {},
     "output_type": "execute_result"
    }
   ],
   "source": [
    "mv[0]-32"
   ]
  },
  {
   "cell_type": "markdown",
   "id": "eb5c6b29",
   "metadata": {},
   "source": [
    "# Operators in python"
   ]
  },
  {
   "cell_type": "code",
   "execution_count": 38,
   "id": "c85e4a4c",
   "metadata": {},
   "outputs": [],
   "source": [
    "#asssinging the variables\n",
    "x = 15\n",
    "y = 4\n",
    "z = 3\n"
   ]
  },
  {
   "cell_type": "code",
   "execution_count": 39,
   "id": "7da1a822",
   "metadata": {},
   "outputs": [
    {
     "data": {
      "text/plain": [
       "19"
      ]
     },
     "execution_count": 39,
     "metadata": {},
     "output_type": "execute_result"
    }
   ],
   "source": [
    "x+y"
   ]
  },
  {
   "cell_type": "code",
   "execution_count": 40,
   "id": "bef21bb8",
   "metadata": {},
   "outputs": [
    {
     "data": {
      "text/plain": [
       "225"
      ]
     },
     "execution_count": 40,
     "metadata": {},
     "output_type": "execute_result"
    }
   ],
   "source": [
    "x**2"
   ]
  },
  {
   "cell_type": "markdown",
   "id": "77afdf25",
   "metadata": {},
   "source": [
    "y**2"
   ]
  },
  {
   "cell_type": "code",
   "execution_count": 41,
   "id": "07781009",
   "metadata": {},
   "outputs": [
    {
     "data": {
      "text/plain": [
       "16"
      ]
     },
     "execution_count": 41,
     "metadata": {},
     "output_type": "execute_result"
    }
   ],
   "source": [
    "y**2"
   ]
  },
  {
   "cell_type": "code",
   "execution_count": 42,
   "id": "78ba2a41",
   "metadata": {},
   "outputs": [
    {
     "data": {
      "text/plain": [
       "2"
      ]
     },
     "execution_count": 42,
     "metadata": {},
     "output_type": "execute_result"
    }
   ],
   "source": [
    "y//2"
   ]
  },
  {
   "cell_type": "code",
   "execution_count": 43,
   "id": "f7febbeb",
   "metadata": {},
   "outputs": [
    {
     "data": {
      "text/plain": [
       "3"
      ]
     },
     "execution_count": 43,
     "metadata": {},
     "output_type": "execute_result"
    }
   ],
   "source": [
    "x//y"
   ]
  },
  {
   "cell_type": "code",
   "execution_count": 44,
   "id": "654bda73",
   "metadata": {},
   "outputs": [
    {
     "data": {
      "text/plain": [
       "3"
      ]
     },
     "execution_count": 44,
     "metadata": {},
     "output_type": "execute_result"
    }
   ],
   "source": [
    "import math\n",
    "math.floor(x/y)"
   ]
  },
  {
   "cell_type": "code",
   "execution_count": 45,
   "id": "46b98c6e",
   "metadata": {},
   "outputs": [
    {
     "data": {
      "text/plain": [
       "4"
      ]
     },
     "execution_count": 45,
     "metadata": {},
     "output_type": "execute_result"
    }
   ],
   "source": [
    "math.ceil(x/y)"
   ]
  },
  {
   "cell_type": "code",
   "execution_count": 46,
   "id": "d57d09bc",
   "metadata": {},
   "outputs": [
    {
     "data": {
      "text/plain": [
       "True"
      ]
     },
     "execution_count": 46,
     "metadata": {},
     "output_type": "execute_result"
    }
   ],
   "source": [
    "x = 10\n",
    "y = 10\n",
    "x is y"
   ]
  },
  {
   "cell_type": "code",
   "execution_count": 47,
   "id": "de9c4fa4",
   "metadata": {},
   "outputs": [
    {
     "data": {
      "text/plain": [
       "False"
      ]
     },
     "execution_count": 47,
     "metadata": {},
     "output_type": "execute_result"
    }
   ],
   "source": [
    "x !=y"
   ]
  },
  {
   "cell_type": "code",
   "execution_count": 48,
   "id": "c0402d9b",
   "metadata": {},
   "outputs": [
    {
     "data": {
      "text/plain": [
       "True"
      ]
     },
     "execution_count": 48,
     "metadata": {},
     "output_type": "execute_result"
    }
   ],
   "source": [
    "x==y"
   ]
  },
  {
   "cell_type": "code",
   "execution_count": 49,
   "id": "cd294d92",
   "metadata": {},
   "outputs": [
    {
     "data": {
      "text/plain": [
       "10781960"
      ]
     },
     "execution_count": 49,
     "metadata": {},
     "output_type": "execute_result"
    }
   ],
   "source": [
    "id(x)"
   ]
  },
  {
   "cell_type": "code",
   "execution_count": 50,
   "id": "37e8e5bb",
   "metadata": {},
   "outputs": [
    {
     "data": {
      "text/plain": [
       "10781960"
      ]
     },
     "execution_count": 50,
     "metadata": {},
     "output_type": "execute_result"
    }
   ],
   "source": [
    "id(y)"
   ]
  },
  {
   "cell_type": "code",
   "execution_count": 51,
   "id": "9e287254",
   "metadata": {},
   "outputs": [
    {
     "data": {
      "text/plain": [
       "10781736"
      ]
     },
     "execution_count": 51,
     "metadata": {},
     "output_type": "execute_result"
    }
   ],
   "source": [
    "id(z)"
   ]
  },
  {
   "cell_type": "code",
   "execution_count": 52,
   "id": "7294c4d3",
   "metadata": {},
   "outputs": [
    {
     "data": {
      "text/plain": [
       "True"
      ]
     },
     "execution_count": 52,
     "metadata": {},
     "output_type": "execute_result"
    }
   ],
   "source": [
    "#membership operator\n",
    "list1 = [1,2,3,4,5]\n",
    "1 in list1"
   ]
  },
  {
   "cell_type": "code",
   "execution_count": 53,
   "id": "19fe5a3b",
   "metadata": {},
   "outputs": [
    {
     "data": {
      "text/plain": [
       "False"
      ]
     },
     "execution_count": 53,
     "metadata": {},
     "output_type": "execute_result"
    }
   ],
   "source": [
    "13 in list1"
   ]
  },
  {
   "cell_type": "code",
   "execution_count": 54,
   "id": "122e04eb",
   "metadata": {},
   "outputs": [
    {
     "data": {
      "text/plain": [
       "True"
      ]
     },
     "execution_count": 54,
     "metadata": {},
     "output_type": "execute_result"
    }
   ],
   "source": [
    "13 not in list1"
   ]
  },
  {
   "cell_type": "code",
   "execution_count": 55,
   "id": "dece51f6",
   "metadata": {},
   "outputs": [
    {
     "data": {
      "text/plain": [
       "True"
      ]
     },
     "execution_count": 55,
     "metadata": {},
     "output_type": "execute_result"
    }
   ],
   "source": [
    "s1 = (1,2,3,4)\n",
    "1 in s1"
   ]
  },
  {
   "cell_type": "code",
   "execution_count": 56,
   "id": "0640732c",
   "metadata": {},
   "outputs": [],
   "source": [
    "st1 = 'Learn Data Science'"
   ]
  },
  {
   "cell_type": "code",
   "execution_count": 57,
   "id": "7dfd8a84",
   "metadata": {},
   "outputs": [
    {
     "data": {
      "text/plain": [
       "'data'"
      ]
     },
     "execution_count": 57,
     "metadata": {},
     "output_type": "execute_result"
    }
   ],
   "source": [
    "'data'"
   ]
  },
  {
   "cell_type": "code",
   "execution_count": 58,
   "id": "b2520d28",
   "metadata": {},
   "outputs": [
    {
     "data": {
      "text/plain": [
       "False"
      ]
     },
     "execution_count": 58,
     "metadata": {},
     "output_type": "execute_result"
    }
   ],
   "source": [
    "'data' in st1"
   ]
  },
  {
   "cell_type": "code",
   "execution_count": 59,
   "id": "928533d3",
   "metadata": {},
   "outputs": [
    {
     "data": {
      "text/plain": [
       "True"
      ]
     },
     "execution_count": 59,
     "metadata": {},
     "output_type": "execute_result"
    }
   ],
   "source": [
    "'Data' in st1"
   ]
  },
  {
   "cell_type": "code",
   "execution_count": 62,
   "id": "fb9e9ac5",
   "metadata": {},
   "outputs": [
    {
     "data": {
      "text/plain": [
       "1015"
      ]
     },
     "execution_count": 62,
     "metadata": {},
     "output_type": "execute_result"
    }
   ],
   "source": [
    "#Python bitwise Operators\n",
    "x = 1010\n",
    "y = 101\n",
    "x|y"
   ]
  },
  {
   "cell_type": "markdown",
   "id": "d22efbf7",
   "metadata": {},
   "source": [
    "# if Elase Statements in Python"
   ]
  },
  {
   "cell_type": "code",
   "execution_count": 63,
   "id": "bcbdcf23",
   "metadata": {},
   "outputs": [
    {
     "name": "stdout",
     "output_type": "stream",
     "text": [
      "y is greater then x\n"
     ]
    }
   ],
   "source": [
    "x = 10\n",
    "y = 30\n",
    "if x>y:\n",
    "    print('x is greater then y')\n",
    "    \n",
    "else:\n",
    "    print('y is greater then x')"
   ]
  },
  {
   "cell_type": "code",
   "execution_count": 1,
   "id": "ce3114c9",
   "metadata": {},
   "outputs": [
    {
     "name": "stdout",
     "output_type": "stream",
     "text": [
      "Enter any number : 5\n",
      "no\n"
     ]
    }
   ],
   "source": [
    "num = float(input('Enter any number : '))\n",
    "if num % 2==0:\n",
    "    print(\"yes\")\n",
    "else:\n",
    "    print(\"no\")\n",
    "    "
   ]
  },
  {
   "cell_type": "code",
   "execution_count": 2,
   "id": "9068144a",
   "metadata": {},
   "outputs": [
    {
     "name": "stdout",
     "output_type": "stream",
     "text": [
      "Enter any number : 10\n",
      "yes\n"
     ]
    }
   ],
   "source": [
    "num = float(input('Enter any number : '))\n",
    "if num % 2==0:\n",
    "    print(\"yes\")\n",
    "else:\n",
    "    print(\"no\")\n",
    "    "
   ]
  },
  {
   "cell_type": "code",
   "execution_count": 4,
   "id": "f29747b1",
   "metadata": {},
   "outputs": [
    {
     "data": {
      "image/jpeg": "[encoded data removed]",
      "text/plain": [
       "<IPython.core.display.Image object>"
      ]
     },
     "execution_count": 4,
     "metadata": {},
     "output_type": "execute_result"
    }
   ],
   "source": [
    "from IPython.display import Image\n",
    "Image('pexels-pixabay-326055.jpg')\n"
   ]
  },
  {
   "cell_type": "code",
   "execution_count": 7,
   "id": "f19c1372",
   "metadata": {},
   "outputs": [
    {
     "name": "stdout",
     "output_type": "stream",
     "text": [
      "Enter you unit value : 350\n",
      "amount is : 2000.0\n"
     ]
    }
   ],
   "source": [
    "amount = 0\n",
    "net_units = float(input('Enter you unit value : '))\n",
    "if net_units <=100:\n",
    "    amount = 0\n",
    "    print('amount is : ',amount)\n",
    "elif net_units>100 and net_units<=200:\n",
    "    amount = (net_units-100) * 5\n",
    "    print(amount)\n",
    "elif net_units>200:\n",
    "    amount = 500 + (net_units - 200) * 10 \n",
    "    print('amount is :',amount)\n",
    "    \n",
    "\n"
   ]
  },
  {
   "cell_type": "markdown",
   "id": "0559df5e",
   "metadata": {},
   "source": [
    "# 01. Take values of length and breath of a rectangle from user and check if it is square or not"
   ]
  },
  {
   "cell_type": "code",
   "execution_count": 8,
   "id": "e8ab0575",
   "metadata": {},
   "outputs": [
    {
     "name": "stdout",
     "output_type": "stream",
     "text": [
      "Enter the length : 4\n",
      "Enter the breath : 4\n",
      "Yes , it is Square\n"
     ]
    }
   ],
   "source": [
    "#input the length from user\n",
    "length = float(input('Enter the length : '))\n",
    "\n",
    "#input the breath from user\n",
    "breadth = float(input('Enter the breath : '))\n",
    "\n",
    "if breadth==length :\n",
    "    print('Yes , it is Square')\n",
    "else :\n",
    "    print('it is not Square')\n",
    "    "
   ]
  },
  {
   "cell_type": "markdown",
   "id": "07564080",
   "metadata": {},
   "source": [
    "# 02. Take three integer value from user and print greatest among them"
   ]
  },
  {
   "cell_type": "code",
   "execution_count": 11,
   "id": "f3203411",
   "metadata": {},
   "outputs": [
    {
     "name": "stdout",
     "output_type": "stream",
     "text": [
      "Enter first number :5 \n",
      "Enter second number : 10\n",
      "Enter third number : 6\n",
      "the largest value :  10\n"
     ]
    }
   ],
   "source": [
    "#take three integer numbers from user input\n",
    "num1 = int(input('Enter first number :'))\n",
    "num2 = int(input('Enter second number : '))\n",
    "num3 = int(input('Enter third number : '))\n",
    "largest = 0\n",
    "if (num1>num2) and (num1>num3):\n",
    "    largest = num1\n",
    "elif (num2>num1) and (num2>num3):\n",
    "    largest = num2\n",
    "else :\n",
    "    largest  = num3\n",
    "print('the largest value : ',largest)"
   ]
  },
  {
   "cell_type": "markdown",
   "id": "9df31e98",
   "metadata": {},
   "source": [
    "# 03. A school will not be allowed to sit in exam if his/her attendance is less than 75%"
   ]
  },
  {
   "cell_type": "code",
   "execution_count": 12,
   "id": "6d7a6a13",
   "metadata": {},
   "outputs": [
    {
     "name": "stdout",
     "output_type": "stream",
     "text": [
      "Number of classes held : 20\n",
      "Number of Classes attended : 15\n",
      "75.0\n"
     ]
    }
   ],
   "source": [
    "held = int(input('Number of classes held : '))\n",
    "attended = int(input('Number of Classes attended : '))\n",
    "\n",
    "attended_ratio = (attended /held) *100\n",
    "print(attended_ratio)\n"
   ]
  },
  {
   "cell_type": "code",
   "execution_count": 13,
   "id": "69706ab3",
   "metadata": {},
   "outputs": [
    {
     "name": "stdout",
     "output_type": "stream",
     "text": [
      "you is allow for exam\n"
     ]
    }
   ],
   "source": [
    "if attended_ratio>=75:\n",
    "    print('you is allow for exam')\n",
    "else:\n",
    "    print('you not be allow for exam')"
   ]
  },
  {
   "cell_type": "markdown",
   "id": "fe3761d9",
   "metadata": {},
   "source": [
    "# for loops"
   ]
  },
  {
   "cell_type": "code",
   "execution_count": 14,
   "id": "4d33aa38",
   "metadata": {},
   "outputs": [
    {
     "name": "stdout",
     "output_type": "stream",
     "text": [
      "ai\n",
      "atik\n",
      "arik\n",
      "faruk\n"
     ]
    }
   ],
   "source": [
    " subject = ['ai','atik','arik','faruk']\n",
    "for x in subject:\n",
    "    print(x)"
   ]
  },
  {
   "cell_type": "code",
   "execution_count": 15,
   "id": "69243b08",
   "metadata": {},
   "outputs": [
    {
     "data": {
      "text/plain": [
       "'faruk'"
      ]
     },
     "execution_count": 15,
     "metadata": {},
     "output_type": "execute_result"
    }
   ],
   "source": [
    "subject[-1]"
   ]
  },
  {
   "cell_type": "code",
   "execution_count": 16,
   "id": "b56f05b5",
   "metadata": {},
   "outputs": [
    {
     "data": {
      "text/plain": [
       "'f'"
      ]
     },
     "execution_count": 16,
     "metadata": {},
     "output_type": "execute_result"
    }
   ],
   "source": [
    "subject[-1][0]"
   ]
  },
  {
   "cell_type": "code",
   "execution_count": 20,
   "id": "56daa7da",
   "metadata": {},
   "outputs": [
    {
     "name": "stdout",
     "output_type": "stream",
     "text": [
      "6\n",
      "9\n"
     ]
    }
   ],
   "source": [
    "for x in range(2,4)\n",
    "    b = 3;\n",
    "    print(x*b)\n",
    "    "
   ]
  },
  {
   "cell_type": "code",
   "execution_count": 21,
   "id": "fe3eec94",
   "metadata": {},
   "outputs": [
    {
     "data": {
      "text/plain": [
       "range(0, 10)"
      ]
     },
     "execution_count": 21,
     "metadata": {},
     "output_type": "execute_result"
    }
   ],
   "source": [
    "range(10)"
   ]
  },
  {
   "cell_type": "code",
   "execution_count": 23,
   "id": "77b442b3",
   "metadata": {},
   "outputs": [
    {
     "name": "stdout",
     "output_type": "stream",
     "text": [
      "a\n",
      "t\n",
      "i\n",
      "k\n"
     ]
    }
   ],
   "source": [
    "data = 'atik'\n",
    "for x in range(len(data)):\n",
    "    print(data[x])"
   ]
  },
  {
   "cell_type": "code",
   "execution_count": 24,
   "id": "da3f473d",
   "metadata": {},
   "outputs": [
    {
     "name": "stdout",
     "output_type": "stream",
     "text": [
      "I\n",
      " \n",
      "l\n",
      "o\n",
      "v\n",
      "e\n",
      " \n",
      "d\n",
      "a\n",
      "t\n",
      "a\n",
      " \n",
      "s\n",
      "c\n",
      "i\n",
      "e\n",
      "n\n",
      "c\n",
      "e\n",
      " \n",
      "s\n",
      "o\n",
      " \n",
      "m\n",
      "u\n",
      "c\n",
      "h\n"
     ]
    }
   ],
   "source": [
    "data = 'I love data science so much'\n",
    "for x in data:\n",
    "    print(x)"
   ]
  },
  {
   "cell_type": "code",
   "execution_count": 32,
   "id": "3b9d46bb",
   "metadata": {},
   "outputs": [
    {
     "name": "stdout",
     "output_type": "stream",
     "text": [
      "I 0\n",
      "love 1\n",
      "data 2\n",
      "science 3\n",
      "so 4\n",
      "much 5\n"
     ]
    }
   ],
   "source": [
    "data = 'I love data science so much'\n",
    "data = data.split()\n",
    "for x in range(len(data)):\n",
    "    print(data[x], x)"
   ]
  },
  {
   "cell_type": "code",
   "execution_count": 36,
   "id": "e88f8064",
   "metadata": {},
   "outputs": [
    {
     "name": "stdout",
     "output_type": "stream",
     "text": [
      "2 2\n",
      "5 3\n",
      "9 4\n",
      "64 55\n",
      "124 60\n",
      "total value:  124\n"
     ]
    }
   ],
   "source": [
    "n = [2,3,4,55,60]\n",
    "sum = 0\n",
    "for x in n:\n",
    "    sum+=x\n",
    "    print(sum,x)\n",
    "print(\"total value: \",sum)"
   ]
  },
  {
   "cell_type": "code",
   "execution_count": null,
   "id": "c4024b2e",
   "metadata": {},
   "outputs": [],
   "source": [
    "for i in range(5,10,2):\n",
    "\n",
    "    print('data science',i)"
   ]
  },
  {
   "cell_type": "code",
   "execution_count": 44,
   "id": "c86cc425",
   "metadata": {},
   "outputs": [
    {
     "name": "stdout",
     "output_type": "stream",
     "text": [
      "data science 100\n",
      "data science 90\n",
      "data science 80\n",
      "data science 70\n",
      "data science 60\n"
     ]
    }
   ],
   "source": [
    "for i in range(100,50,-10):\n",
    "    print('data science', i)"
   ]
  },
  {
   "cell_type": "markdown",
   "id": "a8a39de0",
   "metadata": {},
   "source": [
    "# While loop"
   ]
  },
  {
   "cell_type": "code",
   "execution_count": 1,
   "id": "0ef4452b",
   "metadata": {},
   "outputs": [
    {
     "name": "stdout",
     "output_type": "stream",
     "text": [
      "Study Mart\n",
      "Study Mart\n",
      "Study Mart\n",
      "Study Mart\n",
      "Study Mart\n"
     ]
    }
   ],
   "source": [
    "count = 0\n",
    "while(count<5):\n",
    "    count +=1\n",
    "    print(\"Study Mart\")"
   ]
  },
  {
   "cell_type": "code",
   "execution_count": 4,
   "id": "68ccdada",
   "metadata": {},
   "outputs": [
    {
     "name": "stdout",
     "output_type": "stream",
     "text": [
      "I\n",
      " \n",
      "l\n",
      "o\n",
      "v\n",
      "e\n",
      " \n",
      "d\n",
      "a\n",
      "t\n",
      "a\n",
      " \n",
      "s\n",
      "c\n",
      "i\n",
      "e\n",
      "n\n",
      "c\n",
      "e\n",
      " \n",
      "o\n",
      "s\n",
      " \n",
      "m\n",
      "u\n",
      "c\n",
      "h\n"
     ]
    }
   ],
   "source": [
    "data = 'I love data science os much'\n",
    "index = 0\n",
    "while index<len(data):\n",
    "    print(data[index])\n",
    "    index+=1"
   ]
  },
  {
   "cell_type": "code",
   "execution_count": 5,
   "id": "1911cf39",
   "metadata": {},
   "outputs": [
    {
     "name": "stdout",
     "output_type": "stream",
     "text": [
      "I\n",
      "love\n",
      "data\n",
      "science\n",
      "os\n",
      "much\n"
     ]
    }
   ],
   "source": [
    "data = 'I love data science os much'\n",
    "data = data.split()\n",
    "index = 0\n",
    "while index<len(data):\n",
    "    print(data[index])\n",
    "    index+=1"
   ]
  },
  {
   "cell_type": "code",
   "execution_count": 6,
   "id": "021bb377",
   "metadata": {},
   "outputs": [
    {
     "data": {
      "text/plain": [
       "'much'"
      ]
     },
     "execution_count": 6,
     "metadata": {},
     "output_type": "execute_result"
    }
   ],
   "source": [
    "data[-1]"
   ]
  },
  {
   "cell_type": "code",
   "execution_count": 4,
   "id": "e15c60b1",
   "metadata": {},
   "outputs": [
    {
     "name": "stdout",
     "output_type": "stream",
     "text": [
      "2 0\n",
      "5 1\n",
      "9 2\n",
      "64 3\n",
      "124 4\n",
      "201 5\n",
      "301 6\n"
     ]
    }
   ],
   "source": [
    "n = [2,3,4,55,60,77,100]\n",
    "total = 0\n",
    "index = 0\n",
    "while index<len(n):\n",
    "    total+=n[index]\n",
    "    print(total,index)\n",
    "    index+=1"
   ]
  },
  {
   "cell_type": "markdown",
   "id": "8b5dedc1",
   "metadata": {},
   "source": [
    "# Nested Loop"
   ]
  },
  {
   "cell_type": "code",
   "execution_count": 13,
   "id": "d43168be",
   "metadata": {},
   "outputs": [
    {
     "name": "stdout",
     "output_type": "stream",
     "text": [
      "* \n",
      "* * \n",
      "* * * \n",
      "* * * * \n"
     ]
    }
   ],
   "source": [
    "rows = 4\n",
    "for x in range(1,rows+1):\n",
    "    for y in range(1,x+1):\n",
    "        print('*',end = ' ')\n",
    "    print('')"
   ]
  },
  {
   "cell_type": "code",
   "execution_count": 2,
   "id": "ba8db174",
   "metadata": {},
   "outputs": [
    {
     "name": "stdout",
     "output_type": "stream",
     "text": [
      "1 \n",
      "\n",
      "2 \n",
      "\n",
      "3 \n",
      "\n",
      "4 \n",
      "\n",
      "1 \n",
      "\n",
      "2 \n",
      "\n",
      "3 \n",
      "\n",
      "4 \n",
      "\n",
      "1 \n",
      "\n",
      "2 \n",
      "\n",
      "3 \n",
      "\n",
      "4 \n",
      "\n",
      "1 \n",
      "\n",
      "2 \n",
      "\n",
      "3 \n",
      "\n",
      "4 \n",
      "\n"
     ]
    }
   ],
   "source": [
    "num = [1,2,3,4]\n",
    "for ele in num:\n",
    "    index = 0\n",
    "    while index<len(num):\n",
    "        print(num[index],end = ' ')\n",
    "        index = index + 1\n",
    "        print('\\n')\n",
    "        "
   ]
  },
  {
   "cell_type": "code",
   "execution_count": 4,
   "id": "9c565781",
   "metadata": {},
   "outputs": [
    {
     "name": "stdout",
     "output_type": "stream",
     "text": [
      "hello\n"
     ]
    }
   ],
   "source": [
    "print('hello')"
   ]
  },
  {
   "cell_type": "code",
   "execution_count": 2,
   "id": "dbef74d5",
   "metadata": {},
   "outputs": [
    {
     "name": "stdout",
     "output_type": "stream",
     "text": [
      "['ai', 'data science', 'ai quest', 'mi', '2023', {2, 3, 4}]\n"
     ]
    }
   ],
   "source": [
    "list1 = ['ai','data science','ai quest','mi','2023',{2,3,4}]\n",
    "print(list1)"
   ]
  },
  {
   "cell_type": "code",
   "execution_count": 3,
   "id": "7528d2e7",
   "metadata": {},
   "outputs": [
    {
     "data": {
      "text/plain": [
       "{2, 3, 4}"
      ]
     },
     "execution_count": 3,
     "metadata": {},
     "output_type": "execute_result"
    }
   ],
   "source": [
    "list1[-1]"
   ]
  },
  {
   "cell_type": "code",
   "execution_count": 7,
   "id": "a5e627f2",
   "metadata": {},
   "outputs": [
    {
     "data": {
      "text/plain": [
       "{2, 3, 4}"
      ]
     },
     "execution_count": 7,
     "metadata": {},
     "output_type": "execute_result"
    }
   ],
   "source": [
    "list1[-1]"
   ]
  },
  {
   "cell_type": "markdown",
   "id": "7910c708",
   "metadata": {},
   "source": [
    "# list in python"
   ]
  },
  {
   "cell_type": "code",
   "execution_count": 8,
   "id": "6b973146",
   "metadata": {},
   "outputs": [],
   "source": [
    "l1 = [2,3,4,5]"
   ]
  },
  {
   "cell_type": "code",
   "execution_count": 9,
   "id": "92ea546e",
   "metadata": {},
   "outputs": [
    {
     "data": {
      "text/plain": [
       "list"
      ]
     },
     "execution_count": 9,
     "metadata": {},
     "output_type": "execute_result"
    }
   ],
   "source": [
    "type(l1)"
   ]
  },
  {
   "cell_type": "code",
   "execution_count": 10,
   "id": "951f4e19",
   "metadata": {},
   "outputs": [
    {
     "data": {
      "text/plain": [
       "2"
      ]
     },
     "execution_count": 10,
     "metadata": {},
     "output_type": "execute_result"
    }
   ],
   "source": [
    "l1[0]"
   ]
  },
  {
   "cell_type": "code",
   "execution_count": 11,
   "id": "9b6e3950",
   "metadata": {},
   "outputs": [
    {
     "data": {
      "text/plain": [
       "5"
      ]
     },
     "execution_count": 11,
     "metadata": {},
     "output_type": "execute_result"
    }
   ],
   "source": [
    "l1[-1]"
   ]
  },
  {
   "cell_type": "code",
   "execution_count": 12,
   "id": "7420db9b",
   "metadata": {},
   "outputs": [
    {
     "data": {
      "text/plain": [
       "[2, 3]"
      ]
     },
     "execution_count": 12,
     "metadata": {},
     "output_type": "execute_result"
    }
   ],
   "source": [
    "l1[0:2]"
   ]
  },
  {
   "cell_type": "code",
   "execution_count": 13,
   "id": "edff3766",
   "metadata": {},
   "outputs": [],
   "source": [
    "l1[0] = 'ai quest'"
   ]
  },
  {
   "cell_type": "code",
   "execution_count": 14,
   "id": "117f06fc",
   "metadata": {},
   "outputs": [
    {
     "data": {
      "text/plain": [
       "['ai quest', 3, 4, 5]"
      ]
     },
     "execution_count": 14,
     "metadata": {},
     "output_type": "execute_result"
    }
   ],
   "source": [
    "l1"
   ]
  },
  {
   "cell_type": "code",
   "execution_count": 15,
   "id": "3e93d34d",
   "metadata": {},
   "outputs": [
    {
     "data": {
      "text/plain": [
       "'ai quest'"
      ]
     },
     "execution_count": 15,
     "metadata": {},
     "output_type": "execute_result"
    }
   ],
   "source": [
    "l1[0]"
   ]
  },
  {
   "cell_type": "code",
   "execution_count": 17,
   "id": "c932d429",
   "metadata": {},
   "outputs": [
    {
     "data": {
      "text/plain": [
       "['ai quest', 3, 4, 5]"
      ]
     },
     "execution_count": 17,
     "metadata": {},
     "output_type": "execute_result"
    }
   ],
   "source": [
    "l1\n"
   ]
  },
  {
   "cell_type": "code",
   "execution_count": 18,
   "id": "a70030ca",
   "metadata": {},
   "outputs": [],
   "source": [
    "l1.append('study mart')"
   ]
  },
  {
   "cell_type": "code",
   "execution_count": 19,
   "id": "2368a288",
   "metadata": {},
   "outputs": [
    {
     "data": {
      "text/plain": [
       "['ai quest', 3, 4, 5, 'study mart']"
      ]
     },
     "execution_count": 19,
     "metadata": {},
     "output_type": "execute_result"
    }
   ],
   "source": [
    "l1"
   ]
  },
  {
   "cell_type": "code",
   "execution_count": 20,
   "id": "4c11d761",
   "metadata": {},
   "outputs": [],
   "source": [
    "l1.append(5)"
   ]
  },
  {
   "cell_type": "code",
   "execution_count": 21,
   "id": "880c5228",
   "metadata": {},
   "outputs": [],
   "source": [
    "l1.append(5)"
   ]
  },
  {
   "cell_type": "code",
   "execution_count": 22,
   "id": "e54daa23",
   "metadata": {},
   "outputs": [
    {
     "data": {
      "text/plain": [
       "['ai quest', 3, 4, 5, 'study mart', 5, 5]"
      ]
     },
     "execution_count": 22,
     "metadata": {},
     "output_type": "execute_result"
    }
   ],
   "source": [
    "l1"
   ]
  },
  {
   "cell_type": "code",
   "execution_count": 23,
   "id": "9998d6b3",
   "metadata": {},
   "outputs": [
    {
     "data": {
      "text/plain": [
       "120"
      ]
     },
     "execution_count": 23,
     "metadata": {},
     "output_type": "execute_result"
    }
   ],
   "source": [
    "import sys\n",
    "sys.getsizeof(l1)"
   ]
  },
  {
   "cell_type": "code",
   "execution_count": 24,
   "id": "e6551f0d",
   "metadata": {},
   "outputs": [
    {
     "data": {
      "text/plain": [
       "5"
      ]
     },
     "execution_count": 24,
     "metadata": {},
     "output_type": "execute_result"
    }
   ],
   "source": [
    "l1.pop()"
   ]
  },
  {
   "cell_type": "code",
   "execution_count": 25,
   "id": "1cb008b2",
   "metadata": {},
   "outputs": [
    {
     "data": {
      "text/plain": [
       "['ai quest', 3, 4, 5, 'study mart', 5]"
      ]
     },
     "execution_count": 25,
     "metadata": {},
     "output_type": "execute_result"
    }
   ],
   "source": [
    "l1"
   ]
  },
  {
   "cell_type": "code",
   "execution_count": 26,
   "id": "794382bb",
   "metadata": {},
   "outputs": [
    {
     "data": {
      "text/plain": [
       "5"
      ]
     },
     "execution_count": 26,
     "metadata": {},
     "output_type": "execute_result"
    }
   ],
   "source": [
    "l1.pop()"
   ]
  },
  {
   "cell_type": "code",
   "execution_count": 27,
   "id": "b10ea7ed",
   "metadata": {},
   "outputs": [
    {
     "data": {
      "text/plain": [
       "'ai quest'"
      ]
     },
     "execution_count": 27,
     "metadata": {},
     "output_type": "execute_result"
    }
   ],
   "source": [
    "l1.pop(0)"
   ]
  },
  {
   "cell_type": "code",
   "execution_count": 28,
   "id": "60f34b22",
   "metadata": {},
   "outputs": [
    {
     "data": {
      "text/plain": [
       "[3, 4, 5, 'study mart']"
      ]
     },
     "execution_count": 28,
     "metadata": {},
     "output_type": "execute_result"
    }
   ],
   "source": [
    "l1"
   ]
  },
  {
   "cell_type": "code",
   "execution_count": 30,
   "id": "098ff62c",
   "metadata": {},
   "outputs": [],
   "source": [
    "#Creating List Using List Constructor\n",
    "l2 = list(('ai',12,(1,2,3,4)))\n"
   ]
  },
  {
   "cell_type": "code",
   "execution_count": 31,
   "id": "7aa6d3a2",
   "metadata": {},
   "outputs": [
    {
     "data": {
      "text/plain": [
       "list"
      ]
     },
     "execution_count": 31,
     "metadata": {},
     "output_type": "execute_result"
    }
   ],
   "source": [
    "type(l2)"
   ]
  },
  {
   "cell_type": "code",
   "execution_count": 32,
   "id": "c1df63ed",
   "metadata": {},
   "outputs": [
    {
     "data": {
      "text/plain": [
       "(1, 2, 3, 4)"
      ]
     },
     "execution_count": 32,
     "metadata": {},
     "output_type": "execute_result"
    }
   ],
   "source": [
    "l2[2]"
   ]
  },
  {
   "cell_type": "code",
   "execution_count": 33,
   "id": "de2e2f40",
   "metadata": {},
   "outputs": [
    {
     "data": {
      "text/plain": [
       "4"
      ]
     },
     "execution_count": 33,
     "metadata": {},
     "output_type": "execute_result"
    }
   ],
   "source": [
    "l2[2][-1]"
   ]
  },
  {
   "cell_type": "code",
   "execution_count": 34,
   "id": "fabb368a",
   "metadata": {},
   "outputs": [
    {
     "data": {
      "text/plain": [
       "12"
      ]
     },
     "execution_count": 34,
     "metadata": {},
     "output_type": "execute_result"
    }
   ],
   "source": [
    "l2[1]"
   ]
  },
  {
   "cell_type": "code",
   "execution_count": 35,
   "id": "e0f9a0de",
   "metadata": {},
   "outputs": [
    {
     "data": {
      "text/plain": [
       "'ai'"
      ]
     },
     "execution_count": 35,
     "metadata": {},
     "output_type": "execute_result"
    }
   ],
   "source": [
    "l2[0]"
   ]
  },
  {
   "cell_type": "code",
   "execution_count": 36,
   "id": "65320941",
   "metadata": {},
   "outputs": [
    {
     "data": {
      "text/plain": [
       "1"
      ]
     },
     "execution_count": 36,
     "metadata": {},
     "output_type": "execute_result"
    }
   ],
   "source": [
    "l2[2][0]"
   ]
  },
  {
   "cell_type": "code",
   "execution_count": 39,
   "id": "378ff5a2",
   "metadata": {},
   "outputs": [
    {
     "name": "stdout",
     "output_type": "stream",
     "text": [
      "Enter your index : 5\n",
      "1\n",
      "2\n",
      "3\n",
      "4\n",
      "5\n",
      "['1', '2', '3', '4', '5']\n"
     ]
    }
   ],
   "source": [
    "#input list from user\n",
    "l3 = []\n",
    "n = int(input('Enter your index : '))\n",
    "for i in range(n):\n",
    "    new = input()\n",
    "    l3.append(new)\n",
    "print(l3)"
   ]
  },
  {
   "cell_type": "code",
   "execution_count": 40,
   "id": "6aefd2d8",
   "metadata": {},
   "outputs": [
    {
     "data": {
      "text/plain": [
       "list"
      ]
     },
     "execution_count": 40,
     "metadata": {},
     "output_type": "execute_result"
    }
   ],
   "source": [
    "type(l3)"
   ]
  },
  {
   "cell_type": "markdown",
   "id": "f2c879e2",
   "metadata": {},
   "source": [
    "# list method"
   ]
  },
  {
   "cell_type": "code",
   "execution_count": 41,
   "id": "55f68c9b",
   "metadata": {},
   "outputs": [
    {
     "data": {
      "text/plain": [
       "['ai', 'ds', 'cs', True, [3, 4], (1, 2)]"
      ]
     },
     "execution_count": 41,
     "metadata": {},
     "output_type": "execute_result"
    }
   ],
   "source": [
    "list1 = ['ai','ds','cs',True,[3,4],(1,2)]\n",
    "list1\n"
   ]
  },
  {
   "cell_type": "code",
   "execution_count": 42,
   "id": "13e9df27",
   "metadata": {},
   "outputs": [
    {
     "data": {
      "text/plain": [
       "'ai'"
      ]
     },
     "execution_count": 42,
     "metadata": {},
     "output_type": "execute_result"
    }
   ],
   "source": [
    "list1[0]\n"
   ]
  },
  {
   "cell_type": "code",
   "execution_count": 43,
   "id": "5610d5d6",
   "metadata": {},
   "outputs": [
    {
     "data": {
      "text/plain": [
       "(1, 2)"
      ]
     },
     "execution_count": 43,
     "metadata": {},
     "output_type": "execute_result"
    }
   ],
   "source": [
    "list1[-1]"
   ]
  },
  {
   "cell_type": "code",
   "execution_count": 44,
   "id": "b714393e",
   "metadata": {},
   "outputs": [
    {
     "data": {
      "text/plain": [
       "2"
      ]
     },
     "execution_count": 44,
     "metadata": {},
     "output_type": "execute_result"
    }
   ],
   "source": [
    "list1[-1][-1]"
   ]
  },
  {
   "cell_type": "code",
   "execution_count": 45,
   "id": "4c043ba6",
   "metadata": {},
   "outputs": [
    {
     "data": {
      "text/plain": [
       "2"
      ]
     },
     "execution_count": 45,
     "metadata": {},
     "output_type": "execute_result"
    }
   ],
   "source": [
    "list1[-1][-1]"
   ]
  },
  {
   "cell_type": "markdown",
   "id": "97c2930f",
   "metadata": {},
   "source": [
    "# Copy()"
   ]
  },
  {
   "cell_type": "code",
   "execution_count": 2,
   "id": "5f864cc4",
   "metadata": {},
   "outputs": [],
   "source": [
    "list1 = ['ai','ds','cs',True,[3,4],(1,2)]"
   ]
  },
  {
   "cell_type": "code",
   "execution_count": 3,
   "id": "c67b0353",
   "metadata": {},
   "outputs": [],
   "source": [
    "list2 = list1"
   ]
  },
  {
   "cell_type": "code",
   "execution_count": 4,
   "id": "b19bf010",
   "metadata": {},
   "outputs": [
    {
     "data": {
      "text/plain": [
       "['ai', 'ds', 'cs', True, [3, 4], (1, 2)]"
      ]
     },
     "execution_count": 4,
     "metadata": {},
     "output_type": "execute_result"
    }
   ],
   "source": [
    "list2"
   ]
  },
  {
   "cell_type": "code",
   "execution_count": 5,
   "id": "02ffddfb",
   "metadata": {},
   "outputs": [],
   "source": [
    "list3 = list1.copy()"
   ]
  },
  {
   "cell_type": "code",
   "execution_count": 6,
   "id": "c018c746",
   "metadata": {},
   "outputs": [
    {
     "data": {
      "text/plain": [
       "['ai', 'ds', 'cs', True, [3, 4], (1, 2)]"
      ]
     },
     "execution_count": 6,
     "metadata": {},
     "output_type": "execute_result"
    }
   ],
   "source": [
    "list3"
   ]
  },
  {
   "cell_type": "code",
   "execution_count": 7,
   "id": "8a9aa86d",
   "metadata": {},
   "outputs": [],
   "source": [
    "list1[0] = 1000"
   ]
  },
  {
   "cell_type": "code",
   "execution_count": 8,
   "id": "e7e59c34",
   "metadata": {},
   "outputs": [
    {
     "data": {
      "text/plain": [
       "1000"
      ]
     },
     "execution_count": 8,
     "metadata": {},
     "output_type": "execute_result"
    }
   ],
   "source": [
    "list1[0]"
   ]
  },
  {
   "cell_type": "code",
   "execution_count": 9,
   "id": "ebe1181a",
   "metadata": {},
   "outputs": [
    {
     "data": {
      "text/plain": [
       "1000"
      ]
     },
     "execution_count": 9,
     "metadata": {},
     "output_type": "execute_result"
    }
   ],
   "source": [
    "list2[0]"
   ]
  },
  {
   "cell_type": "code",
   "execution_count": 10,
   "id": "bf188e9e",
   "metadata": {},
   "outputs": [],
   "source": [
    "list3[0] = 100"
   ]
  },
  {
   "cell_type": "code",
   "execution_count": 11,
   "id": "782ea7d7",
   "metadata": {},
   "outputs": [
    {
     "data": {
      "text/plain": [
       "1000"
      ]
     },
     "execution_count": 11,
     "metadata": {},
     "output_type": "execute_result"
    }
   ],
   "source": [
    "list1[0]"
   ]
  },
  {
   "cell_type": "code",
   "execution_count": 12,
   "id": "10bad6bf",
   "metadata": {},
   "outputs": [
    {
     "data": {
      "text/plain": [
       "100"
      ]
     },
     "execution_count": 12,
     "metadata": {},
     "output_type": "execute_result"
    }
   ],
   "source": [
    "list3[0]"
   ]
  },
  {
   "cell_type": "code",
   "execution_count": 15,
   "id": "8f315466",
   "metadata": {},
   "outputs": [],
   "source": [
    "#Append\n",
    "list1.append(24)"
   ]
  },
  {
   "cell_type": "code",
   "execution_count": 16,
   "id": "dccf901e",
   "metadata": {},
   "outputs": [
    {
     "data": {
      "text/plain": [
       "[1000, 'ds', 'cs', True, [3, 4], (1, 2), 24]"
      ]
     },
     "execution_count": 16,
     "metadata": {},
     "output_type": "execute_result"
    }
   ],
   "source": [
    "list1"
   ]
  },
  {
   "cell_type": "code",
   "execution_count": 17,
   "id": "7c9666b9",
   "metadata": {},
   "outputs": [],
   "source": [
    "l1 = [10,200,300]"
   ]
  },
  {
   "cell_type": "code",
   "execution_count": 18,
   "id": "62bb37af",
   "metadata": {},
   "outputs": [],
   "source": [
    "list1.append(l1)"
   ]
  },
  {
   "cell_type": "code",
   "execution_count": 19,
   "id": "e37af959",
   "metadata": {},
   "outputs": [
    {
     "data": {
      "text/plain": [
       "[1000, 'ds', 'cs', True, [3, 4], (1, 2), 24, [10, 200, 300]]"
      ]
     },
     "execution_count": 19,
     "metadata": {},
     "output_type": "execute_result"
    }
   ],
   "source": [
    "list1"
   ]
  },
  {
   "cell_type": "code",
   "execution_count": 20,
   "id": "3ebe5f49",
   "metadata": {},
   "outputs": [
    {
     "data": {
      "text/plain": [
       "[10, 200, 300]"
      ]
     },
     "execution_count": 20,
     "metadata": {},
     "output_type": "execute_result"
    }
   ],
   "source": [
    "list1[-1]"
   ]
  },
  {
   "cell_type": "code",
   "execution_count": 22,
   "id": "817ffbab",
   "metadata": {},
   "outputs": [],
   "source": [
    "list1.append([1,3,4,5])"
   ]
  },
  {
   "cell_type": "code",
   "execution_count": 23,
   "id": "b3242cac",
   "metadata": {},
   "outputs": [
    {
     "data": {
      "text/plain": [
       "[1000, 'ds', 'cs', True, [3, 4], (1, 2), 24, [10, 200, 300], [1, 3, 4, 5]]"
      ]
     },
     "execution_count": 23,
     "metadata": {},
     "output_type": "execute_result"
    }
   ],
   "source": [
    "list1"
   ]
  },
  {
   "cell_type": "code",
   "execution_count": 25,
   "id": "d45e48cc",
   "metadata": {},
   "outputs": [],
   "source": [
    "list1.extend(l1)"
   ]
  },
  {
   "cell_type": "markdown",
   "id": "f214afba",
   "metadata": {},
   "source": [
    "# list1"
   ]
  },
  {
   "cell_type": "code",
   "execution_count": 27,
   "id": "f0464b6c",
   "metadata": {},
   "outputs": [
    {
     "data": {
      "text/plain": [
       "300"
      ]
     },
     "execution_count": 27,
     "metadata": {},
     "output_type": "execute_result"
    }
   ],
   "source": [
    "list1[-1]"
   ]
  },
  {
   "cell_type": "markdown",
   "id": "ef44d442",
   "metadata": {},
   "source": [
    "# Insert()"
   ]
  },
  {
   "cell_type": "code",
   "execution_count": 30,
   "id": "e93b2e47",
   "metadata": {},
   "outputs": [],
   "source": [
    "list1.insert(0,'FAU')"
   ]
  },
  {
   "cell_type": "code",
   "execution_count": 31,
   "id": "6408948a",
   "metadata": {},
   "outputs": [
    {
     "data": {
      "text/plain": [
       "['FAU',\n",
       " 1000,\n",
       " 'ds',\n",
       " 'cs',\n",
       " True,\n",
       " [3, 4],\n",
       " (1, 2),\n",
       " 24,\n",
       " [10, 200, 300],\n",
       " [1, 3, 4, 5],\n",
       " 10,\n",
       " 200,\n",
       " 300]"
      ]
     },
     "execution_count": 31,
     "metadata": {},
     "output_type": "execute_result"
    }
   ],
   "source": [
    "list1"
   ]
  },
  {
   "cell_type": "markdown",
   "id": "07038ea8",
   "metadata": {},
   "source": [
    "# index()"
   ]
  },
  {
   "cell_type": "code",
   "execution_count": null,
   "id": "0fbf0530",
   "metadata": {},
   "outputs": [],
   "source": [
    "\n",
    "\n"
   ]
  },
  {
   "cell_type": "code",
   "execution_count": 3,
   "id": "3277839d",
   "metadata": {},
   "outputs": [],
   "source": [
    "list1 = ['ai','ds','cs',True,[3,4],(1,2)]"
   ]
  },
  {
   "cell_type": "code",
   "execution_count": 4,
   "id": "f4884d26",
   "metadata": {},
   "outputs": [
    {
     "data": {
      "text/plain": [
       "1"
      ]
     },
     "execution_count": 4,
     "metadata": {},
     "output_type": "execute_result"
    }
   ],
   "source": [
    "list1.index('ds')"
   ]
  },
  {
   "cell_type": "markdown",
   "id": "79947b61",
   "metadata": {},
   "source": [
    "# count()"
   ]
  },
  {
   "cell_type": "code",
   "execution_count": 8,
   "id": "46f3504e",
   "metadata": {},
   "outputs": [
    {
     "data": {
      "text/plain": [
       "1"
      ]
     },
     "execution_count": 8,
     "metadata": {},
     "output_type": "execute_result"
    }
   ],
   "source": [
    "list1.count('ds')"
   ]
  },
  {
   "cell_type": "code",
   "execution_count": 9,
   "id": "9578a7bc",
   "metadata": {},
   "outputs": [],
   "source": [
    "#sort\n",
    "ls2 = [10,2,3,4,5,543,3,22]\n"
   ]
  },
  {
   "cell_type": "code",
   "execution_count": 10,
   "id": "7a895b2b",
   "metadata": {},
   "outputs": [],
   "source": [
    "ls2.sort()"
   ]
  },
  {
   "cell_type": "code",
   "execution_count": 11,
   "id": "a1af6b83",
   "metadata": {},
   "outputs": [
    {
     "data": {
      "text/plain": [
       "[2, 3, 3, 4, 5, 10, 22, 543]"
      ]
     },
     "execution_count": 11,
     "metadata": {},
     "output_type": "execute_result"
    }
   ],
   "source": [
    "ls2"
   ]
  },
  {
   "cell_type": "code",
   "execution_count": 12,
   "id": "4387bcb8",
   "metadata": {},
   "outputs": [],
   "source": [
    "#reverse\n",
    "ls2.reverse()"
   ]
  },
  {
   "cell_type": "code",
   "execution_count": 13,
   "id": "02318b4a",
   "metadata": {},
   "outputs": [
    {
     "data": {
      "text/plain": [
       "[543, 22, 10, 5, 4, 3, 3, 2]"
      ]
     },
     "execution_count": 13,
     "metadata": {},
     "output_type": "execute_result"
    }
   ],
   "source": [
    "ls2"
   ]
  },
  {
   "cell_type": "code",
   "execution_count": 14,
   "id": "0d74c383",
   "metadata": {},
   "outputs": [],
   "source": [
    "del ls2[0]"
   ]
  },
  {
   "cell_type": "code",
   "execution_count": 15,
   "id": "7b483dae",
   "metadata": {},
   "outputs": [
    {
     "data": {
      "text/plain": [
       "[22, 10, 5, 4, 3, 3, 2]"
      ]
     },
     "execution_count": 15,
     "metadata": {},
     "output_type": "execute_result"
    }
   ],
   "source": [
    "ls2"
   ]
  },
  {
   "cell_type": "markdown",
   "id": "42ad1778",
   "metadata": {},
   "source": [
    "# list comprehension : Elegant Way to Create Lists"
   ]
  },
  {
   "cell_type": "code",
   "execution_count": 3,
   "id": "a4023f9e",
   "metadata": {},
   "outputs": [
    {
     "name": "stdout",
     "output_type": "stream",
     "text": [
      "[0, 1, 2, 3, 4, 5, 6, 7, 8, 9]\n"
     ]
    }
   ],
   "source": [
    "list1 = []\n",
    "for x in range(10):\n",
    "    list1.append(x)\n",
    "print(list1)\n"
   ]
  },
  {
   "cell_type": "code",
   "execution_count": 4,
   "id": "f13f6a61",
   "metadata": {},
   "outputs": [
    {
     "data": {
      "text/plain": [
       "[0, 1, 2, 3, 4, 5, 6, 7, 8, 9]"
      ]
     },
     "execution_count": 4,
     "metadata": {},
     "output_type": "execute_result"
    }
   ],
   "source": [
    "list2 = [x for x in range(10)]\n",
    "list2\n",
    "\n"
   ]
  },
  {
   "cell_type": "code",
   "execution_count": 5,
   "id": "385e4380",
   "metadata": {},
   "outputs": [
    {
     "data": {
      "text/plain": [
       "[0, 2, 4, 6, 8]"
      ]
     },
     "execution_count": 5,
     "metadata": {},
     "output_type": "execute_result"
    }
   ],
   "source": [
    "list3 = []\n",
    "for x in range(10):\n",
    "    if x%2==0:\n",
    "        list3.append(x)\n",
    "list3\n"
   ]
  },
  {
   "cell_type": "code",
   "execution_count": 6,
   "id": "41b0edeb",
   "metadata": {},
   "outputs": [
    {
     "data": {
      "text/plain": [
       "[0, 2, 4, 6, 8]"
      ]
     },
     "execution_count": 6,
     "metadata": {},
     "output_type": "execute_result"
    }
   ],
   "source": [
    "list4 = [x for x in range(10) if x%2==0]\n",
    "list4"
   ]
  },
  {
   "cell_type": "code",
   "execution_count": 13,
   "id": "507abced",
   "metadata": {},
   "outputs": [],
   "source": [
    "#iteration through list\n",
    "list5 = ['ai','da',1,2,3,4]\n",
    "list6 = [x for x in list5 if x != 'da']\n"
   ]
  },
  {
   "cell_type": "code",
   "execution_count": 14,
   "id": "159cd331",
   "metadata": {},
   "outputs": [
    {
     "data": {
      "text/plain": [
       "['ai', 1, 2, 3, 4]"
      ]
     },
     "execution_count": 14,
     "metadata": {},
     "output_type": "execute_result"
    }
   ],
   "source": [
    "list6"
   ]
  },
  {
   "cell_type": "code",
   "execution_count": 9,
   "id": "692b9b8f",
   "metadata": {},
   "outputs": [
    {
     "data": {
      "text/plain": [
       "['ai', 'da', 1, 2, 3, 4]"
      ]
     },
     "execution_count": 9,
     "metadata": {},
     "output_type": "execute_result"
    }
   ],
   "source": [
    "list6"
   ]
  },
  {
   "cell_type": "code",
   "execution_count": 11,
   "id": "6d5f34ee",
   "metadata": {},
   "outputs": [
    {
     "data": {
      "text/plain": [
       "['ai', 'da', 1, 2, 3, 4]"
      ]
     },
     "execution_count": 11,
     "metadata": {},
     "output_type": "execute_result"
    }
   ],
   "source": [
    "list6"
   ]
  },
  {
   "cell_type": "code",
   "execution_count": 15,
   "id": "135ed669",
   "metadata": {},
   "outputs": [
    {
     "data": {
      "text/plain": [
       "[1, 3, 9, 27, 81, 243, 729, 2187, 6561, 19683]"
      ]
     },
     "execution_count": 15,
     "metadata": {},
     "output_type": "execute_result"
    }
   ],
   "source": [
    "list7 = [3**x for x in range(10)]\n",
    "list7"
   ]
  },
  {
   "cell_type": "code",
   "execution_count": 16,
   "id": "60c4f70d",
   "metadata": {},
   "outputs": [
    {
     "data": {
      "text/plain": [
       "19683"
      ]
     },
     "execution_count": 16,
     "metadata": {},
     "output_type": "execute_result"
    }
   ],
   "source": [
    "3**9"
   ]
  },
  {
   "cell_type": "code",
   "execution_count": 17,
   "id": "f6182b74",
   "metadata": {},
   "outputs": [
    {
     "data": {
      "text/plain": [
       "[0, 1, 2, 3, 4, 5, 6, 7, 8, 9]"
      ]
     },
     "execution_count": 17,
     "metadata": {},
     "output_type": "execute_result"
    }
   ],
   "source": [
    "#list membership testing \n",
    "list2"
   ]
  },
  {
   "cell_type": "code",
   "execution_count": 18,
   "id": "6a31f11f",
   "metadata": {},
   "outputs": [
    {
     "data": {
      "text/plain": [
       "True"
      ]
     },
     "execution_count": 18,
     "metadata": {},
     "output_type": "execute_result"
    }
   ],
   "source": [
    "9 in list2"
   ]
  },
  {
   "cell_type": "code",
   "execution_count": 19,
   "id": "6c9d8e58",
   "metadata": {},
   "outputs": [
    {
     "data": {
      "text/plain": [
       "False"
      ]
     },
     "execution_count": 19,
     "metadata": {},
     "output_type": "execute_result"
    }
   ],
   "source": [
    "11 in list2"
   ]
  },
  {
   "cell_type": "markdown",
   "id": "7af79949",
   "metadata": {},
   "source": [
    "# Tuple in python  \n"
   ]
  },
  {
   "cell_type": "code",
   "execution_count": 20,
   "id": "b610fac8",
   "metadata": {},
   "outputs": [
    {
     "data": {
      "text/plain": [
       "tuple"
      ]
     },
     "execution_count": 20,
     "metadata": {},
     "output_type": "execute_result"
    }
   ],
   "source": [
    "tp1 = ()\n",
    "type(tp1)"
   ]
  },
  {
   "cell_type": "code",
   "execution_count": 21,
   "id": "27f35213",
   "metadata": {},
   "outputs": [
    {
     "data": {
      "text/plain": [
       "('ds', 'rony', 'nstu', 1, 2, 3, 4, 5, 6, [10, 20, 30, 40, 50], True)"
      ]
     },
     "execution_count": 21,
     "metadata": {},
     "output_type": "execute_result"
    }
   ],
   "source": [
    "tup1 = ('ds','rony','nstu',1,2,3,4,5,6,[10,20,30,40,50],True)\n",
    "tup1"
   ]
  },
  {
   "cell_type": "code",
   "execution_count": 23,
   "id": "8eeb47b5",
   "metadata": {},
   "outputs": [
    {
     "data": {
      "text/plain": [
       "'rony'"
      ]
     },
     "execution_count": 23,
     "metadata": {},
     "output_type": "execute_result"
    }
   ],
   "source": [
    "tup1[1]"
   ]
  },
  {
   "cell_type": "code",
   "execution_count": 24,
   "id": "bba4b9c8",
   "metadata": {},
   "outputs": [
    {
     "data": {
      "text/plain": [
       "True"
      ]
     },
     "execution_count": 24,
     "metadata": {},
     "output_type": "execute_result"
    }
   ],
   "source": [
    "tup1[-1]"
   ]
  },
  {
   "cell_type": "code",
   "execution_count": 25,
   "id": "88bf8c39",
   "metadata": {},
   "outputs": [
    {
     "data": {
      "text/plain": [
       "[10, 20, 30, 40, 50]"
      ]
     },
     "execution_count": 25,
     "metadata": {},
     "output_type": "execute_result"
    }
   ],
   "source": [
    "tup1[-2]"
   ]
  },
  {
   "cell_type": "code",
   "execution_count": 26,
   "id": "66af9b08",
   "metadata": {},
   "outputs": [
    {
     "data": {
      "text/plain": [
       "20"
      ]
     },
     "execution_count": 26,
     "metadata": {},
     "output_type": "execute_result"
    }
   ],
   "source": [
    "tup1[-2][1]"
   ]
  },
  {
   "cell_type": "code",
   "execution_count": 27,
   "id": "0735f3ef",
   "metadata": {},
   "outputs": [
    {
     "data": {
      "text/plain": [
       "('nstu', 1, 2, 3)"
      ]
     },
     "execution_count": 27,
     "metadata": {},
     "output_type": "execute_result"
    }
   ],
   "source": [
    "tup1[2:6]"
   ]
  },
  {
   "cell_type": "code",
   "execution_count": 29,
   "id": "2d5dff62",
   "metadata": {},
   "outputs": [
    {
     "data": {
      "text/plain": [
       "['rony molla']"
      ]
     },
     "execution_count": 29,
     "metadata": {},
     "output_type": "execute_result"
    }
   ],
   "source": [
    "tup2 = ['rony molla']\n",
    "tup2"
   ]
  },
  {
   "cell_type": "code",
   "execution_count": 30,
   "id": "52d7d63f",
   "metadata": {},
   "outputs": [
    {
     "data": {
      "text/plain": [
       "list"
      ]
     },
     "execution_count": 30,
     "metadata": {},
     "output_type": "execute_result"
    }
   ],
   "source": [
    "type(tup2)"
   ]
  },
  {
   "cell_type": "code",
   "execution_count": 31,
   "id": "e53fee2e",
   "metadata": {},
   "outputs": [
    {
     "data": {
      "text/plain": [
       "str"
      ]
     },
     "execution_count": 31,
     "metadata": {},
     "output_type": "execute_result"
    }
   ],
   "source": [
    "tup2 = ('ronnyk')\n",
    "type(tup2)\n"
   ]
  },
  {
   "cell_type": "code",
   "execution_count": 32,
   "id": "23a6d93d",
   "metadata": {},
   "outputs": [
    {
     "data": {
      "text/plain": [
       "tuple"
      ]
     },
     "execution_count": 32,
     "metadata": {},
     "output_type": "execute_result"
    }
   ],
   "source": [
    "tup2 = ('atik',)\n",
    "type(tup2)"
   ]
  },
  {
   "cell_type": "code",
   "execution_count": 33,
   "id": "024135e8",
   "metadata": {},
   "outputs": [],
   "source": [
    "# tuple to list \n",
    "l = list(tup2)"
   ]
  },
  {
   "cell_type": "code",
   "execution_count": 34,
   "id": "fa6a59b6",
   "metadata": {},
   "outputs": [
    {
     "data": {
      "text/plain": [
       "['atik']"
      ]
     },
     "execution_count": 34,
     "metadata": {},
     "output_type": "execute_result"
    }
   ],
   "source": [
    "l"
   ]
  },
  {
   "cell_type": "code",
   "execution_count": 35,
   "id": "9f4cdd16",
   "metadata": {},
   "outputs": [
    {
     "data": {
      "text/plain": [
       "list"
      ]
     },
     "execution_count": 35,
     "metadata": {},
     "output_type": "execute_result"
    }
   ],
   "source": [
    "type(l)"
   ]
  },
  {
   "cell_type": "code",
   "execution_count": 36,
   "id": "868b16c3",
   "metadata": {},
   "outputs": [
    {
     "data": {
      "text/plain": [
       "['atik', 'roony']"
      ]
     },
     "execution_count": 36,
     "metadata": {},
     "output_type": "execute_result"
    }
   ],
   "source": [
    "l.append('roony')\n",
    "l"
   ]
  },
  {
   "cell_type": "code",
   "execution_count": 37,
   "id": "8092e6f4",
   "metadata": {},
   "outputs": [
    {
     "data": {
      "text/plain": [
       "('atik',)"
      ]
     },
     "execution_count": 37,
     "metadata": {},
     "output_type": "execute_result"
    }
   ],
   "source": [
    "tup2\n"
   ]
  },
  {
   "cell_type": "code",
   "execution_count": 38,
   "id": "b0364245",
   "metadata": {},
   "outputs": [
    {
     "data": {
      "text/plain": [
       "('ds', 'rony', 'nstu', 1, 2, 3, 4, 5, 6, [10, 20, 30, 40, 50], True)"
      ]
     },
     "execution_count": 38,
     "metadata": {},
     "output_type": "execute_result"
    }
   ],
   "source": [
    "tup1\n"
   ]
  },
  {
   "cell_type": "code",
   "execution_count": 39,
   "id": "7e65f90a",
   "metadata": {},
   "outputs": [],
   "source": [
    "tup3 = tuple([1,2,3,4,5])\n"
   ]
  },
  {
   "cell_type": "code",
   "execution_count": 40,
   "id": "e0400dde",
   "metadata": {},
   "outputs": [
    {
     "data": {
      "text/plain": [
       "(1, 2, 3, 4, 5)"
      ]
     },
     "execution_count": 40,
     "metadata": {},
     "output_type": "execute_result"
    }
   ],
   "source": [
    "tup3"
   ]
  },
  {
   "cell_type": "code",
   "execution_count": 41,
   "id": "2fa73d76",
   "metadata": {},
   "outputs": [],
   "source": [
    "tup4 = [1,2,3,4]\n"
   ]
  },
  {
   "cell_type": "code",
   "execution_count": 42,
   "id": "1bca4577",
   "metadata": {},
   "outputs": [
    {
     "data": {
      "text/plain": [
       "[1, 2, 3, 4]"
      ]
     },
     "execution_count": 42,
     "metadata": {},
     "output_type": "execute_result"
    }
   ],
   "source": [
    "tup4"
   ]
  },
  {
   "cell_type": "code",
   "execution_count": 43,
   "id": "efd9278d",
   "metadata": {},
   "outputs": [
    {
     "data": {
      "text/plain": [
       "list"
      ]
     },
     "execution_count": 43,
     "metadata": {},
     "output_type": "execute_result"
    }
   ],
   "source": [
    "type(tup4)"
   ]
  },
  {
   "cell_type": "code",
   "execution_count": 45,
   "id": "5533d36d",
   "metadata": {},
   "outputs": [
    {
     "data": {
      "text/plain": [
       "(1, 2, 3, 4, 5, 1, 2, 3, 4)"
      ]
     },
     "execution_count": 45,
     "metadata": {},
     "output_type": "execute_result"
    }
   ],
   "source": [
    "tup3 + tuple(tup4)\n"
   ]
  },
  {
   "cell_type": "code",
   "execution_count": 46,
   "id": "6288a733",
   "metadata": {},
   "outputs": [
    {
     "data": {
      "text/plain": [
       "(1, 2, 3, 4, 5)"
      ]
     },
     "execution_count": 46,
     "metadata": {},
     "output_type": "execute_result"
    }
   ],
   "source": [
    "tup3"
   ]
  },
  {
   "cell_type": "code",
   "execution_count": 50,
   "id": "945fd484",
   "metadata": {},
   "outputs": [],
   "source": [
    "tup4 = tup3*4"
   ]
  },
  {
   "cell_type": "code",
   "execution_count": 51,
   "id": "41fb2180",
   "metadata": {},
   "outputs": [
    {
     "data": {
      "text/plain": [
       "1"
      ]
     },
     "execution_count": 51,
     "metadata": {},
     "output_type": "execute_result"
    }
   ],
   "source": [
    "tup3.count(4)"
   ]
  },
  {
   "cell_type": "code",
   "execution_count": 52,
   "id": "bb6d607f",
   "metadata": {},
   "outputs": [
    {
     "data": {
      "text/plain": [
       "4"
      ]
     },
     "execution_count": 52,
     "metadata": {},
     "output_type": "execute_result"
    }
   ],
   "source": [
    "tup4.count(5)"
   ]
  },
  {
   "cell_type": "code",
   "execution_count": 53,
   "id": "baea7466",
   "metadata": {},
   "outputs": [
    {
     "data": {
      "text/plain": [
       "3"
      ]
     },
     "execution_count": 53,
     "metadata": {},
     "output_type": "execute_result"
    }
   ],
   "source": [
    "tup3.index(4)"
   ]
  },
  {
   "cell_type": "code",
   "execution_count": 55,
   "id": "3b43d14a",
   "metadata": {},
   "outputs": [
    {
     "data": {
      "text/plain": [
       "4"
      ]
     },
     "execution_count": 55,
     "metadata": {},
     "output_type": "execute_result"
    }
   ],
   "source": [
    "tup4.index(5)"
   ]
  },
  {
   "cell_type": "code",
   "execution_count": 56,
   "id": "271a1ba0",
   "metadata": {},
   "outputs": [
    {
     "data": {
      "text/plain": [
       "False"
      ]
     },
     "execution_count": 56,
     "metadata": {},
     "output_type": "execute_result"
    }
   ],
   "source": [
    "#membership\n",
    "'rony mia' in tup4"
   ]
  },
  {
   "cell_type": "code",
   "execution_count": 57,
   "id": "6b8ed6dc",
   "metadata": {},
   "outputs": [
    {
     "data": {
      "text/plain": [
       "(1, 2, 3, 4, 5)"
      ]
     },
     "execution_count": 57,
     "metadata": {},
     "output_type": "execute_result"
    }
   ],
   "source": [
    "tup3\n"
   ]
  },
  {
   "cell_type": "code",
   "execution_count": 62,
   "id": "b0963b81",
   "metadata": {},
   "outputs": [
    {
     "ename": "NameError",
     "evalue": "name 'atik' is not defined",
     "output_type": "error",
     "traceback": [
      "\u001b[0;31m---------------------------------------------------------------------------\u001b[0m",
      "\u001b[0;31mNameError\u001b[0m                                 Traceback (most recent call last)",
      "Cell \u001b[0;32mIn[62], line 1\u001b[0m\n\u001b[0;32m----> 1\u001b[0m tup4[\u001b[38;5;241m0\u001b[39m] \u001b[38;5;241m=\u001b[39m [\u001b[43matik\u001b[49m]\n",
      "\u001b[0;31mNameError\u001b[0m: name 'atik' is not defined"
     ]
    }
   ],
   "source": [
    "tup4[0] = [atik]"
   ]
  },
  {
   "cell_type": "code",
   "execution_count": 63,
   "id": "5d7d69b0",
   "metadata": {},
   "outputs": [
    {
     "data": {
      "text/plain": [
       "('atik',)"
      ]
     },
     "execution_count": 63,
     "metadata": {},
     "output_type": "execute_result"
    }
   ],
   "source": [
    "tup2"
   ]
  },
  {
   "cell_type": "code",
   "execution_count": 65,
   "id": "ecadb4dc",
   "metadata": {},
   "outputs": [
    {
     "data": {
      "text/plain": [
       "('atik',)"
      ]
     },
     "execution_count": 65,
     "metadata": {},
     "output_type": "execute_result"
    }
   ],
   "source": [
    "tuple(tup2)"
   ]
  },
  {
   "cell_type": "code",
   "execution_count": 66,
   "id": "6b31dd8f",
   "metadata": {},
   "outputs": [
    {
     "name": "stdout",
     "output_type": "stream",
     "text": [
      "atik\n"
     ]
    }
   ],
   "source": [
    "for i in tup2:\n",
    "    print(i)"
   ]
  },
  {
   "cell_type": "markdown",
   "id": "2f52ea36",
   "metadata": {},
   "source": [
    "# Sets in Python "
   ]
  },
  {
   "cell_type": "code",
   "execution_count": 4,
   "id": "3b73c97b",
   "metadata": {},
   "outputs": [
    {
     "data": {
      "text/plain": [
       "{1, 2, 3, 4, 5}"
      ]
     },
     "execution_count": 4,
     "metadata": {},
     "output_type": "execute_result"
    }
   ],
   "source": [
    " set1 = {1,2,3,4,4,5} \n",
    " set1"
   ]
  },
  {
   "cell_type": "code",
   "execution_count": 6,
   "id": "568a026e",
   "metadata": {},
   "outputs": [
    {
     "data": {
      "text/plain": [
       "set"
      ]
     },
     "execution_count": 6,
     "metadata": {},
     "output_type": "execute_result"
    }
   ],
   "source": [
    "type(set1)"
   ]
  },
  {
   "cell_type": "code",
   "execution_count": 7,
   "id": "ff354465",
   "metadata": {},
   "outputs": [
    {
     "data": {
      "text/plain": [
       "list"
      ]
     },
     "execution_count": 7,
     "metadata": {},
     "output_type": "execute_result"
    }
   ],
   "source": [
    "li=[]\n",
    "type(li)"
   ]
  },
  {
   "cell_type": "code",
   "execution_count": 8,
   "id": "f3a4768a",
   "metadata": {},
   "outputs": [
    {
     "data": {
      "text/plain": [
       "set"
      ]
     },
     "execution_count": 8,
     "metadata": {},
     "output_type": "execute_result"
    }
   ],
   "source": [
    "type(set1)"
   ]
  },
  {
   "cell_type": "code",
   "execution_count": 9,
   "id": "60361ee0",
   "metadata": {},
   "outputs": [
    {
     "data": {
      "text/plain": [
       "dict"
      ]
     },
     "execution_count": 9,
     "metadata": {},
     "output_type": "execute_result"
    }
   ],
   "source": [
    "set2={}\n",
    "type(set2)"
   ]
  },
  {
   "cell_type": "code",
   "execution_count": 11,
   "id": "4e62a13e",
   "metadata": {},
   "outputs": [
    {
     "ename": "TypeError",
     "evalue": "'set' object is not subscriptable",
     "output_type": "error",
     "traceback": [
      "\u001b[0;31m---------------------------------------------------------------------------\u001b[0m",
      "\u001b[0;31mTypeError\u001b[0m                                 Traceback (most recent call last)",
      "Cell \u001b[0;32mIn[11], line 1\u001b[0m\n\u001b[0;32m----> 1\u001b[0m \u001b[43mset1\u001b[49m\u001b[43m[\u001b[49m\u001b[38;5;241;43m0\u001b[39;49m\u001b[43m]\u001b[49m\n",
      "\u001b[0;31mTypeError\u001b[0m: 'set' object is not subscriptable"
     ]
    }
   ],
   "source": [
    "set1[0] #set is unchangeable and unindex"
   ]
  },
  {
   "cell_type": "code",
   "execution_count": 12,
   "id": "f10c417e",
   "metadata": {},
   "outputs": [
    {
     "data": {
      "text/plain": [
       "{1, 2, 3, 4, 5, 100}"
      ]
     },
     "execution_count": 12,
     "metadata": {},
     "output_type": "execute_result"
    }
   ],
   "source": [
    "set1.add(100)\n",
    "set1"
   ]
  },
  {
   "cell_type": "code",
   "execution_count": 14,
   "id": "df74218f",
   "metadata": {},
   "outputs": [],
   "source": [
    "set1.update([10])"
   ]
  },
  {
   "cell_type": "code",
   "execution_count": 15,
   "id": "7d2de09c",
   "metadata": {},
   "outputs": [
    {
     "data": {
      "text/plain": [
       "{1, 2, 3, 4, 5, 10, 100}"
      ]
     },
     "execution_count": 15,
     "metadata": {},
     "output_type": "execute_result"
    }
   ],
   "source": [
    "set1"
   ]
  },
  {
   "cell_type": "code",
   "execution_count": 17,
   "id": "31d1e6de",
   "metadata": {},
   "outputs": [],
   "source": [
    "set1.remove(1)"
   ]
  },
  {
   "cell_type": "code",
   "execution_count": 18,
   "id": "7aaacd66",
   "metadata": {},
   "outputs": [
    {
     "data": {
      "text/plain": [
       "{2, 3, 4, 5, 10, 100}"
      ]
     },
     "execution_count": 18,
     "metadata": {},
     "output_type": "execute_result"
    }
   ],
   "source": [
    "set1"
   ]
  },
  {
   "cell_type": "code",
   "execution_count": 19,
   "id": "28f6e394",
   "metadata": {},
   "outputs": [],
   "source": [
    "set1.discard(10)"
   ]
  },
  {
   "cell_type": "code",
   "execution_count": 20,
   "id": "b00c61bc",
   "metadata": {},
   "outputs": [
    {
     "data": {
      "text/plain": [
       "{2, 3, 4, 5, 100}"
      ]
     },
     "execution_count": 20,
     "metadata": {},
     "output_type": "execute_result"
    }
   ],
   "source": [
    "set1"
   ]
  },
  {
   "cell_type": "code",
   "execution_count": 21,
   "id": "8ac70ddc",
   "metadata": {},
   "outputs": [
    {
     "ename": "KeyError",
     "evalue": "10",
     "output_type": "error",
     "traceback": [
      "\u001b[0;31m---------------------------------------------------------------------------\u001b[0m",
      "\u001b[0;31mKeyError\u001b[0m                                  Traceback (most recent call last)",
      "Cell \u001b[0;32mIn[21], line 1\u001b[0m\n\u001b[0;32m----> 1\u001b[0m \u001b[43mset1\u001b[49m\u001b[38;5;241;43m.\u001b[39;49m\u001b[43mremove\u001b[49m\u001b[43m(\u001b[49m\u001b[38;5;241;43m10\u001b[39;49m\u001b[43m)\u001b[49m\n",
      "\u001b[0;31mKeyError\u001b[0m: 10"
     ]
    }
   ],
   "source": [
    "set1.remove(10)"
   ]
  },
  {
   "cell_type": "code",
   "execution_count": 22,
   "id": "f69ff37e",
   "metadata": {},
   "outputs": [
    {
     "data": {
      "text/plain": [
       "{2, 3, 4, 5, 100}"
      ]
     },
     "execution_count": 22,
     "metadata": {},
     "output_type": "execute_result"
    }
   ],
   "source": [
    "set1"
   ]
  },
  {
   "cell_type": "code",
   "execution_count": 24,
   "id": "8ca9d148",
   "metadata": {},
   "outputs": [],
   "source": [
    "set1.discard(10)"
   ]
  },
  {
   "cell_type": "code",
   "execution_count": 25,
   "id": "17b0adfc",
   "metadata": {},
   "outputs": [
    {
     "data": {
      "text/plain": [
       "{2, 3, 4, 5, 100}"
      ]
     },
     "execution_count": 25,
     "metadata": {},
     "output_type": "execute_result"
    }
   ],
   "source": [
    "set1"
   ]
  },
  {
   "cell_type": "code",
   "execution_count": 26,
   "id": "d28de46c",
   "metadata": {},
   "outputs": [
    {
     "data": {
      "text/plain": [
       "True"
      ]
     },
     "execution_count": 26,
     "metadata": {},
     "output_type": "execute_result"
    }
   ],
   "source": [
    "2 in set1"
   ]
  },
  {
   "cell_type": "code",
   "execution_count": 27,
   "id": "edea53ec",
   "metadata": {},
   "outputs": [
    {
     "data": {
      "text/plain": [
       "<function set.clear>"
      ]
     },
     "execution_count": 27,
     "metadata": {},
     "output_type": "execute_result"
    }
   ],
   "source": [
    "set1.clear"
   ]
  },
  {
   "cell_type": "code",
   "execution_count": 28,
   "id": "1673983b",
   "metadata": {},
   "outputs": [],
   "source": [
    "set1.clear()"
   ]
  },
  {
   "cell_type": "code",
   "execution_count": 29,
   "id": "c0e8849b",
   "metadata": {},
   "outputs": [
    {
     "data": {
      "text/plain": [
       "set()"
      ]
     },
     "execution_count": 29,
     "metadata": {},
     "output_type": "execute_result"
    }
   ],
   "source": [
    "set1"
   ]
  },
  {
   "cell_type": "code",
   "execution_count": 30,
   "id": "8ff42631",
   "metadata": {},
   "outputs": [
    {
     "data": {
      "text/plain": [
       "2"
      ]
     },
     "execution_count": 30,
     "metadata": {},
     "output_type": "execute_result"
    }
   ],
   "source": [
    "set2 = {2,3,4,5,6,7}\n",
    "set2.pop()"
   ]
  },
  {
   "cell_type": "code",
   "execution_count": 31,
   "id": "597326ea",
   "metadata": {},
   "outputs": [
    {
     "data": {
      "text/plain": [
       "3"
      ]
     },
     "execution_count": 31,
     "metadata": {},
     "output_type": "execute_result"
    }
   ],
   "source": [
    "set2.pop()"
   ]
  },
  {
   "cell_type": "markdown",
   "id": "fea10694",
   "metadata": {},
   "source": [
    "# Frozen Set{}"
   ]
  },
  {
   "cell_type": "code",
   "execution_count": 1,
   "id": "a8b09460",
   "metadata": {},
   "outputs": [
    {
     "data": {
      "text/plain": [
       "{1, 2, 3, 4, 5, 6}"
      ]
     },
     "execution_count": 1,
     "metadata": {},
     "output_type": "execute_result"
    }
   ],
   "source": [
    "s1 = {1,2,3,4,5,6}\n",
    "s2 = {'a','b'}\n",
    "s1"
   ]
  },
  {
   "cell_type": "code",
   "execution_count": 2,
   "id": "dfe1e002",
   "metadata": {},
   "outputs": [
    {
     "data": {
      "text/plain": [
       "{'a', 'b'}"
      ]
     },
     "execution_count": 2,
     "metadata": {},
     "output_type": "execute_result"
    }
   ],
   "source": [
    "s2"
   ]
  },
  {
   "cell_type": "code",
   "execution_count": 3,
   "id": "928f2130",
   "metadata": {},
   "outputs": [
    {
     "data": {
      "text/plain": [
       "type"
      ]
     },
     "execution_count": 3,
     "metadata": {},
     "output_type": "execute_result"
    }
   ],
   "source": [
    "type(set)"
   ]
  },
  {
   "cell_type": "code",
   "execution_count": 4,
   "id": "cf48f9bf",
   "metadata": {},
   "outputs": [
    {
     "data": {
      "text/plain": [
       "set"
      ]
     },
     "execution_count": 4,
     "metadata": {},
     "output_type": "execute_result"
    }
   ],
   "source": [
    "type(s1)"
   ]
  },
  {
   "cell_type": "code",
   "execution_count": 5,
   "id": "20c4b8d3",
   "metadata": {},
   "outputs": [
    {
     "data": {
      "text/plain": [
       "set"
      ]
     },
     "execution_count": 5,
     "metadata": {},
     "output_type": "execute_result"
    }
   ],
   "source": [
    "type(s2)"
   ]
  },
  {
   "cell_type": "code",
   "execution_count": 6,
   "id": "9b650320",
   "metadata": {},
   "outputs": [],
   "source": [
    "s1.add(10)"
   ]
  },
  {
   "cell_type": "code",
   "execution_count": 7,
   "id": "30f01bbf",
   "metadata": {},
   "outputs": [
    {
     "data": {
      "text/plain": [
       "{1, 2, 3, 4, 5, 6, 10}"
      ]
     },
     "execution_count": 7,
     "metadata": {},
     "output_type": "execute_result"
    }
   ],
   "source": [
    "s1"
   ]
  },
  {
   "cell_type": "code",
   "execution_count": 8,
   "id": "b86877dd",
   "metadata": {},
   "outputs": [],
   "source": [
    "s3 = frozenset(s1)"
   ]
  },
  {
   "cell_type": "code",
   "execution_count": 10,
   "id": "ae20069e",
   "metadata": {},
   "outputs": [
    {
     "data": {
      "text/plain": [
       "frozenset"
      ]
     },
     "execution_count": 10,
     "metadata": {},
     "output_type": "execute_result"
    }
   ],
   "source": [
    "type(s3)"
   ]
  },
  {
   "cell_type": "code",
   "execution_count": 11,
   "id": "16721eb5",
   "metadata": {},
   "outputs": [
    {
     "data": {
      "text/plain": [
       "frozenset({1, 2, 3, 4, 5, 6, 10})"
      ]
     },
     "execution_count": 11,
     "metadata": {},
     "output_type": "execute_result"
    }
   ],
   "source": [
    "s3"
   ]
  },
  {
   "cell_type": "code",
   "execution_count": 13,
   "id": "533d5827",
   "metadata": {},
   "outputs": [
    {
     "ename": "AttributeError",
     "evalue": "'frozenset' object has no attribute 'add'",
     "output_type": "error",
     "traceback": [
      "\u001b[0;31m---------------------------------------------------------------------------\u001b[0m",
      "\u001b[0;31mAttributeError\u001b[0m                            Traceback (most recent call last)",
      "Cell \u001b[0;32mIn[13], line 1\u001b[0m\n\u001b[0;32m----> 1\u001b[0m \u001b[43ms3\u001b[49m\u001b[38;5;241;43m.\u001b[39;49m\u001b[43madd\u001b[49m(\u001b[38;5;241m11\u001b[39m)\n",
      "\u001b[0;31mAttributeError\u001b[0m: 'frozenset' object has no attribute 'add'"
     ]
    }
   ],
   "source": [
    "s3.add(11)"
   ]
  },
  {
   "cell_type": "code",
   "execution_count": 14,
   "id": "9e304a87",
   "metadata": {},
   "outputs": [
    {
     "ename": "AttributeError",
     "evalue": "'frozenset' object has no attribute 'remove'",
     "output_type": "error",
     "traceback": [
      "\u001b[0;31m---------------------------------------------------------------------------\u001b[0m",
      "\u001b[0;31mAttributeError\u001b[0m                            Traceback (most recent call last)",
      "Cell \u001b[0;32mIn[14], line 1\u001b[0m\n\u001b[0;32m----> 1\u001b[0m \u001b[43ms3\u001b[49m\u001b[38;5;241;43m.\u001b[39;49m\u001b[43mremove\u001b[49m(\u001b[38;5;241m5\u001b[39m)\n",
      "\u001b[0;31mAttributeError\u001b[0m: 'frozenset' object has no attribute 'remove'"
     ]
    }
   ],
   "source": [
    "s3.remove(5)"
   ]
  },
  {
   "cell_type": "code",
   "execution_count": 15,
   "id": "67b799b3",
   "metadata": {},
   "outputs": [
    {
     "data": {
      "text/plain": [
       "[1, 2, 3, 4, 5]"
      ]
     },
     "execution_count": 15,
     "metadata": {},
     "output_type": "execute_result"
    }
   ],
   "source": [
    "l1 = [1,2,3,4,5]\n",
    "l1"
   ]
  },
  {
   "cell_type": "code",
   "execution_count": 16,
   "id": "2720e0bb",
   "metadata": {},
   "outputs": [
    {
     "data": {
      "text/plain": [
       "frozenset({1, 2, 3, 4, 5})"
      ]
     },
     "execution_count": 16,
     "metadata": {},
     "output_type": "execute_result"
    }
   ],
   "source": [
    "s4 = frozenset(l1)\n",
    "s4"
   ]
  },
  {
   "cell_type": "code",
   "execution_count": 17,
   "id": "06bfc0e3",
   "metadata": {},
   "outputs": [
    {
     "data": {
      "text/plain": [
       "frozenset({1, 2, 3, 4, 5, 6, 10})"
      ]
     },
     "execution_count": 17,
     "metadata": {},
     "output_type": "execute_result"
    }
   ],
   "source": [
    "s3"
   ]
  },
  {
   "cell_type": "code",
   "execution_count": 18,
   "id": "5dd65393",
   "metadata": {},
   "outputs": [
    {
     "data": {
      "text/plain": [
       "frozenset({1, 2, 3, 4, 5})"
      ]
     },
     "execution_count": 18,
     "metadata": {},
     "output_type": "execute_result"
    }
   ],
   "source": [
    "s4"
   ]
  },
  {
   "cell_type": "code",
   "execution_count": 19,
   "id": "2153612d",
   "metadata": {},
   "outputs": [
    {
     "data": {
      "text/plain": [
       "frozenset({1, 2, 3, 4, 5, 6, 10})"
      ]
     },
     "execution_count": 19,
     "metadata": {},
     "output_type": "execute_result"
    }
   ],
   "source": [
    "s3.union(s4)"
   ]
  },
  {
   "cell_type": "code",
   "execution_count": 20,
   "id": "63535a7b",
   "metadata": {},
   "outputs": [
    {
     "data": {
      "text/plain": [
       "frozenset({1, 2, 3, 4, 5})"
      ]
     },
     "execution_count": 20,
     "metadata": {},
     "output_type": "execute_result"
    }
   ],
   "source": [
    "s3.intersection(s4)"
   ]
  },
  {
   "cell_type": "code",
   "execution_count": 21,
   "id": "2c530de7",
   "metadata": {},
   "outputs": [],
   "source": [
    "s = \"data science\"\n"
   ]
  },
  {
   "cell_type": "code",
   "execution_count": 22,
   "id": "af6083d2",
   "metadata": {},
   "outputs": [
    {
     "data": {
      "text/plain": [
       "'data science'"
      ]
     },
     "execution_count": 22,
     "metadata": {},
     "output_type": "execute_result"
    }
   ],
   "source": [
    "s"
   ]
  },
  {
   "cell_type": "code",
   "execution_count": 24,
   "id": "a72a1675",
   "metadata": {},
   "outputs": [],
   "source": [
    "s5  = frozenset(s)"
   ]
  },
  {
   "cell_type": "code",
   "execution_count": 25,
   "id": "746cc454",
   "metadata": {},
   "outputs": [
    {
     "data": {
      "text/plain": [
       "frozenset({' ', 'a', 'c', 'd', 'e', 'i', 'n', 's', 't'})"
      ]
     },
     "execution_count": 25,
     "metadata": {},
     "output_type": "execute_result"
    }
   ],
   "source": [
    "s5"
   ]
  },
  {
   "cell_type": "code",
   "execution_count": 27,
   "id": "a85ecd51",
   "metadata": {},
   "outputs": [
    {
     "data": {
      "text/plain": [
       "[['i'], [' '], ['e'], ['n'], ['d'], ['s'], ['c'], ['t'], ['a']]"
      ]
     },
     "execution_count": 27,
     "metadata": {},
     "output_type": "execute_result"
    }
   ],
   "source": [
    "[list(x) for x in s5]"
   ]
  },
  {
   "cell_type": "code",
   "execution_count": 28,
   "id": "aedf6fff",
   "metadata": {},
   "outputs": [
    {
     "data": {
      "text/plain": [
       "[('i',), (' ',), ('e',), ('n',), ('d',), ('s',), ('c',), ('t',), ('a',)]"
      ]
     },
     "execution_count": 28,
     "metadata": {},
     "output_type": "execute_result"
    }
   ],
   "source": [
    "[tuple(x) for x in s5]"
   ]
  },
  {
   "cell_type": "code",
   "execution_count": 29,
   "id": "57c2e6ae",
   "metadata": {},
   "outputs": [
    {
     "data": {
      "text/plain": [
       "[{'i'}, {' '}, {'e'}, {'n'}, {'d'}, {'s'}, {'c'}, {'t'}, {'a'}]"
      ]
     },
     "execution_count": 29,
     "metadata": {},
     "output_type": "execute_result"
    }
   ],
   "source": [
    "[set(x) for x in s5]"
   ]
  },
  {
   "cell_type": "markdown",
   "id": "c26867d4",
   "metadata": {},
   "source": [
    "# array in pyrthon"
   ]
  },
  {
   "cell_type": "code",
   "execution_count": 1,
   "id": "29b32f6e",
   "metadata": {},
   "outputs": [],
   "source": [
    "import array as ar\n"
   ]
  },
  {
   "cell_type": "code",
   "execution_count": 2,
   "id": "ba470a17",
   "metadata": {},
   "outputs": [],
   "source": [
    "ar1 = ar.array('i',[1,2,3,4,5])"
   ]
  },
  {
   "cell_type": "code",
   "execution_count": 3,
   "id": "26b42b3b",
   "metadata": {},
   "outputs": [
    {
     "data": {
      "text/plain": [
       "array('i', [1, 2, 3, 4, 5])"
      ]
     },
     "execution_count": 3,
     "metadata": {},
     "output_type": "execute_result"
    }
   ],
   "source": [
    "ar1"
   ]
  },
  {
   "cell_type": "code",
   "execution_count": 4,
   "id": "48f0f3db",
   "metadata": {},
   "outputs": [],
   "source": [
    "ar1 = ar.array('f',[1,2,3,4,5.0])"
   ]
  },
  {
   "cell_type": "code",
   "execution_count": 5,
   "id": "5b547f58",
   "metadata": {},
   "outputs": [
    {
     "data": {
      "text/plain": [
       "array('f', [1.0, 2.0, 3.0, 4.0, 5.0])"
      ]
     },
     "execution_count": 5,
     "metadata": {},
     "output_type": "execute_result"
    }
   ],
   "source": [
    "ar1"
   ]
  },
  {
   "cell_type": "code",
   "execution_count": 6,
   "id": "c1cc6866",
   "metadata": {},
   "outputs": [
    {
     "data": {
      "text/plain": [
       "1.0"
      ]
     },
     "execution_count": 6,
     "metadata": {},
     "output_type": "execute_result"
    }
   ],
   "source": [
    "ar1[0]"
   ]
  },
  {
   "cell_type": "code",
   "execution_count": 7,
   "id": "2245a4b9",
   "metadata": {},
   "outputs": [],
   "source": [
    "ar1[0] = 5.0;"
   ]
  },
  {
   "cell_type": "code",
   "execution_count": 8,
   "id": "c0dd1dd6",
   "metadata": {},
   "outputs": [
    {
     "data": {
      "text/plain": [
       "5.0"
      ]
     },
     "execution_count": 8,
     "metadata": {},
     "output_type": "execute_result"
    }
   ],
   "source": [
    "ar1[0]"
   ]
  },
  {
   "cell_type": "code",
   "execution_count": 9,
   "id": "95174f57",
   "metadata": {},
   "outputs": [
    {
     "data": {
      "text/plain": [
       "array('f', [3.0])"
      ]
     },
     "execution_count": 9,
     "metadata": {},
     "output_type": "execute_result"
    }
   ],
   "source": [
    "ar1[2:3]"
   ]
  },
  {
   "cell_type": "code",
   "execution_count": 10,
   "id": "1c9d9731",
   "metadata": {},
   "outputs": [
    {
     "data": {
      "text/plain": [
       "array('f', [3.0, 4.0, 5.0])"
      ]
     },
     "execution_count": 10,
     "metadata": {},
     "output_type": "execute_result"
    }
   ],
   "source": [
    "ar1[2:5]"
   ]
  },
  {
   "cell_type": "code",
   "execution_count": 11,
   "id": "a9f33d0b",
   "metadata": {},
   "outputs": [],
   "source": [
    "ar1.append(8)"
   ]
  },
  {
   "cell_type": "code",
   "execution_count": 12,
   "id": "b5a37f85",
   "metadata": {},
   "outputs": [
    {
     "data": {
      "text/plain": [
       "array('f', [5.0, 2.0, 3.0, 4.0, 5.0, 8.0])"
      ]
     },
     "execution_count": 12,
     "metadata": {},
     "output_type": "execute_result"
    }
   ],
   "source": [
    "ar1"
   ]
  },
  {
   "cell_type": "code",
   "execution_count": 13,
   "id": "ce2e36e7",
   "metadata": {},
   "outputs": [],
   "source": [
    "del ar1[-1]"
   ]
  },
  {
   "cell_type": "code",
   "execution_count": 14,
   "id": "7e5faf9c",
   "metadata": {},
   "outputs": [
    {
     "data": {
      "text/plain": [
       "array('f', [5.0, 2.0, 3.0, 4.0, 5.0])"
      ]
     },
     "execution_count": 14,
     "metadata": {},
     "output_type": "execute_result"
    }
   ],
   "source": [
    "ar1"
   ]
  },
  {
   "cell_type": "code",
   "execution_count": 15,
   "id": "2b59f18d",
   "metadata": {},
   "outputs": [
    {
     "data": {
      "text/plain": [
       "5"
      ]
     },
     "execution_count": 15,
     "metadata": {},
     "output_type": "execute_result"
    }
   ],
   "source": [
    "len(ar1)"
   ]
  },
  {
   "cell_type": "code",
   "execution_count": 16,
   "id": "527417d0",
   "metadata": {},
   "outputs": [],
   "source": [
    "ar1.reverse()"
   ]
  },
  {
   "cell_type": "code",
   "execution_count": 17,
   "id": "2a0f26a3",
   "metadata": {},
   "outputs": [
    {
     "data": {
      "text/plain": [
       "array('f', [5.0, 4.0, 3.0, 2.0, 5.0])"
      ]
     },
     "execution_count": 17,
     "metadata": {},
     "output_type": "execute_result"
    }
   ],
   "source": [
    "ar1"
   ]
  },
  {
   "cell_type": "code",
   "execution_count": 18,
   "id": "9cd3e233",
   "metadata": {},
   "outputs": [
    {
     "ename": "AttributeError",
     "evalue": "'array.array' object has no attribute 'sort'",
     "output_type": "error",
     "traceback": [
      "\u001b[0;31m---------------------------------------------------------------------------\u001b[0m",
      "\u001b[0;31mAttributeError\u001b[0m                            Traceback (most recent call last)",
      "Cell \u001b[0;32mIn[18], line 1\u001b[0m\n\u001b[0;32m----> 1\u001b[0m \u001b[43mar1\u001b[49m\u001b[38;5;241;43m.\u001b[39;49m\u001b[43msort\u001b[49m()\n",
      "\u001b[0;31mAttributeError\u001b[0m: 'array.array' object has no attribute 'sort'"
     ]
    }
   ],
   "source": [
    "ar1.sort()"
   ]
  },
  {
   "cell_type": "code",
   "execution_count": 20,
   "id": "73c5d018",
   "metadata": {},
   "outputs": [],
   "source": [
    "b = [1,2,3,4,5,1,3,4].sort()"
   ]
  },
  {
   "cell_type": "code",
   "execution_count": 21,
   "id": "85296673",
   "metadata": {},
   "outputs": [],
   "source": [
    "b"
   ]
  },
  {
   "cell_type": "code",
   "execution_count": 22,
   "id": "11388ae2",
   "metadata": {},
   "outputs": [],
   "source": [
    "b"
   ]
  },
  {
   "cell_type": "code",
   "execution_count": 26,
   "id": "07b92a39",
   "metadata": {},
   "outputs": [
    {
     "data": {
      "text/plain": [
       "2"
      ]
     },
     "execution_count": 26,
     "metadata": {},
     "output_type": "execute_result"
    }
   ],
   "source": [
    "ar1.count(5)"
   ]
  },
  {
   "cell_type": "code",
   "execution_count": 30,
   "id": "f0f6344a",
   "metadata": {},
   "outputs": [
    {
     "data": {
      "text/plain": [
       "5.0"
      ]
     },
     "execution_count": 30,
     "metadata": {},
     "output_type": "execute_result"
    }
   ],
   "source": [
    "ar1.pop(3) #3 is a index number"
   ]
  },
  {
   "cell_type": "code",
   "execution_count": null,
   "id": "5a247cbd",
   "metadata": {},
   "outputs": [],
   "source": [
    "r = ar.array('i',[])\n",
    "items = int(input())\n",
    "for i in range(items):\n",
    "    val = int(input())\n",
    "    r.append(val)\n",
    "    print(val)"
   ]
  },
  {
   "cell_type": "markdown",
   "id": "c2eb9394",
   "metadata": {},
   "source": [
    "# Python  Dictionary\n"
   ]
  },
  {
   "cell_type": "code",
   "execution_count": 2,
   "id": "35f301d0",
   "metadata": {},
   "outputs": [],
   "source": [
    "dic = {\n",
    "    'name':'atik',\n",
    "    'varsity':'BUBT'\n",
    "}"
   ]
  },
  {
   "cell_type": "code",
   "execution_count": 3,
   "id": "3af6c1fa",
   "metadata": {},
   "outputs": [
    {
     "data": {
      "text/plain": [
       "{'name': 'atik', 'varsity': 'BUBT'}"
      ]
     },
     "execution_count": 3,
     "metadata": {},
     "output_type": "execute_result"
    }
   ],
   "source": [
    "dic"
   ]
  },
  {
   "cell_type": "code",
   "execution_count": 4,
   "id": "87883376",
   "metadata": {},
   "outputs": [
    {
     "data": {
      "text/plain": [
       "dict_keys(['name', 'varsity'])"
      ]
     },
     "execution_count": 4,
     "metadata": {},
     "output_type": "execute_result"
    }
   ],
   "source": [
    "dic.keys()"
   ]
  },
  {
   "cell_type": "code",
   "execution_count": 6,
   "id": "6f19e73e",
   "metadata": {},
   "outputs": [
    {
     "data": {
      "text/plain": [
       "dict"
      ]
     },
     "execution_count": 6,
     "metadata": {},
     "output_type": "execute_result"
    }
   ],
   "source": [
    "type(dic)"
   ]
  },
  {
   "cell_type": "code",
   "execution_count": 7,
   "id": "f814d69b",
   "metadata": {},
   "outputs": [
    {
     "data": {
      "text/plain": [
       "dict_values(['atik', 'BUBT'])"
      ]
     },
     "execution_count": 7,
     "metadata": {},
     "output_type": "execute_result"
    }
   ],
   "source": [
    "dic.values()"
   ]
  },
  {
   "cell_type": "code",
   "execution_count": 8,
   "id": "d3c418a8",
   "metadata": {},
   "outputs": [],
   "source": [
    "#copy\n",
    "dic2 = dic.copy()"
   ]
  },
  {
   "cell_type": "code",
   "execution_count": 18,
   "id": "a3ad5bcf",
   "metadata": {},
   "outputs": [
    {
     "data": {
      "text/plain": [
       "{'name': 'atik', 'varsity': 'BUBT'}"
      ]
     },
     "execution_count": 18,
     "metadata": {},
     "output_type": "execute_result"
    }
   ],
   "source": [
    "dic2"
   ]
  },
  {
   "cell_type": "code",
   "execution_count": 20,
   "id": "2b2e611d",
   "metadata": {},
   "outputs": [],
   "source": [
    "dic['varsity'] = 'bubt'"
   ]
  },
  {
   "cell_type": "code",
   "execution_count": 21,
   "id": "a6f8ccdc",
   "metadata": {},
   "outputs": [
    {
     "data": {
      "text/plain": [
       "{'name': 'atik', 'varsity': 'bubt', 'versity': 'fau'}"
      ]
     },
     "execution_count": 21,
     "metadata": {},
     "output_type": "execute_result"
    }
   ],
   "source": [
    "dic"
   ]
  },
  {
   "cell_type": "code",
   "execution_count": 24,
   "id": "2fb4f1f0",
   "metadata": {},
   "outputs": [],
   "source": [
    "dic['dept'] ='data science'"
   ]
  },
  {
   "cell_type": "code",
   "execution_count": 25,
   "id": "54f7314c",
   "metadata": {},
   "outputs": [
    {
     "data": {
      "text/plain": [
       "{'name': 'atik', 'varsity': 'bubt', 'versity': 'fau', 'dept': 'data science'}"
      ]
     },
     "execution_count": 25,
     "metadata": {},
     "output_type": "execute_result"
    }
   ],
   "source": [
    "dic"
   ]
  },
  {
   "cell_type": "code",
   "execution_count": 28,
   "id": "9f9ac935",
   "metadata": {},
   "outputs": [],
   "source": [
    "dic.update({'dept':'ai'})"
   ]
  },
  {
   "cell_type": "code",
   "execution_count": 29,
   "id": "e949fcf4",
   "metadata": {},
   "outputs": [
    {
     "data": {
      "text/plain": [
       "{'name': 'atik', 'varsity': 'bubt', 'versity': 'fau', 'dept': 'ai'}"
      ]
     },
     "execution_count": 29,
     "metadata": {},
     "output_type": "execute_result"
    }
   ],
   "source": [
    "dic"
   ]
  },
  {
   "cell_type": "code",
   "execution_count": 30,
   "id": "88c8a5a7",
   "metadata": {},
   "outputs": [
    {
     "data": {
      "text/plain": [
       "('dept', 'ai')"
      ]
     },
     "execution_count": 30,
     "metadata": {},
     "output_type": "execute_result"
    }
   ],
   "source": [
    "dic.popitem()"
   ]
  },
  {
   "cell_type": "code",
   "execution_count": 31,
   "id": "a08ed24c",
   "metadata": {},
   "outputs": [
    {
     "data": {
      "text/plain": [
       "'bubt'"
      ]
     },
     "execution_count": 31,
     "metadata": {},
     "output_type": "execute_result"
    }
   ],
   "source": [
    "dic.pop('varsity')"
   ]
  },
  {
   "cell_type": "code",
   "execution_count": 32,
   "id": "2763991a",
   "metadata": {},
   "outputs": [],
   "source": [
    "dic['dept'] = 'Data Science'"
   ]
  },
  {
   "cell_type": "code",
   "execution_count": 33,
   "id": "040a1686",
   "metadata": {},
   "outputs": [
    {
     "data": {
      "text/plain": [
       "{'name': 'atik', 'versity': 'fau', 'dept': 'Data Science'}"
      ]
     },
     "execution_count": 33,
     "metadata": {},
     "output_type": "execute_result"
    }
   ],
   "source": [
    "dic"
   ]
  },
  {
   "cell_type": "code",
   "execution_count": 34,
   "id": "da9bf337",
   "metadata": {},
   "outputs": [],
   "source": [
    "del dic['name']"
   ]
  },
  {
   "cell_type": "code",
   "execution_count": 35,
   "id": "d41595ba",
   "metadata": {},
   "outputs": [
    {
     "data": {
      "text/plain": [
       "{'versity': 'fau', 'dept': 'Data Science'}"
      ]
     },
     "execution_count": 35,
     "metadata": {},
     "output_type": "execute_result"
    }
   ],
   "source": [
    "dic"
   ]
  },
  {
   "cell_type": "code",
   "execution_count": 36,
   "id": "b5bb698a",
   "metadata": {},
   "outputs": [],
   "source": [
    "dic['dept2'] = 'ai'"
   ]
  },
  {
   "cell_type": "code",
   "execution_count": 37,
   "id": "aecd1f13",
   "metadata": {},
   "outputs": [
    {
     "data": {
      "text/plain": [
       "{'versity': 'fau', 'dept': 'Data Science', 'dept2': 'ai'}"
      ]
     },
     "execution_count": 37,
     "metadata": {},
     "output_type": "execute_result"
    }
   ],
   "source": [
    "dic"
   ]
  },
  {
   "cell_type": "code",
   "execution_count": 38,
   "id": "46f1930c",
   "metadata": {},
   "outputs": [
    {
     "name": "stdout",
     "output_type": "stream",
     "text": [
      "fau\n",
      "Data Science\n",
      "ai\n"
     ]
    }
   ],
   "source": [
    "#print all item\n",
    "for x in dic:\n",
    "    print(dic[x])"
   ]
  },
  {
   "cell_type": "code",
   "execution_count": 39,
   "id": "309f3374",
   "metadata": {},
   "outputs": [
    {
     "name": "stdout",
     "output_type": "stream",
     "text": [
      "versity\n",
      "dept\n",
      "dept2\n"
     ]
    }
   ],
   "source": [
    "for x in dic:\n",
    "    print(x)"
   ]
  },
  {
   "cell_type": "code",
   "execution_count": 41,
   "id": "57662ab2",
   "metadata": {},
   "outputs": [],
   "source": [
    "d2 = list(dic.keys())"
   ]
  },
  {
   "cell_type": "code",
   "execution_count": 42,
   "id": "dc8d84b5",
   "metadata": {},
   "outputs": [
    {
     "data": {
      "text/plain": [
       "['versity', 'dept', 'dept2']"
      ]
     },
     "execution_count": 42,
     "metadata": {},
     "output_type": "execute_result"
    }
   ],
   "source": [
    "d2"
   ]
  },
  {
   "cell_type": "code",
   "execution_count": 43,
   "id": "58a8f0be",
   "metadata": {},
   "outputs": [],
   "source": [
    "d3 = list(dic.values())"
   ]
  },
  {
   "cell_type": "code",
   "execution_count": 44,
   "id": "30dc8c83",
   "metadata": {},
   "outputs": [
    {
     "data": {
      "text/plain": [
       "['fau', 'Data Science', 'ai']"
      ]
     },
     "execution_count": 44,
     "metadata": {},
     "output_type": "execute_result"
    }
   ],
   "source": [
    "d3"
   ]
  },
  {
   "cell_type": "code",
   "execution_count": 1,
   "id": "cc631859",
   "metadata": {},
   "outputs": [],
   "source": [
    "#dic form user input\n"
   ]
  },
  {
   "cell_type": "code",
   "execution_count": null,
   "id": "891021a4",
   "metadata": {},
   "outputs": [],
   "source": [
    "n = int(input())\n",
    "d = {}\n",
    "for i in range(n):\n",
    "    key = input()\n",
    "    value = input()\n",
    "    d[key] = value\n",
    "print(d)"
   ]
  },
  {
   "cell_type": "code",
   "execution_count": null,
   "id": "9d37d3a5",
   "metadata": {},
   "outputs": [],
   "source": []
  },
  {
   "cell_type": "code",
   "execution_count": 1,
   "id": "72ef9447",
   "metadata": {},
   "outputs": [
    {
     "name": "stdout",
     "output_type": "stream",
     "text": [
      "3\n",
      "name\n",
      "atik\n",
      "dept\n",
      "data science\n",
      "dept2\n",
      "nlp\n",
      "{'name': 'atik', 'dept': 'data science', 'dept2': 'nlp'}\n"
     ]
    }
   ],
   "source": [
    "n = int(input())\n",
    "d = {}\n",
    "for i in range(n):\n",
    "    key = input()\n",
    "    value = input()\n",
    "    d[key] = value\n",
    "print(d)"
   ]
  },
  {
   "cell_type": "markdown",
   "id": "ed940181",
   "metadata": {},
   "source": [
    "# zip"
   ]
  },
  {
   "cell_type": "code",
   "execution_count": 5,
   "id": "61ba8af8",
   "metadata": {},
   "outputs": [
    {
     "name": "stdout",
     "output_type": "stream",
     "text": [
      "[('shakil', 'diu'), ('mejbha', 'aiub'), ('sohan', 'diu')]\n"
     ]
    }
   ],
   "source": [
    "name = ['shakil','mejbha','sohan']\n",
    "varsity = ['diu','aiub','diu']\n",
    "zipped = list(zip(name,varsity))\n",
    "print(zipped)"
   ]
  },
  {
   "cell_type": "code",
   "execution_count": 7,
   "id": "588d22dd",
   "metadata": {},
   "outputs": [],
   "source": [
    "zipped = tuple(zip(name,varsity))"
   ]
  },
  {
   "cell_type": "code",
   "execution_count": 8,
   "id": "c05a4540",
   "metadata": {},
   "outputs": [
    {
     "name": "stdout",
     "output_type": "stream",
     "text": [
      "(('shakil', 'diu'), ('mejbha', 'aiub'), ('sohan', 'diu'))\n"
     ]
    }
   ],
   "source": [
    "print(zipped)"
   ]
  },
  {
   "cell_type": "code",
   "execution_count": 9,
   "id": "c28e6cdc",
   "metadata": {},
   "outputs": [],
   "source": [
    "zipped = dict(zip(name,varsity))"
   ]
  },
  {
   "cell_type": "code",
   "execution_count": 10,
   "id": "05a81666",
   "metadata": {},
   "outputs": [
    {
     "name": "stdout",
     "output_type": "stream",
     "text": [
      "{'shakil': 'diu', 'mejbha': 'aiub', 'sohan': 'diu'}\n"
     ]
    }
   ],
   "source": [
    "print(zipped)"
   ]
  },
  {
   "cell_type": "code",
   "execution_count": 11,
   "id": "c58af4d0",
   "metadata": {},
   "outputs": [
    {
     "data": {
      "text/plain": [
       "dict_keys(['shakil', 'mejbha', 'sohan'])"
      ]
     },
     "execution_count": 11,
     "metadata": {},
     "output_type": "execute_result"
    }
   ],
   "source": [
    "zipped.keys()"
   ]
  },
  {
   "cell_type": "code",
   "execution_count": 12,
   "id": "379cfff0",
   "metadata": {},
   "outputs": [
    {
     "data": {
      "text/plain": [
       "dict_values(['diu', 'aiub', 'diu'])"
      ]
     },
     "execution_count": 12,
     "metadata": {},
     "output_type": "execute_result"
    }
   ],
   "source": [
    "zipped.values()"
   ]
  },
  {
   "cell_type": "code",
   "execution_count": 13,
   "id": "0c88f5b4",
   "metadata": {},
   "outputs": [],
   "source": [
    "zipped = set(zip(name,varsity))"
   ]
  },
  {
   "cell_type": "code",
   "execution_count": 14,
   "id": "4c6187fc",
   "metadata": {},
   "outputs": [
    {
     "name": "stdout",
     "output_type": "stream",
     "text": [
      "{('mejbha', 'aiub'), ('sohan', 'diu'), ('shakil', 'diu')}\n"
     ]
    }
   ],
   "source": [
    "print(zipped)"
   ]
  },
  {
   "cell_type": "markdown",
   "id": "4028472e",
   "metadata": {},
   "source": [
    "# unzip"
   ]
  },
  {
   "cell_type": "code",
   "execution_count": 15,
   "id": "ab4b1e04",
   "metadata": {},
   "outputs": [],
   "source": [
    "name1 , varsity1 = zip(*zipped)"
   ]
  },
  {
   "cell_type": "code",
   "execution_count": 16,
   "id": "971073db",
   "metadata": {},
   "outputs": [
    {
     "data": {
      "text/plain": [
       "('mejbha', 'sohan', 'shakil')"
      ]
     },
     "execution_count": 16,
     "metadata": {},
     "output_type": "execute_result"
    }
   ],
   "source": [
    "name1"
   ]
  },
  {
   "cell_type": "code",
   "execution_count": 17,
   "id": "e7b6fa57",
   "metadata": {},
   "outputs": [
    {
     "data": {
      "text/plain": [
       "('aiub', 'diu', 'diu')"
      ]
     },
     "execution_count": 17,
     "metadata": {},
     "output_type": "execute_result"
    }
   ],
   "source": [
    "varsity1"
   ]
  },
  {
   "cell_type": "markdown",
   "id": "2f418dfd",
   "metadata": {},
   "source": [
    "# file zip and unzip"
   ]
  },
  {
   "cell_type": "code",
   "execution_count": 1,
   "id": "3b72b6b3",
   "metadata": {},
   "outputs": [
    {
     "ename": "TypeError",
     "evalue": "ZipFile.write() missing 1 required positional argument: 'filename'",
     "output_type": "error",
     "traceback": [
      "\u001b[0;31m---------------------------------------------------------------------------\u001b[0m",
      "\u001b[0;31mTypeError\u001b[0m                                 Traceback (most recent call last)",
      "Cell \u001b[0;32mIn[1], line 3\u001b[0m\n\u001b[1;32m      1\u001b[0m \u001b[38;5;28;01mimport\u001b[39;00m \u001b[38;5;21;01mzipfile\u001b[39;00m \u001b[38;5;28;01mas\u001b[39;00m \u001b[38;5;21;01mzp\u001b[39;00m\n\u001b[1;32m      2\u001b[0m zipp \u001b[38;5;241m=\u001b[39m zp\u001b[38;5;241m.\u001b[39mZipFile(\u001b[38;5;124m'\u001b[39m\u001b[38;5;124mzipped Rename.zip\u001b[39m\u001b[38;5;124m'\u001b[39m,\u001b[38;5;124m'\u001b[39m\u001b[38;5;124mw\u001b[39m\u001b[38;5;124m'\u001b[39m)\n\u001b[0;32m----> 3\u001b[0m \u001b[43mzipp\u001b[49m\u001b[38;5;241;43m.\u001b[39;49m\u001b[43mwrite\u001b[49m\u001b[43m(\u001b[49m\u001b[43m)\u001b[49m\n\u001b[1;32m      4\u001b[0m zipp\u001b[38;5;241m.\u001b[39mwrite()\n\u001b[1;32m      5\u001b[0m zipp\u001b[38;5;241m.\u001b[39mwrite()\n",
      "\u001b[0;31mTypeError\u001b[0m: ZipFile.write() missing 1 required positional argument: 'filename'"
     ]
    }
   ],
   "source": [
    "import zipfile as zp\n",
    "zipp = zp.ZipFile('zipped Rename.zip','w')\n",
    "zipp.write('file name')\n",
    "zipp.write('file name')\n",
    "zipp.write('file name')\n",
    "#3 file is zipp\n"
   ]
  },
  {
   "cell_type": "code",
   "execution_count": 2,
   "id": "5651e67e",
   "metadata": {},
   "outputs": [
    {
     "ename": "SyntaxError",
     "evalue": "invalid syntax (4090292118.py, line 2)",
     "output_type": "error",
     "traceback": [
      "\u001b[0;36m  Cell \u001b[0;32mIn[2], line 2\u001b[0;36m\u001b[0m\n\u001b[0;31m    with zp.ZipFile('Zipped.zip','r') as file;\u001b[0m\n\u001b[0m                                             ^\u001b[0m\n\u001b[0;31mSyntaxError\u001b[0m\u001b[0;31m:\u001b[0m invalid syntax\n"
     ]
    }
   ],
   "source": [
    "#unzip\n",
    "with zp.ZipFile('Zipped.zip','r') as file;\n",
    "file.extractall('file name')"
   ]
  },
  {
   "cell_type": "markdown",
   "id": "b27e60c2",
   "metadata": {},
   "source": [
    "# how to search and replace text in a file in python"
   ]
  },
  {
   "cell_type": "code",
   "execution_count": 7,
   "id": "372c7996",
   "metadata": {},
   "outputs": [],
   "source": [
    "search_word =  'arik'\n",
    "replace_word = 'atik'\n",
    "with open(r'text1.txt','r') as file:\n",
    "    data = file.read()\n",
    "    data = data.replace(search_word,replace_word)"
   ]
  },
  {
   "cell_type": "code",
   "execution_count": 13,
   "id": "bf250851",
   "metadata": {},
   "outputs": [],
   "source": [
    "with open(r'text1.txt','w') as file:\n",
    "    file.write(data)"
   ]
  },
  {
   "cell_type": "code",
   "execution_count": 14,
   "id": "1f74eec7",
   "metadata": {},
   "outputs": [],
   "source": [
    "text = 'md arik hasan'\n"
   ]
  },
  {
   "cell_type": "code",
   "execution_count": 15,
   "id": "2a0e400b",
   "metadata": {},
   "outputs": [],
   "source": [
    "import re\n"
   ]
  },
  {
   "cell_type": "code",
   "execution_count": 20,
   "id": "64966757",
   "metadata": {},
   "outputs": [
    {
     "data": {
      "text/plain": [
       "'md arik hasan'"
      ]
     },
     "execution_count": 20,
     "metadata": {},
     "output_type": "execute_result"
    }
   ],
   "source": [
    "re.sub(search_word ,replace_word,text)"
   ]
  },
  {
   "cell_type": "code",
   "execution_count": 21,
   "id": "7c6c1c7c",
   "metadata": {},
   "outputs": [],
   "source": [
    "s_w = 'Bangla'\n",
    "r_w = 'English'\n"
   ]
  },
  {
   "cell_type": "code",
   "execution_count": 22,
   "id": "22771f23",
   "metadata": {},
   "outputs": [],
   "source": [
    "t = 'i love Bangla language'\n"
   ]
  },
  {
   "cell_type": "code",
   "execution_count": 26,
   "id": "20273863",
   "metadata": {},
   "outputs": [],
   "source": [
    "import re"
   ]
  },
  {
   "cell_type": "code",
   "execution_count": 27,
   "id": "bdc47157",
   "metadata": {},
   "outputs": [
    {
     "data": {
      "text/plain": [
       "'i love English language'"
      ]
     },
     "execution_count": 27,
     "metadata": {},
     "output_type": "execute_result"
    }
   ],
   "source": [
    "re.sub(s_w,r_w,t)"
   ]
  },
  {
   "cell_type": "markdown",
   "id": "e0574d2c",
   "metadata": {},
   "source": [
    "# Unpacking Element"
   ]
  },
  {
   "cell_type": "code",
   "execution_count": 28,
   "id": "b852651c",
   "metadata": {},
   "outputs": [],
   "source": [
    "ids = {1,2,3}\n",
    "name = {'shakil','faruk','sohan'}\n",
    "\n"
   ]
  },
  {
   "cell_type": "code",
   "execution_count": 29,
   "id": "f8ee7573",
   "metadata": {},
   "outputs": [],
   "source": [
    "zipped = tuple(zip(ids,name))"
   ]
  },
  {
   "cell_type": "code",
   "execution_count": 30,
   "id": "87309a4d",
   "metadata": {},
   "outputs": [
    {
     "data": {
      "text/plain": [
       "((1, 'faruk'), (2, 'shakil'), (3, 'sohan'))"
      ]
     },
     "execution_count": 30,
     "metadata": {},
     "output_type": "execute_result"
    }
   ],
   "source": [
    "zipped"
   ]
  },
  {
   "cell_type": "code",
   "execution_count": 31,
   "id": "47ca2228",
   "metadata": {},
   "outputs": [],
   "source": [
    "ids_new, name_new = zip(*zipped)"
   ]
  },
  {
   "cell_type": "code",
   "execution_count": 32,
   "id": "5f7676a0",
   "metadata": {},
   "outputs": [
    {
     "data": {
      "text/plain": [
       "(1, 2, 3)"
      ]
     },
     "execution_count": 32,
     "metadata": {},
     "output_type": "execute_result"
    }
   ],
   "source": [
    "ids_new"
   ]
  },
  {
   "cell_type": "code",
   "execution_count": 33,
   "id": "9aee0ae4",
   "metadata": {},
   "outputs": [
    {
     "data": {
      "text/plain": [
       "('faruk', 'shakil', 'sohan')"
      ]
     },
     "execution_count": 33,
     "metadata": {},
     "output_type": "execute_result"
    }
   ],
   "source": [
    "name_new"
   ]
  },
  {
   "cell_type": "code",
   "execution_count": 34,
   "id": "9de21fd4",
   "metadata": {},
   "outputs": [
    {
     "data": {
      "text/plain": [
       "1"
      ]
     },
     "execution_count": 34,
     "metadata": {},
     "output_type": "execute_result"
    }
   ],
   "source": [
    "i1,n1 = zipped[0]\n",
    "i1"
   ]
  },
  {
   "cell_type": "code",
   "execution_count": 35,
   "id": "fa4724b5",
   "metadata": {},
   "outputs": [
    {
     "data": {
      "text/plain": [
       "'faruk'"
      ]
     },
     "execution_count": 35,
     "metadata": {},
     "output_type": "execute_result"
    }
   ],
   "source": [
    "n1"
   ]
  },
  {
   "cell_type": "code",
   "execution_count": 36,
   "id": "f2e4bb88",
   "metadata": {},
   "outputs": [
    {
     "name": "stdout",
     "output_type": "stream",
     "text": [
      "1 faruk\n",
      "2 shakil\n",
      "3 sohan\n"
     ]
    }
   ],
   "source": [
    "#unpacking using loop\n",
    "for ids, names in zipped:\n",
    "    print(ids,names)"
   ]
  },
  {
   "cell_type": "code",
   "execution_count": 37,
   "id": "4a7ebd4f",
   "metadata": {},
   "outputs": [
    {
     "name": "stdout",
     "output_type": "stream",
     "text": [
      "(0, (1, 'faruk'))\n",
      "(1, (2, 'shakil'))\n",
      "(2, (3, 'sohan'))\n"
     ]
    }
   ],
   "source": [
    "#Enumeroting :Iterator pairs\n",
    "for data in enumerate(zipped):\n",
    "    #unpack pair:ids, name\n",
    "    ids,name = data\n",
    "    print(data)\n",
    "    "
   ]
  },
  {
   "cell_type": "code",
   "execution_count": 42,
   "id": "7baf9442",
   "metadata": {},
   "outputs": [
    {
     "name": "stdout",
     "output_type": "stream",
     "text": [
      "Rank 0, id 1, namefaruk\n",
      "Rank 1, id 2, nameshakil\n",
      "Rank 2, id 3, namesohan\n"
     ]
    }
   ],
   "source": [
    "#Enumeroting :Iterator pairs\n",
    "for index, pair in enumerate(zipped):\n",
    "    #unpack pair:ids, name\n",
    "    ids,name = pair\n",
    "    print('Rank {}, id {}, name{}'.format(index,ids,name))"
   ]
  },
  {
   "cell_type": "code",
   "execution_count": 3,
   "id": "e3ffca79",
   "metadata": {},
   "outputs": [
    {
     "name": "stdout",
     "output_type": "stream",
     "text": [
      "1\n",
      "2\n",
      "3\n",
      "4\n",
      "5\n",
      "6\n",
      "7\n",
      "8\n",
      "9\n",
      "10\n",
      "11\n",
      "12\n",
      "13\n",
      "14\n",
      "15\n",
      "16\n",
      "17\n",
      "18\n",
      "19\n",
      "20\n",
      "21\n",
      "22\n",
      "23\n",
      "24\n",
      "25\n",
      "26\n",
      "27\n",
      "28\n",
      "29\n",
      "30\n",
      "31\n",
      "32\n",
      "33\n",
      "34\n",
      "35\n",
      "36\n",
      "37\n",
      "38\n",
      "39\n",
      "40\n",
      "41\n",
      "42\n",
      "43\n",
      "44\n",
      "45\n",
      "46\n",
      "47\n",
      "48\n",
      "49\n",
      "50\n"
     ]
    }
   ],
   "source": [
    "  for i in range(1,100):\n",
    "        if i==51:\n",
    "            break;\n",
    "        print(i)"
   ]
  },
  {
   "cell_type": "code",
   "execution_count": null,
   "id": "b1916c6b",
   "metadata": {},
   "outputs": [],
   "source": [
    "# for i in range(1,100):\n",
    "    if i==11:\n",
    "        break;\n",
    "    print('3 *', i,'=',i*3)"
   ]
  },
  {
   "cell_type": "code",
   "execution_count": 7,
   "id": "7d4c46c3",
   "metadata": {},
   "outputs": [],
   "source": [
    "sen = 'i love bangladesh and germany'\n"
   ]
  },
  {
   "cell_type": "code",
   "execution_count": 10,
   "id": "30f2f51c",
   "metadata": {},
   "outputs": [
    {
     "name": "stdout",
     "output_type": "stream",
     "text": [
      "i\n",
      "love\n",
      "bangladesh\n"
     ]
    }
   ],
   "source": [
    "for i in sen.split():\n",
    "    if i=='and':\n",
    "        break;\n",
    "    print(i)\n",
    "    "
   ]
  },
  {
   "cell_type": "markdown",
   "id": "97f5b209",
   "metadata": {},
   "source": [
    "# continue"
   ]
  },
  {
   "cell_type": "code",
   "execution_count": 11,
   "id": "3debbc89",
   "metadata": {},
   "outputs": [],
   "source": [
    "num = [1,2,3,4,5,6,7,8,9,10]\n"
   ]
  },
  {
   "cell_type": "code",
   "execution_count": 12,
   "id": "46da2b6f",
   "metadata": {},
   "outputs": [
    {
     "data": {
      "text/plain": [
       "[1, 2, 3, 4, 5, 6, 7, 8, 9, 10]"
      ]
     },
     "execution_count": 12,
     "metadata": {},
     "output_type": "execute_result"
    }
   ],
   "source": [
    "num\n"
   ]
  },
  {
   "cell_type": "code",
   "execution_count": 15,
   "id": "3182874e",
   "metadata": {},
   "outputs": [
    {
     "data": {
      "text/plain": [
       "[2, 4, 6, 8, 10]"
      ]
     },
     "execution_count": 15,
     "metadata": {},
     "output_type": "execute_result"
    }
   ],
   "source": [
    "#list compression\n",
    "[ i for i in num if i%2==0] #even"
   ]
  },
  {
   "cell_type": "code",
   "execution_count": 16,
   "id": "e73417e0",
   "metadata": {},
   "outputs": [
    {
     "name": "stdout",
     "output_type": "stream",
     "text": [
      "2\n",
      "4\n",
      "6\n",
      "8\n",
      "10\n"
     ]
    }
   ],
   "source": [
    "for i in num :\n",
    "    if i%2==1:\n",
    "        continue\n",
    "    print(i)"
   ]
  },
  {
   "cell_type": "markdown",
   "id": "e5ebfc8e",
   "metadata": {},
   "source": [
    "#  commonly used building function"
   ]
  },
  {
   "cell_type": "code",
   "execution_count": null,
   "id": "3d95ff73",
   "metadata": {},
   "outputs": [],
   "source": []
  },
  {
   "cell_type": "markdown",
   "id": "0d8c2d2d",
   "metadata": {},
   "source": [
    "# 1.print():outputs text or variables to the console."
   ]
  },
  {
   "cell_type": "code",
   "execution_count": 17,
   "id": "e5eca913",
   "metadata": {},
   "outputs": [
    {
     "name": "stdout",
     "output_type": "stream",
     "text": [
      "data scien\n"
     ]
    }
   ],
   "source": [
    "print(\"data scien\")"
   ]
  },
  {
   "cell_type": "markdown",
   "id": "21c1e1a2",
   "metadata": {},
   "source": [
    "# 2.len():Returns the length of an object"
   ]
  },
  {
   "cell_type": "code",
   "execution_count": 18,
   "id": "5c9bcd9f",
   "metadata": {},
   "outputs": [],
   "source": [
    "my_list ={1,2,3,4,5}\n",
    "length = len(my_list)"
   ]
  },
  {
   "cell_type": "code",
   "execution_count": 19,
   "id": "3bd89fb6",
   "metadata": {},
   "outputs": [
    {
     "data": {
      "text/plain": [
       "5"
      ]
     },
     "execution_count": 19,
     "metadata": {},
     "output_type": "execute_result"
    }
   ],
   "source": [
    "length"
   ]
  },
  {
   "cell_type": "markdown",
   "id": "aaf3d26c",
   "metadata": {},
   "source": [
    "# 3.input():reads input from the user."
   ]
  },
  {
   "cell_type": "code",
   "execution_count": 25,
   "id": "418e12ab",
   "metadata": {},
   "outputs": [
    {
     "name": "stdout",
     "output_type": "stream",
     "text": [
      "Enter something:4\n"
     ]
    }
   ],
   "source": [
    "user_input = input(\"Enter something:\")"
   ]
  },
  {
   "cell_type": "code",
   "execution_count": 26,
   "id": "27ab40ae",
   "metadata": {},
   "outputs": [
    {
     "data": {
      "text/plain": [
       "'4'"
      ]
     },
     "execution_count": 26,
     "metadata": {},
     "output_type": "execute_result"
    }
   ],
   "source": [
    "user_input"
   ]
  },
  {
   "cell_type": "markdown",
   "id": "4019301e",
   "metadata": {},
   "source": [
    "# 4.type():Returns the type of an object."
   ]
  },
  {
   "cell_type": "code",
   "execution_count": 27,
   "id": "7f4b18ab",
   "metadata": {},
   "outputs": [
    {
     "data": {
      "text/plain": [
       "int"
      ]
     },
     "execution_count": 27,
     "metadata": {},
     "output_type": "execute_result"
    }
   ],
   "source": [
    "x = 5\n",
    "type_of_x = type(x)\n",
    "type_of_x"
   ]
  },
  {
   "cell_type": "markdown",
   "id": "b58d9b9b",
   "metadata": {},
   "source": [
    "# 5.in(),float(),str():Converts values to integers floats,or strings."
   ]
  },
  {
   "cell_type": "code",
   "execution_count": 28,
   "id": "fc57ec3a",
   "metadata": {},
   "outputs": [],
   "source": [
    "num_str = \"44555\"\n",
    "num_int = int(num_str)"
   ]
  },
  {
   "cell_type": "code",
   "execution_count": 29,
   "id": "9c23d3bb",
   "metadata": {},
   "outputs": [
    {
     "data": {
      "text/plain": [
       "'44555'"
      ]
     },
     "execution_count": 29,
     "metadata": {},
     "output_type": "execute_result"
    }
   ],
   "source": [
    "num_str"
   ]
  },
  {
   "cell_type": "code",
   "execution_count": 30,
   "id": "a545cdb0",
   "metadata": {},
   "outputs": [
    {
     "data": {
      "text/plain": [
       "44555"
      ]
     },
     "execution_count": 30,
     "metadata": {},
     "output_type": "execute_result"
    }
   ],
   "source": [
    "num_int"
   ]
  },
  {
   "cell_type": "code",
   "execution_count": 31,
   "id": "01706b8c",
   "metadata": {},
   "outputs": [
    {
     "data": {
      "text/plain": [
       "str"
      ]
     },
     "execution_count": 31,
     "metadata": {},
     "output_type": "execute_result"
    }
   ],
   "source": [
    "type(num_str)"
   ]
  },
  {
   "cell_type": "code",
   "execution_count": 32,
   "id": "58b5bff8",
   "metadata": {},
   "outputs": [
    {
     "data": {
      "text/plain": [
       "int"
      ]
     },
     "execution_count": 32,
     "metadata": {},
     "output_type": "execute_result"
    }
   ],
   "source": [
    "type(num_int)"
   ]
  },
  {
   "cell_type": "markdown",
   "id": "085dcd0e",
   "metadata": {},
   "source": [
    "# 6.range():Generates a sequence of numbers.\n"
   ]
  },
  {
   "cell_type": "code",
   "execution_count": 33,
   "id": "86d12ae5",
   "metadata": {},
   "outputs": [],
   "source": [
    "numbers = list(range(1,6)) "
   ]
  },
  {
   "cell_type": "code",
   "execution_count": 34,
   "id": "61d30103",
   "metadata": {},
   "outputs": [
    {
     "data": {
      "text/plain": [
       "[1, 2, 3, 4, 5]"
      ]
     },
     "execution_count": 34,
     "metadata": {},
     "output_type": "execute_result"
    }
   ],
   "source": [
    "numbers"
   ]
  },
  {
   "cell_type": "markdown",
   "id": "eb515b40",
   "metadata": {},
   "source": [
    "# 7.sum():return the sum of all elemelnts in an iterable\n"
   ]
  },
  {
   "cell_type": "code",
   "execution_count": 35,
   "id": "3ca17a16",
   "metadata": {},
   "outputs": [],
   "source": [
    "total = sum(numbers)"
   ]
  },
  {
   "cell_type": "code",
   "execution_count": 36,
   "id": "0e05f32d",
   "metadata": {},
   "outputs": [
    {
     "data": {
      "text/plain": [
       "15"
      ]
     },
     "execution_count": 36,
     "metadata": {},
     "output_type": "execute_result"
    }
   ],
   "source": [
    "total"
   ]
  },
  {
   "cell_type": "markdown",
   "id": "33c981ef",
   "metadata": {},
   "source": [
    "# 8.max(),min():Retruns the maximum or minimum value from an iterable.\n"
   ]
  },
  {
   "cell_type": "code",
   "execution_count": 37,
   "id": "3de2bf1b",
   "metadata": {},
   "outputs": [],
   "source": [
    "number = [2,3,4,3,44,56,4,1,1]\n",
    "max_val = max(number)"
   ]
  },
  {
   "cell_type": "code",
   "execution_count": 38,
   "id": "b0598251",
   "metadata": {},
   "outputs": [
    {
     "data": {
      "text/plain": [
       "56"
      ]
     },
     "execution_count": 38,
     "metadata": {},
     "output_type": "execute_result"
    }
   ],
   "source": [
    "max_val"
   ]
  },
  {
   "cell_type": "code",
   "execution_count": 39,
   "id": "03ed7058",
   "metadata": {},
   "outputs": [],
   "source": [
    "min_val=min(number)"
   ]
  },
  {
   "cell_type": "code",
   "execution_count": 40,
   "id": "7a4bffcd",
   "metadata": {},
   "outputs": [
    {
     "data": {
      "text/plain": [
       "1"
      ]
     },
     "execution_count": 40,
     "metadata": {},
     "output_type": "execute_result"
    }
   ],
   "source": [
    "min_val"
   ]
  },
  {
   "cell_type": "markdown",
   "id": "3d5107ab",
   "metadata": {},
   "source": [
    "# 9.abs():Return the absolute value of a number "
   ]
  },
  {
   "cell_type": "code",
   "execution_count": 42,
   "id": "025965f0",
   "metadata": {},
   "outputs": [],
   "source": [
    "absolute_value = abs(-10)"
   ]
  },
  {
   "cell_type": "code",
   "execution_count": 43,
   "id": "366510c3",
   "metadata": {},
   "outputs": [
    {
     "data": {
      "text/plain": [
       "10"
      ]
     },
     "execution_count": 43,
     "metadata": {},
     "output_type": "execute_result"
    }
   ],
   "source": [
    "absolute_value"
   ]
  },
  {
   "cell_type": "markdown",
   "id": "74b6928a",
   "metadata": {},
   "source": [
    "# 10.round():Rounds a floating-point number to a specified number of decimals."
   ]
  },
  {
   "cell_type": "code",
   "execution_count": 44,
   "id": "c44f225d",
   "metadata": {},
   "outputs": [
    {
     "data": {
      "text/plain": [
       "3.14"
      ]
     },
     "execution_count": 44,
     "metadata": {},
     "output_type": "execute_result"
    }
   ],
   "source": [
    "round_num = round(3.14159,2) #rounds to 2 decimal places\n",
    "round_num"
   ]
  },
  {
   "cell_type": "markdown",
   "id": "b5fa839a",
   "metadata": {},
   "source": [
    "# 11.sorted():Returns an new sorted list from the elements"
   ]
  },
  {
   "cell_type": "code",
   "execution_count": 45,
   "id": "02d1530f",
   "metadata": {},
   "outputs": [],
   "source": [
    "numbers = [3,1,4,1,5,9,2]\n",
    "sorted_numbers = sorted(numbers)"
   ]
  },
  {
   "cell_type": "code",
   "execution_count": 46,
   "id": "ef4f7e38",
   "metadata": {},
   "outputs": [
    {
     "data": {
      "text/plain": [
       "[1, 1, 2, 3, 4, 5, 9]"
      ]
     },
     "execution_count": 46,
     "metadata": {},
     "output_type": "execute_result"
    }
   ],
   "source": [
    "sorted_numbers"
   ]
  },
  {
   "cell_type": "markdown",
   "id": "2380fef7",
   "metadata": {},
   "source": [
    "# 12.any(),all():Returns True if any or all elements in an iterable are true"
   ]
  },
  {
   "cell_type": "code",
   "execution_count": 51,
   "id": "32a8d09f",
   "metadata": {},
   "outputs": [],
   "source": [
    "bool_list = [True,False,True,True,False]\n",
    "any_true = any(bool_list)\n",
    "all_true = all(bool_list)"
   ]
  },
  {
   "cell_type": "code",
   "execution_count": 52,
   "id": "81d592c9",
   "metadata": {},
   "outputs": [
    {
     "data": {
      "text/plain": [
       "True"
      ]
     },
     "execution_count": 52,
     "metadata": {},
     "output_type": "execute_result"
    }
   ],
   "source": [
    "any_true"
   ]
  },
  {
   "cell_type": "code",
   "execution_count": 53,
   "id": "b7a40a69",
   "metadata": {},
   "outputs": [
    {
     "data": {
      "text/plain": [
       "False"
      ]
     },
     "execution_count": 53,
     "metadata": {},
     "output_type": "execute_result"
    }
   ],
   "source": [
    "all_true"
   ]
  },
  {
   "cell_type": "markdown",
   "id": "d2632c44",
   "metadata": {},
   "source": [
    "# 13.str.join():joins elements of an iterable with astring as a separator."
   ]
  },
  {
   "cell_type": "code",
   "execution_count": 55,
   "id": "322eaa3a",
   "metadata": {},
   "outputs": [
    {
     "data": {
      "text/plain": [
       "'apple+banana+orange'"
      ]
     },
     "execution_count": 55,
     "metadata": {},
     "output_type": "execute_result"
    }
   ],
   "source": [
    "my_list = [\"apple\",\"banana\",\"orange\"]\n",
    "joined_str = \"+\".join(my_list)\n",
    "joined_str"
   ]
  },
  {
   "cell_type": "code",
   "execution_count": 47,
   "id": "5bf78fc6",
   "metadata": {},
   "outputs": [],
   "source": [
    "my_string = \"hello , world!\"\n",
    "lower_case = my_string.lower()"
   ]
  },
  {
   "cell_type": "code",
   "execution_count": 48,
   "id": "370d8675",
   "metadata": {},
   "outputs": [],
   "source": [
    "upper_case = my_string.upper()"
   ]
  },
  {
   "cell_type": "code",
   "execution_count": null,
   "id": "61b2d375",
   "metadata": {},
   "outputs": [],
   "source": [
    "# lower_case"
   ]
  },
  {
   "cell_type": "code",
   "execution_count": 56,
   "id": "e318f115",
   "metadata": {},
   "outputs": [
    {
     "data": {
      "text/plain": [
       "'HELLO , WORLD!'"
      ]
     },
     "execution_count": 56,
     "metadata": {},
     "output_type": "execute_result"
    }
   ],
   "source": [
    "upper_case"
   ]
  },
  {
   "cell_type": "markdown",
   "id": "bedbe2a8",
   "metadata": {},
   "source": [
    "# 15.list(),tuple(): converts an iterable to a list or tuple.\n"
   ]
  },
  {
   "cell_type": "code",
   "execution_count": 57,
   "id": "fc5801e5",
   "metadata": {},
   "outputs": [],
   "source": [
    "my_tuple = (1,2,3)\n",
    "tuple_to_list = list(my_tuple)"
   ]
  },
  {
   "cell_type": "code",
   "execution_count": 58,
   "id": "fb63e112",
   "metadata": {},
   "outputs": [
    {
     "data": {
      "text/plain": [
       "(1, 2, 3)"
      ]
     },
     "execution_count": 58,
     "metadata": {},
     "output_type": "execute_result"
    }
   ],
   "source": [
    "my_tuple"
   ]
  },
  {
   "cell_type": "code",
   "execution_count": 59,
   "id": "dedf62f0",
   "metadata": {},
   "outputs": [
    {
     "data": {
      "text/plain": [
       "[1, 2, 3]"
      ]
     },
     "execution_count": 59,
     "metadata": {},
     "output_type": "execute_result"
    }
   ],
   "source": [
    "tuple_to_list"
   ]
  },
  {
   "cell_type": "markdown",
   "id": "8872dd14",
   "metadata": {},
   "source": [
    "# 16.dict():Creates a dictionary"
   ]
  },
  {
   "cell_type": "code",
   "execution_count": 60,
   "id": "3af49a5a",
   "metadata": {},
   "outputs": [
    {
     "data": {
      "text/plain": [
       "{'name': 'john', 'age': 25}"
      ]
     },
     "execution_count": 60,
     "metadata": {},
     "output_type": "execute_result"
    }
   ],
   "source": [
    "my_dict = dict(name=\"john\",age = 25)\n",
    "my_dict"
   ]
  },
  {
   "cell_type": "markdown",
   "id": "a9ee5b87",
   "metadata": {},
   "source": [
    "# 17.set():Creates a set."
   ]
  },
  {
   "cell_type": "code",
   "execution_count": 61,
   "id": "12e792ff",
   "metadata": {},
   "outputs": [
    {
     "data": {
      "text/plain": [
       "{1, 2, 3, 4}"
      ]
     },
     "execution_count": 61,
     "metadata": {},
     "output_type": "execute_result"
    }
   ],
   "source": [
    "my_set = set([1,2,3,3,4])\n",
    "my_set"
   ]
  },
  {
   "cell_type": "markdown",
   "id": "39f7e06b",
   "metadata": {},
   "source": [
    "# 18.enumerate():Returns tuples with the index and corrsponding element."
   ]
  },
  {
   "cell_type": "code",
   "execution_count": 63,
   "id": "0ccc7071",
   "metadata": {},
   "outputs": [
    {
     "name": "stdout",
     "output_type": "stream",
     "text": [
      "0 a\n",
      "1 b\n",
      "2 c\n"
     ]
    }
   ],
   "source": [
    "my_list = [\"a\",\"b\",\"c\"]\n",
    "for index,value in enumerate(my_list):\n",
    "    print(index,value)"
   ]
  },
  {
   "cell_type": "markdown",
   "id": "e36ce500",
   "metadata": {},
   "source": [
    "# 19.zip():Combinces two or more iterables element-wise"
   ]
  },
  {
   "cell_type": "code",
   "execution_count": 64,
   "id": "843492dc",
   "metadata": {},
   "outputs": [],
   "source": [
    "names = [\"Alice\",\"Bob\",\"charlie\"]\n",
    "ages = [25,30,22]\n",
    "zipped_data = zip(names,ages)"
   ]
  },
  {
   "cell_type": "code",
   "execution_count": 65,
   "id": "c889fc4d",
   "metadata": {},
   "outputs": [
    {
     "data": {
      "text/plain": [
       "<zip at 0x7eee225f4480>"
      ]
     },
     "execution_count": 65,
     "metadata": {},
     "output_type": "execute_result"
    }
   ],
   "source": [
    "zipped_data"
   ]
  },
  {
   "cell_type": "code",
   "execution_count": 66,
   "id": "8f6c02ac",
   "metadata": {},
   "outputs": [
    {
     "data": {
      "text/plain": [
       "zip"
      ]
     },
     "execution_count": 66,
     "metadata": {},
     "output_type": "execute_result"
    }
   ],
   "source": [
    "type(zipped_data)"
   ]
  },
  {
   "cell_type": "markdown",
   "id": "452db57e",
   "metadata": {},
   "source": [
    "# 20.reversed():Returns a reverse iterator of asequence.\n"
   ]
  },
  {
   "cell_type": "code",
   "execution_count": 68,
   "id": "16c25392",
   "metadata": {},
   "outputs": [
    {
     "data": {
      "text/plain": [
       "[3, 2, 1]"
      ]
     },
     "execution_count": 68,
     "metadata": {},
     "output_type": "execute_result"
    }
   ],
   "source": [
    "my_list = [1,2,3]\n",
    "reversed_list = list(reversed(my_list))\n",
    "reversed_list"
   ]
  },
  {
   "cell_type": "markdown",
   "id": "98524d92",
   "metadata": {},
   "source": [
    "# 21.sum():with start argument : Returns the sum of an iterable with an optional starting value.\n"
   ]
  },
  {
   "cell_type": "code",
   "execution_count": 69,
   "id": "20f3494f",
   "metadata": {},
   "outputs": [
    {
     "data": {
      "text/plain": [
       "16"
      ]
     },
     "execution_count": 69,
     "metadata": {},
     "output_type": "execute_result"
    }
   ],
   "source": [
    "numbers = [1,2,3]\n",
    "total = sum(numbers,10)\n",
    "total"
   ]
  },
  {
   "cell_type": "markdown",
   "id": "797547e4",
   "metadata": {},
   "source": [
    "# 22.abs()(for complex numbers): Returns the magnitude of a complex number.\n"
   ]
  },
  {
   "cell_type": "code",
   "execution_count": null,
   "id": "dca14830",
   "metadata": {},
   "outputs": [],
   "source": [
    "# complex_num  = 3 + 4j\n",
    "megnitude = abs(complex_num)"
   ]
  },
  {
   "cell_type": "code",
   "execution_count": 72,
   "id": "ff982eea",
   "metadata": {},
   "outputs": [
    {
     "data": {
      "text/plain": [
       "5.0"
      ]
     },
     "execution_count": 72,
     "metadata": {},
     "output_type": "execute_result"
    }
   ],
   "source": [
    "megnitude"
   ]
  },
  {
   "cell_type": "markdown",
   "id": "d4f67e3e",
   "metadata": {},
   "source": [
    "# 23.slice():creates a slice object that can be used to slice sequences like lists and strings"
   ]
  },
  {
   "cell_type": "code",
   "execution_count": 73,
   "id": "4369695e",
   "metadata": {},
   "outputs": [
    {
     "data": {
      "text/plain": [
       "[2, 3, 4]"
      ]
     },
     "execution_count": 73,
     "metadata": {},
     "output_type": "execute_result"
    }
   ],
   "source": [
    "my_list = [1,2,3,4,5]\n",
    "my_slice = slice(1,4)\n",
    "sliced_list = my_list[my_slice]\n",
    "sliced_list"
   ]
  },
  {
   "cell_type": "markdown",
   "id": "bbd0d556",
   "metadata": {},
   "source": [
    "# 24.chr(),ord() (extend usage): Handling unicode characters and code points.\n"
   ]
  },
  {
   "cell_type": "code",
   "execution_count": 74,
   "id": "1cb01e85",
   "metadata": {},
   "outputs": [],
   "source": [
    "eura_symble = chr(8354)\n"
   ]
  },
  {
   "cell_type": "code",
   "execution_count": 75,
   "id": "a8920d67",
   "metadata": {},
   "outputs": [
    {
     "data": {
      "text/plain": [
       "'₢'"
      ]
     },
     "execution_count": 75,
     "metadata": {},
     "output_type": "execute_result"
    }
   ],
   "source": [
    "eura_symble"
   ]
  },
  {
   "cell_type": "code",
   "execution_count": 76,
   "id": "4aca2aaa",
   "metadata": {},
   "outputs": [],
   "source": [
    "code_point = ord('₢')"
   ]
  },
  {
   "cell_type": "code",
   "execution_count": 77,
   "id": "a8e542cf",
   "metadata": {},
   "outputs": [
    {
     "data": {
      "text/plain": [
       "8354"
      ]
     },
     "execution_count": 77,
     "metadata": {},
     "output_type": "execute_result"
    }
   ],
   "source": [
    "code_point"
   ]
  },
  {
   "cell_type": "code",
   "execution_count": 78,
   "id": "8461f1ca",
   "metadata": {},
   "outputs": [],
   "source": [
    "char = chr(65)"
   ]
  },
  {
   "cell_type": "code",
   "execution_count": 80,
   "id": "670dd110",
   "metadata": {},
   "outputs": [
    {
     "data": {
      "text/plain": [
       "'A'"
      ]
     },
     "execution_count": 80,
     "metadata": {},
     "output_type": "execute_result"
    }
   ],
   "source": [
    "char"
   ]
  },
  {
   "cell_type": "code",
   "execution_count": 81,
   "id": "a05e8a67",
   "metadata": {},
   "outputs": [],
   "source": [
    "code_point = ord('A')"
   ]
  },
  {
   "cell_type": "code",
   "execution_count": 82,
   "id": "cbdd3aab",
   "metadata": {},
   "outputs": [
    {
     "data": {
      "text/plain": [
       "65"
      ]
     },
     "execution_count": 82,
     "metadata": {},
     "output_type": "execute_result"
    }
   ],
   "source": [
    "code_point"
   ]
  },
  {
   "cell_type": "markdown",
   "id": "d0a81f62",
   "metadata": {},
   "source": [
    "# function in Python"
   ]
  },
  {
   "cell_type": "code",
   "execution_count": 1,
   "id": "d390797d",
   "metadata": {},
   "outputs": [],
   "source": [
    "def dept():\n",
    "    print(\"Data science\")\n",
    "    \n",
    "    "
   ]
  },
  {
   "cell_type": "code",
   "execution_count": 2,
   "id": "5b901293",
   "metadata": {},
   "outputs": [
    {
     "name": "stdout",
     "output_type": "stream",
     "text": [
      "Data science\n"
     ]
    }
   ],
   "source": [
    "dept()"
   ]
  },
  {
   "cell_type": "code",
   "execution_count": 3,
   "id": "8a572751",
   "metadata": {},
   "outputs": [
    {
     "name": "stdout",
     "output_type": "stream",
     "text": [
      "Data science\n"
     ]
    }
   ],
   "source": [
    "dept()"
   ]
  },
  {
   "cell_type": "markdown",
   "id": "32fd8d39",
   "metadata": {},
   "source": [
    "# Parameters:"
   ]
  },
  {
   "cell_type": "code",
   "execution_count": 8,
   "id": "3bdfefb7",
   "metadata": {},
   "outputs": [],
   "source": [
    "def dept_with_names(name):\n",
    "    print(f'my major is : { name}')"
   ]
  },
  {
   "cell_type": "code",
   "execution_count": 10,
   "id": "e23e5e9e",
   "metadata": {},
   "outputs": [
    {
     "name": "stdout",
     "output_type": "stream",
     "text": [
      "my major is : Data science\n"
     ]
    }
   ],
   "source": [
    "dept_with_names(\"Data science\")"
   ]
  },
  {
   "cell_type": "markdown",
   "id": "98ef7c5d",
   "metadata": {},
   "source": [
    "# Return Statement"
   ]
  },
  {
   "cell_type": "code",
   "execution_count": 14,
   "id": "e82e8024",
   "metadata": {},
   "outputs": [],
   "source": [
    "def name():\n",
    "    print(\"shakil\")\n",
    "    return print(\"Atik\")"
   ]
  },
  {
   "cell_type": "code",
   "execution_count": 12,
   "id": "44209bc0",
   "metadata": {},
   "outputs": [
    {
     "name": "stdout",
     "output_type": "stream",
     "text": [
      "shakil\n"
     ]
    },
    {
     "data": {
      "text/plain": [
       "1"
      ]
     },
     "execution_count": 12,
     "metadata": {},
     "output_type": "execute_result"
    }
   ],
   "source": [
    "name()"
   ]
  },
  {
   "cell_type": "code",
   "execution_count": 15,
   "id": "f9e99704",
   "metadata": {},
   "outputs": [
    {
     "name": "stdout",
     "output_type": "stream",
     "text": [
      "shakil\n",
      "Atik\n"
     ]
    }
   ],
   "source": [
    "name()"
   ]
  },
  {
   "cell_type": "code",
   "execution_count": 16,
   "id": "334cc26d",
   "metadata": {},
   "outputs": [],
   "source": [
    "def name():\n",
    "    return dept()"
   ]
  },
  {
   "cell_type": "code",
   "execution_count": 17,
   "id": "2942d0fb",
   "metadata": {},
   "outputs": [
    {
     "name": "stdout",
     "output_type": "stream",
     "text": [
      "Data science\n"
     ]
    }
   ],
   "source": [
    "name()"
   ]
  },
  {
   "cell_type": "markdown",
   "id": "f2288d3d",
   "metadata": {},
   "source": [
    "# Question: 01 "
   ]
  },
  {
   "cell_type": "raw",
   "id": "5f8f0601",
   "metadata": {},
   "source": [
    "Write a function taht wont take any parameters explicity.instead, it defines local variables a and b within the function and returns their sum. the values of a and b are fixed within the function"
   ]
  },
  {
   "cell_type": "code",
   "execution_count": 18,
   "id": "123b9b4a",
   "metadata": {},
   "outputs": [],
   "source": [
    "def add_num():\n",
    "    a = 10\n",
    "    b = 20\n",
    "    return a+b"
   ]
  },
  {
   "cell_type": "code",
   "execution_count": 19,
   "id": "0ca99858",
   "metadata": {},
   "outputs": [
    {
     "data": {
      "text/plain": [
       "30"
      ]
     },
     "execution_count": 19,
     "metadata": {},
     "output_type": "execute_result"
    }
   ],
   "source": [
    "add_num()"
   ]
  },
  {
   "cell_type": "code",
   "execution_count": 20,
   "id": "5eb3dcbf",
   "metadata": {},
   "outputs": [],
   "source": [
    "def ad_sum(a,b):\n",
    "    return a+b\n"
   ]
  },
  {
   "cell_type": "code",
   "execution_count": 21,
   "id": "08d2375f",
   "metadata": {},
   "outputs": [
    {
     "data": {
      "text/plain": [
       "7"
      ]
     },
     "execution_count": 21,
     "metadata": {},
     "output_type": "execute_result"
    }
   ],
   "source": [
    "ad_sum(4,3)"
   ]
  },
  {
   "cell_type": "markdown",
   "id": "ff3b6439",
   "metadata": {},
   "source": [
    "# more about return"
   ]
  },
  {
   "cell_type": "code",
   "execution_count": 22,
   "id": "f07bd433",
   "metadata": {},
   "outputs": [],
   "source": [
    "def user_input():\n",
    "    x1 = int(input())\n",
    "    x2 = int(input())\n",
    "    y1 =int(input())\n",
    "    y2 = int(input())\n",
    "    \n",
    "    return x1,x2"
   ]
  },
  {
   "cell_type": "code",
   "execution_count": 23,
   "id": "0ed93bac",
   "metadata": {},
   "outputs": [
    {
     "name": "stdout",
     "output_type": "stream",
     "text": [
      "1\n",
      "2\n",
      "3\n",
      "4\n"
     ]
    },
    {
     "data": {
      "text/plain": [
       "(1, 2)"
      ]
     },
     "execution_count": 23,
     "metadata": {},
     "output_type": "execute_result"
    }
   ],
   "source": [
    "user_input()"
   ]
  },
  {
   "cell_type": "code",
   "execution_count": 24,
   "id": "1c68e357",
   "metadata": {},
   "outputs": [],
   "source": [
    "def user_input():\n",
    "    x1 = int(input())\n",
    "    x2 = int(input())\n",
    "    y1 =int(input())\n",
    "    y2 = int(input())\n",
    "    \n",
    "    return x1,x2,y1,y2"
   ]
  },
  {
   "cell_type": "code",
   "execution_count": 25,
   "id": "a535da74",
   "metadata": {},
   "outputs": [
    {
     "name": "stdout",
     "output_type": "stream",
     "text": [
      "1\n",
      "2\n",
      "3\n",
      "4\n"
     ]
    },
    {
     "data": {
      "text/plain": [
       "(1, 2, 3, 4)"
      ]
     },
     "execution_count": 25,
     "metadata": {},
     "output_type": "execute_result"
    }
   ],
   "source": [
    "user_input()"
   ]
  },
  {
   "cell_type": "code",
   "execution_count": 33,
   "id": "1dda7623",
   "metadata": {},
   "outputs": [],
   "source": [
    "def user_input():\n",
    "    x1 = int(input())\n",
    "    x2 = int(input())\n",
    "    y1 =int(input())\n",
    "    y2 = int(input())\n",
    "    \n",
    "    return (x1,x2),(y1,y2)"
   ]
  },
  {
   "cell_type": "code",
   "execution_count": 34,
   "id": "13409791",
   "metadata": {},
   "outputs": [
    {
     "name": "stdout",
     "output_type": "stream",
     "text": [
      "1\n",
      "2\n",
      "3\n",
      "4\n"
     ]
    },
    {
     "data": {
      "text/plain": [
       "((1, 2), (3, 4))"
      ]
     },
     "execution_count": 34,
     "metadata": {},
     "output_type": "execute_result"
    }
   ],
   "source": [
    "user_input()"
   ]
  },
  {
   "cell_type": "code",
   "execution_count": 35,
   "id": "cc6da631",
   "metadata": {},
   "outputs": [
    {
     "name": "stdout",
     "output_type": "stream",
     "text": [
      "1\n",
      "2\n",
      "3\n",
      "4\n"
     ]
    }
   ],
   "source": [
    "r1,r2 = user_input()"
   ]
  },
  {
   "cell_type": "code",
   "execution_count": 36,
   "id": "3046911e",
   "metadata": {},
   "outputs": [
    {
     "data": {
      "text/plain": [
       "(1, 2)"
      ]
     },
     "execution_count": 36,
     "metadata": {},
     "output_type": "execute_result"
    }
   ],
   "source": [
    "r1"
   ]
  },
  {
   "cell_type": "code",
   "execution_count": 37,
   "id": "1e2f697b",
   "metadata": {},
   "outputs": [
    {
     "data": {
      "text/plain": [
       "(3, 4)"
      ]
     },
     "execution_count": 37,
     "metadata": {},
     "output_type": "execute_result"
    }
   ],
   "source": [
    "r2"
   ]
  },
  {
   "cell_type": "code",
   "execution_count": 5,
   "id": "00c77be6",
   "metadata": {},
   "outputs": [],
   "source": [
    "def user_input():\n",
    "    x1 = int(input())\n",
    "    x2 = int(input())\n",
    "    y1 =int(input())\n",
    "    y2 = int(input())\n",
    "    \n",
    "    return (x1,x2),(y1,y2)"
   ]
  },
  {
   "cell_type": "code",
   "execution_count": 6,
   "id": "7f240674",
   "metadata": {},
   "outputs": [
    {
     "name": "stdout",
     "output_type": "stream",
     "text": [
      "1\n",
      "2\n",
      "3\n",
      "4\n"
     ]
    }
   ],
   "source": [
    "r1,_ = user_input()"
   ]
  },
  {
   "cell_type": "code",
   "execution_count": 7,
   "id": "605a9e81",
   "metadata": {},
   "outputs": [
    {
     "data": {
      "text/plain": [
       "(1, 2)"
      ]
     },
     "execution_count": 7,
     "metadata": {},
     "output_type": "execute_result"
    }
   ],
   "source": [
    "r1"
   ]
  },
  {
   "cell_type": "code",
   "execution_count": 9,
   "id": "70aa9392",
   "metadata": {},
   "outputs": [],
   "source": [
    "def sq_and_cube(x):\n",
    "    sq = x**2\n",
    "    cube = x**3\n",
    "    return sq, cube\n"
   ]
  },
  {
   "cell_type": "code",
   "execution_count": 10,
   "id": "d82660fa",
   "metadata": {},
   "outputs": [
    {
     "data": {
      "text/plain": [
       "(9, 27)"
      ]
     },
     "execution_count": 10,
     "metadata": {},
     "output_type": "execute_result"
    }
   ],
   "source": [
    "sq_and_cube(3)"
   ]
  },
  {
   "cell_type": "code",
   "execution_count": 13,
   "id": "44f04d08",
   "metadata": {},
   "outputs": [],
   "source": [
    "def mulp():\n",
    "    x = int(input('x = '))\n",
    "    y = int(input('y = '))\n",
    "    result = x * y\n",
    "    print(result)"
   ]
  },
  {
   "cell_type": "code",
   "execution_count": 14,
   "id": "b5e87149",
   "metadata": {},
   "outputs": [
    {
     "name": "stdout",
     "output_type": "stream",
     "text": [
      "x = 5\n",
      "y = 6\n",
      "30\n"
     ]
    }
   ],
   "source": [
    "mulp()"
   ]
  },
  {
   "cell_type": "code",
   "execution_count": 29,
   "id": "a88e42a7",
   "metadata": {},
   "outputs": [],
   "source": [
    "def mulp1():\n",
    "    x = int(input('x = '))\n",
    "    y = int(input('y = '))\n",
    "    result = x * y\n",
    "    print(\"Result = \", result)\n",
    "    return  result\n",
    "\n",
    "\n",
    "def mulp2():\n",
    "    total1  = mulp1()\n",
    "    z = int(input('z = '))\n",
    "    total2 = total1 * z;\n",
    "    print('final result = ', total2)\n",
    "    "
   ]
  },
  {
   "cell_type": "code",
   "execution_count": 30,
   "id": "0552f04a",
   "metadata": {},
   "outputs": [
    {
     "name": "stdout",
     "output_type": "stream",
     "text": [
      "x = 1\n",
      "y = 5\n",
      "Result =  5\n",
      "z = 4\n",
      "final result =  20\n"
     ]
    }
   ],
   "source": [
    "mulp2()"
   ]
  },
  {
   "cell_type": "markdown",
   "id": "e01b9586",
   "metadata": {},
   "source": [
    "# the factorial number"
   ]
  },
  {
   "cell_type": "code",
   "execution_count": 32,
   "id": "b42679b8",
   "metadata": {},
   "outputs": [],
   "source": [
    "def fact(x):\n",
    "    result = 1;\n",
    "    if x==1 or x == 0:\n",
    "        print(f'The {x}! is = 1')\n",
    "    else:\n",
    "        for i in range(x):\n",
    "            result = result * (i+1)\n",
    "        return result\n",
    "\n",
    "    \n",
    "    \n",
    "    \n",
    "    "
   ]
  },
  {
   "cell_type": "code",
   "execution_count": 33,
   "id": "8974f46b",
   "metadata": {},
   "outputs": [
    {
     "data": {
      "text/plain": [
       "120"
      ]
     },
     "execution_count": 33,
     "metadata": {},
     "output_type": "execute_result"
    }
   ],
   "source": [
    "fact(5)"
   ]
  },
  {
   "cell_type": "markdown",
   "id": "76f95fb0",
   "metadata": {},
   "source": [
    "# list manipulation in Python"
   ]
  },
  {
   "cell_type": "code",
   "execution_count": 5,
   "id": "fcea8679",
   "metadata": {},
   "outputs": [],
   "source": [
    "def remove_duplicates(input_list):\n",
    "    unique_list = []\n",
    "    \n",
    "    for item in input_list:\n",
    "        if item not in unique_list:\n",
    "            unique_list.append(item)\n",
    "    return unique_list\n",
    "\n"
   ]
  },
  {
   "cell_type": "code",
   "execution_count": 6,
   "id": "73a2d744",
   "metadata": {},
   "outputs": [
    {
     "name": "stdout",
     "output_type": "stream",
     "text": [
      "Real list[1, 2, 3, 4, 5, 6, 6, 6, 7, 7, 8]\n",
      "Unique list[1, 2, 3, 4, 5, 6, 7, 8]\n"
     ]
    }
   ],
   "source": [
    "input_list = [1,2,3,4,5,6,6,6,7,7,8]\n",
    "\n",
    "print(f'Real list{input_list}')\n",
    "print(f'Unique list{remove_duplicates(input_list)}')"
   ]
  },
  {
   "cell_type": "code",
   "execution_count": 7,
   "id": "b83014f1",
   "metadata": {},
   "outputs": [],
   "source": [
    "def double_elements(input_list):\n",
    "    double_list = [2*x for x in input_list]\n",
    "    return double_list"
   ]
  },
  {
   "cell_type": "code",
   "execution_count": 10,
   "id": "e83ac3a4",
   "metadata": {},
   "outputs": [
    {
     "data": {
      "text/plain": [
       "[2, 4, 6, 8, 10, 12, 12, 12, 14, 14, 16]"
      ]
     },
     "execution_count": 10,
     "metadata": {},
     "output_type": "execute_result"
    }
   ],
   "source": [
    "input_list = [1,2,3,4,5,6,6,6,7,7,8]\n",
    "double_elements(input_list)\n"
   ]
  },
  {
   "cell_type": "markdown",
   "id": "19a707f1",
   "metadata": {},
   "source": [
    "# parameters vs Arguments"
   ]
  },
  {
   "cell_type": "markdown",
   "id": "15256ed4",
   "metadata": {},
   "source": [
    "# position argumens"
   ]
  },
  {
   "cell_type": "code",
   "execution_count": 12,
   "id": "79ef197a",
   "metadata": {},
   "outputs": [
    {
     "name": "stdout",
     "output_type": "stream",
     "text": [
      "19 29\n"
     ]
    }
   ],
   "source": [
    "def add_num(x,y):#parameter x,y\n",
    "    print(x,y);\n",
    "add_num(19,29)#arguments 19 , 29\n",
    "    "
   ]
  },
  {
   "cell_type": "markdown",
   "id": "6b08f809",
   "metadata": {},
   "source": [
    "# keyword argument"
   ]
  },
  {
   "cell_type": "code",
   "execution_count": 18,
   "id": "d1ec8ba1",
   "metadata": {},
   "outputs": [
    {
     "name": "stdout",
     "output_type": "stream",
     "text": [
      "job =  data scientist\n",
      "income =  20000\n"
     ]
    }
   ],
   "source": [
    "def personal(job,income):\n",
    "    print('job = ',job)\n",
    "    print('income = ',income)\n",
    "personal(income = 20000, job = 'data scientist')"
   ]
  },
  {
   "cell_type": "markdown",
   "id": "ba996b33",
   "metadata": {},
   "source": [
    "# default argument"
   ]
  },
  {
   "cell_type": "code",
   "execution_count": 19,
   "id": "df33a7db",
   "metadata": {},
   "outputs": [
    {
     "name": "stdout",
     "output_type": "stream",
     "text": [
      "job =  data scienct \n",
      "income =  20000\n"
     ]
    }
   ],
   "source": [
    "def personal (job , income = 10000):\n",
    "    print('job = ', job)\n",
    "    print ('income = ',income)\n",
    "personal('data scienct ', 20000)"
   ]
  },
  {
   "cell_type": "markdown",
   "id": "2437e1e6",
   "metadata": {},
   "source": [
    "# variable lengthe argument"
   ]
  },
  {
   "cell_type": "code",
   "execution_count": 25,
   "id": "6543fc04",
   "metadata": {},
   "outputs": [
    {
     "name": "stdout",
     "output_type": "stream",
     "text": [
      "(10, 20, 20, 100, 1000)\n"
     ]
    },
    {
     "data": {
      "text/plain": [
       "1150"
      ]
     },
     "execution_count": 25,
     "metadata": {},
     "output_type": "execute_result"
    }
   ],
   "source": [
    "def add_num(*x):\n",
    "    print(x)\n",
    "    result = sum(x)\n",
    "    return result\n",
    "add_num(10,20,20,100,1000)"
   ]
  },
  {
   "cell_type": "code",
   "execution_count": 28,
   "id": "b936fa6e",
   "metadata": {},
   "outputs": [
    {
     "name": "stdout",
     "output_type": "stream",
     "text": [
      "10\n",
      "(20, 20, 100, 1000)\n"
     ]
    }
   ],
   "source": [
    "def add_num(x,*y):\n",
    "    print(x)\n",
    "    print(y)\n",
    "add_num(10,20,20,100,1000)"
   ]
  },
  {
   "cell_type": "markdown",
   "id": "914dbb4b",
   "metadata": {},
   "source": [
    "# args and *kwargs"
   ]
  },
  {
   "cell_type": "code",
   "execution_count": 34,
   "id": "a38a66e4",
   "metadata": {},
   "outputs": [
    {
     "name": "stdout",
     "output_type": "stream",
     "text": [
      "md atik hasan\n",
      "('bubt', 'dhaka')\n"
     ]
    }
   ],
   "source": [
    "def personal_data(name,*args):\n",
    "    print(name)\n",
    "    print(args)\n",
    "personal_data('md atik hasan','bubt','dhaka')"
   ]
  },
  {
   "cell_type": "code",
   "execution_count": 37,
   "id": "196b4852",
   "metadata": {
    "scrolled": true
   },
   "outputs": [
    {
     "name": "stdout",
     "output_type": "stream",
     "text": [
      "md atik hasan\n",
      "{'varsity': 'bubt', 'city': 'dhaka'}\n",
      "<class 'dict'>\n"
     ]
    }
   ],
   "source": [
    "def personal_data(name,**args):\n",
    "    print(name)\n",
    "    print(args)\n",
    "    print(type(args))\n",
    "personal_data(varsity='bubt',city = 'dhaka',name = 'md atik hasan')"
   ]
  },
  {
   "cell_type": "code",
   "execution_count": 39,
   "id": "b1652fb4",
   "metadata": {},
   "outputs": [],
   "source": [
    "# 5! = 5 * 4* 3 * 2 * 1 = 120"
   ]
  },
  {
   "cell_type": "code",
   "execution_count": 41,
   "id": "cb5f801a",
   "metadata": {},
   "outputs": [
    {
     "data": {
      "text/plain": [
       "120"
      ]
     },
     "execution_count": 41,
     "metadata": {},
     "output_type": "execute_result"
    }
   ],
   "source": [
    "def factor(x):\n",
    "    if(x==0):\n",
    "        return 1\n",
    "    return x*factor(x-1)\n",
    "factor(5)"
   ]
  },
  {
   "cell_type": "code",
   "execution_count": 42,
   "id": "2512c71d",
   "metadata": {},
   "outputs": [
    {
     "name": "stdout",
     "output_type": "stream",
     "text": [
      "odd\n",
      "odd\n",
      "odd\n",
      "odd\n",
      "odd\n",
      "odd\n",
      "odd\n",
      "odd\n",
      "odd\n",
      "odd\n",
      "odd\n",
      "odd\n",
      "odd\n",
      "odd\n",
      "odd\n",
      "odd\n",
      "odd\n",
      "odd\n",
      "odd\n",
      "odd\n",
      "odd\n",
      "odd\n",
      "odd\n",
      "odd\n",
      "odd\n",
      "odd\n",
      "odd\n",
      "odd\n",
      "odd\n",
      "odd\n",
      "odd\n",
      "odd\n",
      "odd\n",
      "odd\n",
      "odd\n",
      "odd\n",
      "odd\n",
      "odd\n",
      "odd\n",
      "odd\n",
      "odd\n",
      "odd\n",
      "odd\n",
      "odd\n",
      "odd\n",
      "odd\n",
      "odd\n",
      "odd\n",
      "odd\n",
      "odd\n",
      "odd\n",
      "odd\n",
      "odd\n",
      "odd\n",
      "odd\n",
      "odd\n",
      "odd\n",
      "odd\n",
      "odd\n",
      "odd\n",
      "odd\n",
      "odd\n",
      "odd\n",
      "odd\n",
      "odd\n",
      "odd\n",
      "odd\n",
      "odd\n",
      "odd\n",
      "odd\n",
      "odd\n",
      "odd\n",
      "odd\n",
      "odd\n",
      "odd\n",
      "odd\n",
      "odd\n",
      "odd\n",
      "odd\n",
      "odd\n",
      "odd\n",
      "odd\n",
      "odd\n",
      "odd\n",
      "odd\n",
      "odd\n",
      "odd\n",
      "odd\n",
      "odd\n",
      "odd\n",
      "odd\n",
      "odd\n",
      "odd\n",
      "odd\n",
      "odd\n",
      "odd\n",
      "odd\n",
      "odd\n",
      "odd\n",
      "odd\n",
      "odd\n",
      "odd\n",
      "odd\n",
      "odd\n",
      "odd\n",
      "odd\n",
      "odd\n",
      "odd\n",
      "odd\n",
      "odd\n",
      "odd\n",
      "odd\n",
      "odd\n",
      "odd\n",
      "odd\n",
      "odd\n",
      "odd\n",
      "odd\n",
      "odd\n",
      "odd\n",
      "odd\n",
      "odd\n",
      "odd\n",
      "odd\n",
      "odd\n",
      "odd\n",
      "odd\n",
      "odd\n",
      "odd\n",
      "odd\n",
      "odd\n",
      "odd\n",
      "odd\n",
      "odd\n",
      "odd\n",
      "odd\n",
      "odd\n",
      "odd\n",
      "odd\n",
      "odd\n",
      "odd\n",
      "odd\n",
      "odd\n",
      "odd\n",
      "odd\n",
      "odd\n",
      "odd\n",
      "odd\n",
      "odd\n",
      "odd\n",
      "odd\n",
      "odd\n",
      "odd\n",
      "odd\n",
      "odd\n",
      "odd\n",
      "odd\n",
      "odd\n",
      "odd\n",
      "odd\n",
      "odd\n",
      "odd\n",
      "odd\n",
      "odd\n",
      "odd\n",
      "odd\n",
      "odd\n",
      "odd\n",
      "odd\n",
      "odd\n",
      "odd\n",
      "odd\n",
      "odd\n",
      "odd\n",
      "odd\n",
      "odd\n",
      "odd\n",
      "odd\n",
      "odd\n",
      "odd\n",
      "odd\n",
      "odd\n",
      "odd\n",
      "odd\n",
      "odd\n",
      "odd\n",
      "odd\n",
      "odd\n",
      "odd\n",
      "odd\n",
      "odd\n",
      "odd\n",
      "odd\n",
      "odd\n",
      "odd\n",
      "odd\n",
      "odd\n",
      "odd\n",
      "odd\n",
      "odd\n",
      "odd\n",
      "odd\n",
      "odd\n",
      "odd\n",
      "odd\n",
      "odd\n",
      "odd\n",
      "odd\n",
      "odd\n",
      "odd\n",
      "odd\n",
      "odd\n",
      "odd\n",
      "odd\n",
      "odd\n",
      "odd\n",
      "odd\n",
      "odd\n",
      "odd\n",
      "odd\n",
      "odd\n",
      "odd\n",
      "odd\n",
      "odd\n",
      "odd\n",
      "odd\n",
      "odd\n",
      "odd\n",
      "odd\n",
      "odd\n",
      "odd\n",
      "odd\n",
      "odd\n",
      "odd\n",
      "odd\n",
      "odd\n",
      "odd\n",
      "odd\n",
      "odd\n",
      "odd\n",
      "odd\n",
      "odd\n",
      "odd\n",
      "odd\n",
      "odd\n",
      "odd\n",
      "odd\n",
      "odd\n",
      "odd\n",
      "odd\n",
      "odd\n",
      "odd\n",
      "odd\n",
      "odd\n",
      "odd\n",
      "odd\n",
      "odd\n",
      "odd\n",
      "odd\n",
      "odd\n",
      "odd\n",
      "odd\n",
      "odd\n",
      "odd\n",
      "odd\n",
      "odd\n",
      "odd\n",
      "odd\n",
      "odd\n",
      "odd\n",
      "odd\n",
      "odd\n",
      "odd\n",
      "odd\n",
      "odd\n",
      "odd\n",
      "odd\n",
      "odd\n",
      "odd\n",
      "odd\n",
      "odd\n",
      "odd\n",
      "odd\n",
      "odd\n",
      "odd\n",
      "odd\n",
      "odd\n",
      "odd\n",
      "odd\n",
      "odd\n",
      "odd\n",
      "odd\n",
      "odd\n",
      "odd\n",
      "odd\n",
      "odd\n",
      "odd\n",
      "odd\n",
      "odd\n",
      "odd\n",
      "odd\n",
      "odd\n",
      "odd\n",
      "odd\n",
      "odd\n",
      "odd\n",
      "odd\n",
      "odd\n",
      "odd\n",
      "odd\n",
      "odd\n",
      "odd\n",
      "odd\n",
      "odd\n",
      "odd\n",
      "odd\n",
      "odd\n",
      "odd\n",
      "odd\n",
      "odd\n",
      "odd\n",
      "odd\n",
      "odd\n",
      "odd\n",
      "odd\n",
      "odd\n",
      "odd\n",
      "odd\n",
      "odd\n",
      "odd\n",
      "odd\n",
      "odd\n",
      "odd\n",
      "odd\n",
      "odd\n",
      "odd\n",
      "odd\n",
      "odd\n",
      "odd\n",
      "odd\n",
      "odd\n",
      "odd\n",
      "odd\n",
      "odd\n",
      "odd\n",
      "odd\n",
      "odd\n",
      "odd\n",
      "odd\n",
      "odd\n",
      "odd\n",
      "odd\n",
      "odd\n",
      "odd\n",
      "odd\n",
      "odd\n",
      "odd\n",
      "odd\n",
      "odd\n",
      "odd\n",
      "odd\n",
      "odd\n",
      "odd\n",
      "odd\n",
      "odd\n",
      "odd\n",
      "odd\n",
      "odd\n",
      "odd\n",
      "odd\n",
      "odd\n",
      "odd\n",
      "odd\n",
      "odd\n",
      "odd\n",
      "odd\n",
      "odd\n",
      "odd\n",
      "odd\n",
      "odd\n",
      "odd\n",
      "odd\n",
      "odd\n",
      "odd\n",
      "odd\n",
      "odd\n",
      "odd\n",
      "odd\n",
      "odd\n",
      "odd\n",
      "odd\n",
      "odd\n",
      "odd\n",
      "odd\n",
      "odd\n",
      "odd\n",
      "odd\n",
      "odd\n",
      "odd\n",
      "odd\n",
      "odd\n",
      "odd\n",
      "odd\n",
      "odd\n",
      "odd\n",
      "odd\n",
      "odd\n",
      "odd\n",
      "odd\n",
      "odd\n",
      "odd\n",
      "odd\n",
      "odd\n",
      "odd\n",
      "odd\n",
      "odd\n",
      "odd\n",
      "odd\n",
      "odd\n",
      "odd\n",
      "odd\n",
      "odd\n",
      "odd\n",
      "odd\n",
      "odd\n",
      "odd\n",
      "odd\n",
      "odd\n",
      "odd\n",
      "odd\n",
      "odd\n",
      "odd\n",
      "odd\n",
      "odd\n",
      "odd\n",
      "odd\n",
      "odd\n",
      "odd\n",
      "odd\n",
      "odd\n",
      "odd\n",
      "odd\n",
      "odd\n",
      "odd\n",
      "odd\n",
      "odd\n",
      "odd\n",
      "odd\n",
      "odd\n",
      "odd\n",
      "odd\n",
      "odd\n",
      "odd\n",
      "odd\n",
      "odd\n",
      "odd\n",
      "odd\n",
      "odd\n",
      "odd\n",
      "odd\n",
      "odd\n",
      "odd\n",
      "odd\n",
      "odd\n",
      "odd\n",
      "odd\n",
      "odd\n",
      "odd\n",
      "odd\n",
      "odd\n",
      "odd\n",
      "odd\n",
      "odd\n",
      "odd\n",
      "odd\n",
      "odd\n",
      "odd\n",
      "odd\n",
      "odd\n",
      "odd\n",
      "odd\n",
      "odd\n",
      "odd\n",
      "odd\n",
      "odd\n",
      "odd\n",
      "odd\n",
      "odd\n",
      "odd\n",
      "odd\n",
      "odd\n",
      "odd\n",
      "odd\n",
      "odd\n",
      "odd\n",
      "odd\n",
      "odd\n",
      "odd\n",
      "odd\n",
      "odd\n",
      "odd\n",
      "odd\n",
      "odd\n",
      "odd\n",
      "odd\n",
      "odd\n",
      "odd\n",
      "odd\n",
      "odd\n",
      "odd\n",
      "odd\n",
      "odd\n",
      "odd\n",
      "odd\n",
      "odd\n",
      "odd\n",
      "odd\n",
      "odd\n",
      "odd\n",
      "odd\n",
      "odd\n",
      "odd\n",
      "odd\n",
      "odd\n",
      "odd\n",
      "odd\n",
      "odd\n",
      "odd\n",
      "odd\n",
      "odd\n",
      "odd\n",
      "odd\n",
      "odd\n",
      "odd\n",
      "odd\n",
      "odd\n",
      "odd\n",
      "odd\n",
      "odd\n",
      "odd\n",
      "odd\n",
      "odd\n",
      "odd\n",
      "odd\n",
      "odd\n",
      "odd\n",
      "odd\n",
      "odd\n",
      "odd\n",
      "odd\n",
      "odd\n",
      "odd\n",
      "odd\n",
      "odd\n",
      "odd\n",
      "odd\n",
      "odd\n",
      "odd\n",
      "odd\n",
      "odd\n",
      "odd\n",
      "odd\n",
      "odd\n",
      "odd\n",
      "odd\n",
      "odd\n",
      "odd\n",
      "odd\n",
      "odd\n",
      "odd\n",
      "odd\n",
      "odd\n",
      "odd\n",
      "odd\n",
      "odd\n",
      "odd\n",
      "odd\n",
      "odd\n",
      "odd\n",
      "odd\n",
      "odd\n",
      "odd\n",
      "odd\n",
      "odd\n",
      "odd\n",
      "odd\n",
      "odd\n",
      "odd\n",
      "odd\n",
      "odd\n",
      "odd\n",
      "odd\n",
      "odd\n",
      "odd\n",
      "odd\n",
      "odd\n",
      "odd\n",
      "odd\n",
      "odd\n",
      "odd\n",
      "odd\n",
      "odd\n",
      "odd\n",
      "odd\n",
      "odd\n",
      "odd\n",
      "odd\n",
      "odd\n",
      "odd\n",
      "odd\n",
      "odd\n",
      "odd\n",
      "odd\n",
      "odd\n",
      "odd\n",
      "odd\n",
      "odd\n",
      "odd\n",
      "odd\n",
      "odd\n",
      "odd\n",
      "odd\n",
      "odd\n",
      "odd\n",
      "odd\n",
      "odd\n",
      "odd\n",
      "odd\n",
      "odd\n",
      "odd\n",
      "odd\n",
      "odd\n",
      "odd\n",
      "odd\n",
      "odd\n",
      "odd\n",
      "odd\n",
      "odd\n",
      "odd\n",
      "odd\n",
      "odd\n",
      "odd\n",
      "odd\n",
      "odd\n",
      "odd\n",
      "odd\n",
      "odd\n",
      "odd\n",
      "odd\n",
      "odd\n",
      "odd\n",
      "odd\n",
      "odd\n",
      "odd\n",
      "odd\n",
      "odd\n",
      "odd\n",
      "odd\n",
      "odd\n",
      "odd\n",
      "odd\n",
      "odd\n",
      "odd\n",
      "odd\n",
      "odd\n",
      "odd\n",
      "odd\n",
      "odd\n",
      "odd\n",
      "odd\n",
      "odd\n",
      "odd\n",
      "odd\n",
      "odd\n",
      "odd\n",
      "odd\n",
      "odd\n",
      "odd\n",
      "odd\n",
      "odd\n",
      "odd\n",
      "odd\n",
      "odd\n",
      "odd\n",
      "odd\n",
      "odd\n",
      "odd\n",
      "odd\n",
      "odd\n",
      "odd\n",
      "odd\n",
      "odd\n",
      "odd\n",
      "odd\n",
      "odd\n",
      "odd\n",
      "odd\n",
      "odd\n",
      "odd\n",
      "odd\n",
      "odd\n",
      "odd\n",
      "odd\n",
      "odd\n",
      "odd\n",
      "odd\n",
      "odd\n",
      "odd\n",
      "odd\n",
      "odd\n",
      "odd\n",
      "odd\n",
      "odd\n",
      "odd\n",
      "odd\n",
      "odd\n",
      "odd\n",
      "odd\n",
      "odd\n",
      "odd\n",
      "odd\n",
      "odd\n",
      "odd\n",
      "odd\n",
      "odd\n",
      "odd\n",
      "odd\n",
      "odd\n",
      "odd\n",
      "odd\n",
      "odd\n",
      "odd\n",
      "odd\n",
      "odd\n",
      "odd\n",
      "odd\n",
      "odd\n",
      "odd\n",
      "odd\n",
      "odd\n",
      "odd\n",
      "odd\n",
      "odd\n",
      "odd\n",
      "odd\n",
      "odd\n",
      "odd\n",
      "odd\n",
      "odd\n",
      "odd\n",
      "odd\n",
      "odd\n",
      "odd\n",
      "odd\n",
      "odd\n",
      "odd\n",
      "odd\n",
      "odd\n",
      "odd\n",
      "odd\n",
      "odd\n",
      "odd\n",
      "odd\n",
      "odd\n",
      "odd\n",
      "odd\n",
      "odd\n",
      "odd\n",
      "odd\n",
      "odd\n",
      "odd\n",
      "odd\n",
      "odd\n",
      "odd\n",
      "odd\n",
      "odd\n",
      "odd\n",
      "odd\n",
      "odd\n",
      "odd\n",
      "odd\n",
      "odd\n",
      "odd\n",
      "odd\n",
      "odd\n",
      "odd\n",
      "odd\n",
      "odd\n",
      "odd\n",
      "odd\n",
      "odd\n",
      "odd\n",
      "odd\n",
      "odd\n",
      "odd\n",
      "odd\n",
      "odd\n",
      "odd\n",
      "odd\n",
      "odd\n",
      "odd\n",
      "odd\n",
      "odd\n",
      "odd\n",
      "odd\n",
      "odd\n",
      "odd\n",
      "odd\n",
      "odd\n",
      "odd\n",
      "odd\n",
      "odd\n",
      "odd\n",
      "odd\n",
      "odd\n",
      "odd\n",
      "odd\n",
      "odd\n",
      "odd\n",
      "odd\n",
      "odd\n",
      "odd\n",
      "odd\n",
      "odd\n",
      "odd\n",
      "odd\n",
      "odd\n",
      "odd\n",
      "odd\n",
      "odd\n",
      "odd\n",
      "odd\n",
      "odd\n",
      "odd\n",
      "odd\n",
      "odd\n",
      "odd\n",
      "odd\n",
      "odd\n",
      "odd\n",
      "odd\n",
      "odd\n",
      "odd\n",
      "odd\n",
      "odd\n",
      "odd\n",
      "odd\n",
      "odd\n",
      "odd\n",
      "odd\n",
      "odd\n",
      "odd\n",
      "odd\n",
      "odd\n",
      "odd\n",
      "odd\n",
      "odd\n",
      "odd\n",
      "odd\n",
      "odd\n",
      "odd\n",
      "odd\n",
      "odd\n",
      "odd\n",
      "odd\n",
      "odd\n",
      "odd\n",
      "odd\n",
      "odd\n",
      "odd\n",
      "odd\n",
      "odd\n",
      "odd\n",
      "odd\n",
      "odd\n",
      "odd\n",
      "odd\n",
      "odd\n",
      "odd\n",
      "odd\n",
      "odd\n",
      "odd\n",
      "odd\n",
      "odd\n",
      "odd\n",
      "odd\n",
      "odd\n",
      "odd\n",
      "odd\n",
      "odd\n",
      "odd\n",
      "odd\n",
      "odd\n",
      "odd\n",
      "odd\n",
      "odd\n",
      "odd\n",
      "odd\n",
      "odd\n",
      "odd\n",
      "odd\n",
      "odd\n",
      "odd\n",
      "odd\n",
      "odd\n",
      "odd\n",
      "odd\n",
      "odd\n",
      "odd\n",
      "odd\n",
      "odd\n",
      "odd\n",
      "odd\n",
      "odd\n",
      "odd\n",
      "odd\n",
      "odd\n",
      "odd\n",
      "odd\n",
      "odd\n",
      "odd\n",
      "odd\n",
      "odd\n",
      "odd\n",
      "odd\n",
      "odd\n",
      "odd\n",
      "odd\n",
      "odd\n",
      "odd\n",
      "odd\n",
      "odd\n",
      "odd\n",
      "odd\n",
      "odd\n",
      "odd\n",
      "odd\n",
      "odd\n",
      "odd\n",
      "odd\n",
      "odd\n",
      "odd\n",
      "odd\n",
      "odd\n",
      "odd\n",
      "odd\n",
      "odd\n",
      "odd\n",
      "odd\n",
      "odd\n",
      "odd\n",
      "odd\n",
      "odd\n",
      "odd\n",
      "odd\n",
      "odd\n",
      "odd\n",
      "odd\n",
      "odd\n",
      "odd\n",
      "odd\n",
      "odd\n",
      "odd\n",
      "odd\n",
      "odd\n",
      "odd\n",
      "odd\n",
      "odd\n",
      "odd\n",
      "odd\n",
      "odd\n",
      "odd\n",
      "odd\n",
      "odd\n",
      "odd\n",
      "odd\n",
      "odd\n",
      "odd\n",
      "odd\n",
      "odd\n",
      "odd\n",
      "odd\n",
      "odd\n",
      "odd\n",
      "odd\n",
      "odd\n",
      "odd\n",
      "odd\n",
      "odd\n",
      "odd\n",
      "odd\n",
      "odd\n",
      "odd\n",
      "odd\n",
      "odd\n",
      "odd\n",
      "odd\n",
      "odd\n",
      "odd\n",
      "odd\n",
      "odd\n",
      "odd\n",
      "odd\n",
      "odd\n",
      "odd\n",
      "odd\n",
      "odd\n",
      "odd\n",
      "odd\n",
      "odd\n",
      "odd\n",
      "odd\n",
      "odd\n",
      "odd\n",
      "odd\n",
      "odd\n",
      "odd\n",
      "odd\n",
      "odd\n",
      "odd\n",
      "odd\n",
      "odd\n",
      "odd\n",
      "odd\n",
      "odd\n",
      "odd\n",
      "odd\n",
      "odd\n",
      "odd\n",
      "odd\n",
      "odd\n",
      "odd\n",
      "odd\n",
      "odd\n",
      "odd\n",
      "odd\n",
      "odd\n",
      "odd\n",
      "odd\n",
      "odd\n",
      "odd\n",
      "odd\n",
      "odd\n",
      "odd\n",
      "odd\n",
      "odd\n",
      "odd\n",
      "odd\n",
      "odd\n",
      "odd\n",
      "odd\n",
      "odd\n",
      "odd\n",
      "odd\n",
      "odd\n",
      "odd\n",
      "odd\n",
      "odd\n",
      "odd\n",
      "odd\n",
      "odd\n",
      "odd\n",
      "odd\n",
      "odd\n",
      "odd\n",
      "odd\n",
      "odd\n",
      "odd\n",
      "odd\n",
      "odd\n",
      "odd\n",
      "odd\n",
      "odd\n",
      "odd\n",
      "odd\n",
      "odd\n",
      "odd\n",
      "odd\n",
      "odd\n",
      "odd\n",
      "odd\n",
      "odd\n",
      "odd\n",
      "odd\n",
      "odd\n",
      "odd\n",
      "odd\n",
      "odd\n",
      "odd\n",
      "odd\n",
      "odd\n",
      "odd\n",
      "odd\n",
      "odd\n",
      "odd\n",
      "odd\n",
      "odd\n",
      "odd\n",
      "odd\n",
      "odd\n",
      "odd\n",
      "odd\n",
      "odd\n",
      "odd\n",
      "odd\n",
      "odd\n",
      "odd\n",
      "odd\n",
      "odd\n",
      "odd\n",
      "odd\n",
      "odd\n",
      "odd\n",
      "odd\n",
      "odd\n",
      "odd\n",
      "odd\n",
      "odd\n",
      "odd\n",
      "odd\n",
      "odd\n",
      "odd\n",
      "odd\n",
      "odd\n",
      "odd\n",
      "odd\n",
      "odd\n",
      "odd\n",
      "odd\n",
      "odd\n",
      "odd\n",
      "odd\n",
      "odd\n",
      "odd\n",
      "odd\n",
      "odd\n",
      "odd\n",
      "odd\n",
      "odd\n",
      "odd\n",
      "odd\n",
      "odd\n",
      "odd\n",
      "odd\n",
      "odd\n",
      "odd\n",
      "odd\n",
      "odd\n",
      "odd\n",
      "odd\n",
      "odd\n",
      "odd\n",
      "odd\n",
      "odd\n",
      "odd\n",
      "odd\n",
      "odd\n",
      "odd\n",
      "odd\n",
      "odd\n",
      "odd\n",
      "odd\n",
      "odd\n",
      "odd\n",
      "odd\n",
      "odd\n",
      "odd\n",
      "odd\n",
      "odd\n",
      "odd\n",
      "odd\n",
      "odd\n",
      "odd\n",
      "odd\n",
      "odd\n",
      "odd\n",
      "odd\n",
      "odd\n",
      "odd\n",
      "odd\n",
      "odd\n",
      "odd\n",
      "odd\n",
      "odd\n",
      "odd\n",
      "odd\n",
      "odd\n",
      "odd\n",
      "odd\n",
      "odd\n",
      "odd\n",
      "odd\n",
      "odd\n",
      "odd\n",
      "odd\n",
      "odd\n",
      "odd\n",
      "odd\n",
      "odd\n",
      "odd\n",
      "odd\n",
      "odd\n",
      "odd\n",
      "odd\n",
      "odd\n",
      "odd\n",
      "odd\n",
      "odd\n",
      "odd\n",
      "odd\n",
      "odd\n",
      "odd\n",
      "odd\n",
      "odd\n",
      "odd\n",
      "odd\n",
      "odd\n",
      "odd\n",
      "odd\n",
      "odd\n",
      "odd\n",
      "odd\n",
      "odd\n",
      "odd\n",
      "odd\n",
      "odd\n",
      "odd\n",
      "odd\n",
      "odd\n",
      "odd\n",
      "odd\n",
      "odd\n",
      "odd\n",
      "odd\n",
      "odd\n",
      "odd\n",
      "odd\n",
      "odd\n",
      "odd\n",
      "odd\n",
      "odd\n",
      "odd\n",
      "odd\n",
      "odd\n",
      "odd\n",
      "odd\n",
      "odd\n",
      "odd\n",
      "odd\n",
      "odd\n",
      "odd\n",
      "odd\n",
      "odd\n",
      "odd\n",
      "odd\n",
      "odd\n",
      "odd\n",
      "odd\n",
      "odd\n",
      "odd\n",
      "odd\n",
      "odd\n",
      "odd\n",
      "odd\n",
      "odd\n",
      "odd\n",
      "odd\n",
      "odd\n",
      "odd\n",
      "odd\n",
      "odd\n",
      "odd\n",
      "odd\n",
      "odd\n",
      "odd\n",
      "odd\n",
      "odd\n",
      "odd\n",
      "odd\n",
      "odd\n",
      "odd\n",
      "odd\n",
      "odd\n",
      "odd\n",
      "odd\n",
      "odd\n",
      "odd\n",
      "odd\n",
      "odd\n",
      "odd\n",
      "odd\n",
      "odd\n",
      "odd\n",
      "odd\n",
      "odd\n",
      "odd\n",
      "odd\n",
      "odd\n",
      "odd\n",
      "odd\n",
      "odd\n",
      "odd\n",
      "odd\n",
      "odd\n",
      "odd\n",
      "odd\n",
      "odd\n",
      "odd\n",
      "odd\n",
      "odd\n",
      "odd\n",
      "odd\n",
      "odd\n",
      "odd\n",
      "odd\n",
      "odd\n",
      "odd\n",
      "odd\n",
      "odd\n",
      "odd\n",
      "odd\n",
      "odd\n",
      "odd\n",
      "odd\n",
      "odd\n",
      "odd\n",
      "odd\n",
      "odd\n",
      "odd\n",
      "odd\n",
      "odd\n",
      "odd\n",
      "odd\n",
      "odd\n",
      "odd\n",
      "odd\n",
      "odd\n",
      "odd\n",
      "odd\n",
      "odd\n",
      "odd\n",
      "odd\n",
      "odd\n",
      "odd\n",
      "odd\n",
      "odd\n",
      "odd\n",
      "odd\n",
      "odd\n",
      "odd\n",
      "odd\n",
      "odd\n",
      "odd\n",
      "odd\n",
      "odd\n",
      "odd\n",
      "odd\n",
      "odd\n",
      "odd\n",
      "odd\n",
      "odd\n",
      "odd\n",
      "odd\n",
      "odd\n",
      "odd\n",
      "odd\n",
      "odd\n",
      "odd\n",
      "odd\n",
      "odd\n",
      "odd\n",
      "odd\n",
      "odd\n",
      "odd\n",
      "odd\n",
      "odd\n",
      "odd\n",
      "odd\n",
      "odd\n",
      "odd\n",
      "odd\n",
      "odd\n",
      "odd\n",
      "odd\n",
      "odd\n",
      "odd\n",
      "odd\n",
      "odd\n",
      "odd\n",
      "odd\n",
      "odd\n",
      "odd\n",
      "odd\n",
      "odd\n",
      "odd\n",
      "odd\n",
      "odd\n",
      "odd\n",
      "odd\n",
      "odd\n",
      "odd\n",
      "odd\n",
      "odd\n",
      "odd\n",
      "odd\n",
      "odd\n",
      "odd\n",
      "odd\n",
      "odd\n",
      "odd\n",
      "odd\n",
      "odd\n",
      "odd\n",
      "odd\n",
      "odd\n",
      "odd\n",
      "odd\n",
      "odd\n",
      "odd\n",
      "odd\n",
      "odd\n",
      "odd\n",
      "odd\n",
      "odd\n",
      "odd\n",
      "odd\n",
      "odd\n",
      "odd\n",
      "odd\n",
      "odd\n",
      "odd\n",
      "odd\n",
      "odd\n",
      "odd\n",
      "odd\n",
      "odd\n",
      "odd\n",
      "odd\n",
      "odd\n",
      "odd\n",
      "odd\n",
      "odd\n",
      "odd\n",
      "odd\n",
      "odd\n",
      "odd\n",
      "odd\n",
      "odd\n",
      "odd\n",
      "odd\n",
      "odd\n",
      "odd\n",
      "odd\n",
      "odd\n",
      "odd\n",
      "odd\n",
      "odd\n",
      "odd\n",
      "odd\n",
      "odd\n",
      "odd\n",
      "odd\n",
      "odd\n",
      "odd\n",
      "odd\n",
      "odd\n",
      "odd\n",
      "odd\n",
      "odd\n",
      "odd\n",
      "odd\n",
      "odd\n",
      "odd\n",
      "odd\n",
      "odd\n",
      "odd\n",
      "odd\n",
      "odd\n",
      "odd\n",
      "odd\n",
      "odd\n",
      "odd\n",
      "odd\n",
      "odd\n",
      "odd\n",
      "odd\n",
      "odd\n",
      "odd\n",
      "odd\n",
      "odd\n",
      "odd\n",
      "odd\n",
      "odd\n",
      "odd\n",
      "odd\n",
      "odd\n",
      "odd\n",
      "odd\n",
      "odd\n",
      "odd\n",
      "odd\n",
      "odd\n",
      "odd\n",
      "odd\n",
      "odd\n",
      "odd\n",
      "odd\n",
      "odd\n",
      "odd\n",
      "odd\n",
      "odd\n",
      "odd\n",
      "odd\n",
      "odd\n",
      "odd\n",
      "odd\n",
      "odd\n",
      "odd\n",
      "odd\n",
      "odd\n",
      "odd\n",
      "odd\n",
      "odd\n",
      "odd\n",
      "odd\n",
      "odd\n",
      "odd\n",
      "odd\n",
      "odd\n",
      "odd\n",
      "odd\n",
      "odd\n",
      "odd\n",
      "odd\n",
      "odd\n",
      "odd\n",
      "odd\n",
      "odd\n",
      "odd\n",
      "odd\n",
      "odd\n",
      "odd\n",
      "odd\n",
      "odd\n",
      "odd\n",
      "odd\n",
      "odd\n",
      "odd\n",
      "odd\n",
      "odd\n",
      "odd\n",
      "odd\n",
      "odd\n",
      "odd\n",
      "odd\n",
      "odd\n",
      "odd\n",
      "odd\n",
      "odd\n",
      "odd\n",
      "odd\n",
      "odd\n",
      "odd\n",
      "odd\n",
      "odd\n",
      "odd\n",
      "odd\n",
      "odd\n",
      "odd\n",
      "odd\n",
      "odd\n",
      "odd\n",
      "odd\n",
      "odd\n",
      "odd\n",
      "odd\n",
      "odd\n",
      "odd\n",
      "odd\n",
      "odd\n",
      "odd\n",
      "odd\n",
      "odd\n",
      "odd\n",
      "odd\n",
      "odd\n",
      "odd\n",
      "odd\n",
      "odd\n",
      "odd\n",
      "odd\n",
      "odd\n",
      "odd\n",
      "odd\n",
      "odd\n",
      "odd\n",
      "odd\n",
      "odd\n",
      "odd\n",
      "odd\n",
      "odd\n",
      "odd\n",
      "odd\n",
      "odd\n",
      "odd\n",
      "odd\n",
      "odd\n",
      "odd\n",
      "odd\n",
      "odd\n",
      "odd\n",
      "odd\n",
      "odd\n",
      "odd\n",
      "odd\n",
      "odd\n",
      "odd\n",
      "odd\n",
      "odd\n",
      "odd\n",
      "odd\n",
      "odd\n",
      "odd\n",
      "odd\n",
      "odd\n",
      "odd\n",
      "odd\n",
      "odd\n",
      "odd\n",
      "odd\n",
      "odd\n",
      "odd\n",
      "odd\n",
      "odd\n",
      "odd\n",
      "odd\n",
      "odd\n",
      "odd\n",
      "odd\n",
      "odd\n",
      "odd\n",
      "odd\n",
      "odd\n",
      "odd\n",
      "odd\n",
      "odd\n",
      "odd\n",
      "odd\n",
      "odd\n",
      "odd\n",
      "odd\n",
      "odd\n",
      "odd\n",
      "odd\n",
      "odd\n",
      "odd\n",
      "odd\n",
      "odd\n",
      "odd\n",
      "odd\n",
      "odd\n",
      "odd\n",
      "odd\n",
      "odd\n",
      "odd\n",
      "odd\n",
      "odd\n",
      "odd\n",
      "odd\n",
      "odd\n",
      "odd\n",
      "odd\n",
      "odd\n",
      "odd\n",
      "odd\n",
      "odd\n",
      "odd\n",
      "odd\n",
      "odd\n",
      "odd\n",
      "odd\n",
      "odd\n",
      "odd\n",
      "odd\n",
      "odd\n",
      "odd\n",
      "odd\n",
      "odd\n",
      "odd\n",
      "odd\n",
      "odd\n",
      "odd\n",
      "odd\n",
      "odd\n",
      "odd\n",
      "odd\n",
      "odd\n",
      "odd\n",
      "odd\n",
      "odd\n",
      "odd\n",
      "odd\n",
      "odd\n",
      "odd\n",
      "odd\n",
      "odd\n",
      "odd\n",
      "odd\n",
      "odd\n",
      "odd\n",
      "odd\n",
      "odd\n",
      "odd\n",
      "odd\n",
      "odd\n",
      "odd\n",
      "odd\n",
      "odd\n",
      "odd\n",
      "odd\n",
      "odd\n",
      "odd\n",
      "odd\n",
      "odd\n",
      "odd\n",
      "odd\n",
      "odd\n",
      "odd\n",
      "odd\n",
      "odd\n",
      "odd\n",
      "odd\n",
      "odd\n",
      "odd\n",
      "odd\n",
      "odd\n",
      "odd\n",
      "odd\n",
      "odd\n",
      "odd\n",
      "odd\n",
      "odd\n",
      "odd\n",
      "odd\n",
      "odd\n",
      "odd\n",
      "odd\n",
      "odd\n",
      "odd\n",
      "odd\n",
      "odd\n",
      "odd\n",
      "odd\n",
      "odd\n",
      "odd\n",
      "odd\n",
      "odd\n",
      "odd\n",
      "odd\n",
      "odd\n",
      "odd\n",
      "odd\n",
      "odd\n",
      "odd\n",
      "odd\n",
      "odd\n",
      "odd\n",
      "odd\n",
      "odd\n",
      "odd\n",
      "odd\n",
      "odd\n",
      "odd\n",
      "odd\n",
      "odd\n",
      "odd\n",
      "odd\n",
      "odd\n",
      "odd\n",
      "odd\n",
      "odd\n",
      "odd\n",
      "odd\n",
      "odd\n",
      "odd\n",
      "odd\n",
      "odd\n",
      "odd\n",
      "odd\n",
      "odd\n",
      "odd\n",
      "odd\n",
      "odd\n",
      "odd\n",
      "odd\n",
      "odd\n",
      "odd\n",
      "odd\n",
      "odd\n",
      "odd\n",
      "odd\n",
      "odd\n",
      "odd\n",
      "odd\n",
      "odd\n",
      "odd\n",
      "odd\n",
      "odd\n",
      "odd\n",
      "odd\n",
      "odd\n",
      "odd\n",
      "odd\n",
      "odd\n",
      "odd\n",
      "odd\n",
      "odd\n",
      "odd\n",
      "odd\n",
      "odd\n",
      "odd\n",
      "odd\n",
      "odd\n",
      "odd\n",
      "odd\n",
      "odd\n",
      "odd\n",
      "odd\n",
      "odd\n",
      "odd\n",
      "odd\n",
      "odd\n",
      "odd\n",
      "odd\n",
      "odd\n",
      "odd\n",
      "odd\n",
      "odd\n",
      "odd\n",
      "odd\n",
      "odd\n",
      "odd\n",
      "odd\n",
      "odd\n",
      "odd\n",
      "odd\n",
      "odd\n",
      "odd\n",
      "odd\n",
      "odd\n",
      "odd\n",
      "odd\n",
      "odd\n",
      "odd\n",
      "odd\n",
      "odd\n",
      "odd\n",
      "odd\n",
      "odd\n",
      "odd\n",
      "odd\n",
      "odd\n",
      "odd\n",
      "odd\n",
      "odd\n",
      "odd\n",
      "odd\n",
      "odd\n",
      "odd\n",
      "odd\n",
      "odd\n",
      "odd\n",
      "odd\n",
      "odd\n",
      "odd\n",
      "odd\n",
      "odd\n",
      "odd\n",
      "odd\n",
      "odd\n",
      "odd\n",
      "odd\n",
      "odd\n",
      "odd\n",
      "odd\n",
      "odd\n",
      "odd\n",
      "odd\n",
      "odd\n",
      "odd\n",
      "odd\n",
      "odd\n",
      "odd\n",
      "odd\n",
      "odd\n",
      "odd\n",
      "odd\n",
      "odd\n",
      "odd\n",
      "odd\n",
      "odd\n",
      "odd\n",
      "odd\n",
      "odd\n",
      "odd\n",
      "odd\n",
      "odd\n",
      "odd\n",
      "odd\n",
      "odd\n",
      "odd\n",
      "odd\n",
      "odd\n",
      "odd\n",
      "odd\n",
      "odd\n",
      "odd\n",
      "odd\n",
      "odd\n",
      "odd\n",
      "odd\n",
      "odd\n",
      "odd\n",
      "odd\n",
      "odd\n",
      "odd\n",
      "odd\n",
      "odd\n",
      "odd\n",
      "odd\n",
      "odd\n",
      "odd\n",
      "odd\n",
      "odd\n",
      "odd\n",
      "odd\n",
      "odd\n",
      "odd\n",
      "odd\n",
      "odd\n",
      "odd\n",
      "odd\n",
      "odd\n",
      "odd\n",
      "odd\n",
      "odd\n",
      "odd\n",
      "odd\n",
      "odd\n",
      "odd\n",
      "odd\n",
      "odd\n",
      "odd\n",
      "odd\n",
      "odd\n",
      "odd\n",
      "odd\n",
      "odd\n",
      "odd\n",
      "odd\n",
      "odd\n",
      "odd\n",
      "odd\n",
      "odd\n",
      "odd\n",
      "odd\n",
      "odd\n",
      "odd\n",
      "odd\n",
      "odd\n",
      "odd\n",
      "odd\n",
      "odd\n",
      "odd\n",
      "odd\n",
      "odd\n",
      "odd\n",
      "odd\n",
      "odd\n",
      "odd\n",
      "odd\n",
      "odd\n",
      "odd\n",
      "odd\n",
      "odd\n",
      "odd\n",
      "odd\n",
      "odd\n",
      "odd\n",
      "odd\n",
      "odd\n",
      "odd\n",
      "odd\n",
      "odd\n",
      "odd\n",
      "odd\n",
      "odd\n",
      "odd\n",
      "odd\n",
      "odd\n",
      "odd\n",
      "odd\n",
      "odd\n",
      "odd\n",
      "odd\n",
      "odd\n",
      "odd\n",
      "odd\n",
      "odd\n",
      "odd\n",
      "odd\n",
      "odd\n",
      "odd\n",
      "odd\n",
      "odd\n",
      "odd\n",
      "odd\n",
      "odd\n",
      "odd\n",
      "odd\n",
      "odd\n",
      "odd\n",
      "odd\n",
      "odd\n",
      "odd\n",
      "odd\n",
      "odd\n",
      "odd\n",
      "odd\n",
      "odd\n",
      "odd\n",
      "odd\n",
      "odd\n",
      "odd\n",
      "odd\n",
      "odd\n",
      "odd\n",
      "odd\n",
      "odd\n",
      "odd\n",
      "odd\n",
      "odd\n",
      "odd\n",
      "odd\n",
      "odd\n",
      "odd\n",
      "odd\n",
      "odd\n",
      "odd\n",
      "odd\n",
      "odd\n",
      "odd\n",
      "odd\n",
      "odd\n",
      "odd\n",
      "odd\n",
      "odd\n",
      "odd\n",
      "odd\n",
      "odd\n",
      "odd\n",
      "odd\n",
      "odd\n",
      "odd\n",
      "odd\n",
      "odd\n",
      "odd\n",
      "odd\n",
      "odd\n",
      "odd\n",
      "odd\n",
      "odd\n",
      "odd\n",
      "odd\n",
      "odd\n",
      "odd\n",
      "odd\n",
      "odd\n",
      "odd\n",
      "odd\n",
      "odd\n",
      "odd\n",
      "odd\n",
      "odd\n",
      "odd\n",
      "odd\n",
      "odd\n",
      "odd\n",
      "odd\n",
      "odd\n",
      "odd\n",
      "odd\n",
      "odd\n",
      "odd\n",
      "odd\n",
      "odd\n",
      "odd\n",
      "odd\n",
      "odd\n",
      "odd\n",
      "odd\n",
      "odd\n",
      "odd\n",
      "odd\n",
      "odd\n",
      "odd\n",
      "odd\n",
      "odd\n",
      "odd\n",
      "odd\n",
      "odd\n",
      "odd\n",
      "odd\n",
      "odd\n",
      "odd\n",
      "odd\n",
      "odd\n",
      "odd\n",
      "odd\n",
      "odd\n",
      "odd\n",
      "odd\n",
      "odd\n",
      "odd\n",
      "odd\n",
      "odd\n",
      "odd\n",
      "odd\n",
      "odd\n",
      "odd\n",
      "odd\n",
      "odd\n",
      "odd\n",
      "odd\n",
      "odd\n",
      "odd\n",
      "odd\n",
      "odd\n",
      "odd\n",
      "odd\n",
      "odd\n",
      "odd\n",
      "odd\n",
      "odd\n",
      "odd\n",
      "odd\n",
      "odd\n",
      "odd\n",
      "odd\n",
      "odd\n",
      "odd\n",
      "odd\n",
      "odd\n",
      "odd\n",
      "odd\n",
      "odd\n",
      "odd\n",
      "odd\n",
      "odd\n",
      "odd\n",
      "odd\n",
      "odd\n",
      "odd\n",
      "odd\n",
      "odd\n",
      "odd\n",
      "odd\n",
      "odd\n",
      "odd\n",
      "odd\n",
      "odd\n",
      "odd\n",
      "odd\n",
      "odd\n",
      "odd\n",
      "odd\n",
      "odd\n",
      "odd\n",
      "odd\n",
      "odd\n",
      "odd\n",
      "odd\n",
      "odd\n",
      "odd\n",
      "odd\n",
      "odd\n",
      "odd\n",
      "odd\n",
      "odd\n",
      "odd\n",
      "odd\n",
      "odd\n",
      "odd\n",
      "odd\n",
      "odd\n",
      "odd\n",
      "odd\n",
      "odd\n",
      "odd\n",
      "odd\n",
      "odd\n",
      "odd\n",
      "odd\n",
      "odd\n",
      "odd\n",
      "odd\n",
      "odd\n",
      "odd\n",
      "odd\n",
      "odd\n",
      "odd\n",
      "odd\n",
      "odd\n",
      "odd\n",
      "odd\n",
      "odd\n",
      "odd\n",
      "odd\n",
      "odd\n",
      "odd\n",
      "odd\n",
      "odd\n",
      "odd\n",
      "odd\n",
      "odd\n",
      "odd\n",
      "odd\n",
      "odd\n",
      "odd\n",
      "odd\n",
      "odd\n",
      "odd\n",
      "odd\n",
      "odd\n",
      "odd\n",
      "odd\n",
      "odd\n",
      "odd\n",
      "odd\n",
      "odd\n",
      "odd\n",
      "odd\n",
      "odd\n",
      "odd\n",
      "odd\n",
      "odd\n",
      "odd\n",
      "odd\n",
      "odd\n",
      "odd\n",
      "odd\n",
      "odd\n",
      "odd\n",
      "odd\n",
      "odd\n",
      "odd\n",
      "odd\n",
      "odd\n",
      "odd\n",
      "odd\n",
      "odd\n",
      "odd\n",
      "odd\n",
      "odd\n",
      "odd\n",
      "odd\n",
      "odd\n",
      "odd\n",
      "odd\n",
      "odd\n",
      "odd\n",
      "odd\n",
      "odd\n",
      "odd\n",
      "odd\n",
      "odd\n",
      "odd\n",
      "odd\n",
      "odd\n",
      "odd\n",
      "odd\n",
      "odd\n",
      "odd\n",
      "odd\n",
      "odd\n",
      "odd\n",
      "odd\n",
      "odd\n",
      "odd\n",
      "odd\n",
      "odd\n",
      "odd\n",
      "odd\n",
      "odd\n",
      "odd\n",
      "odd\n",
      "odd\n",
      "odd\n",
      "odd\n",
      "odd\n",
      "odd\n",
      "odd\n",
      "odd\n",
      "odd\n",
      "odd\n",
      "odd\n",
      "odd\n",
      "odd\n",
      "odd\n",
      "odd\n",
      "odd\n",
      "odd\n",
      "odd\n",
      "odd\n",
      "odd\n",
      "odd\n",
      "odd\n",
      "odd\n",
      "odd\n",
      "odd\n",
      "odd\n",
      "odd\n",
      "odd\n",
      "odd\n",
      "odd\n",
      "odd\n",
      "odd\n",
      "odd\n",
      "odd\n",
      "odd\n",
      "odd\n",
      "odd\n",
      "odd\n",
      "odd\n",
      "odd\n",
      "odd\n",
      "odd\n",
      "odd\n",
      "odd\n",
      "odd\n",
      "odd\n",
      "odd\n",
      "odd\n",
      "odd\n",
      "odd\n",
      "odd\n",
      "odd\n",
      "odd\n",
      "odd\n",
      "odd\n",
      "odd\n",
      "odd\n",
      "odd\n",
      "odd\n",
      "odd\n",
      "odd\n",
      "odd\n",
      "odd\n",
      "odd\n",
      "odd\n",
      "odd\n",
      "odd\n",
      "odd\n",
      "odd\n",
      "odd\n",
      "odd\n",
      "odd\n",
      "odd\n",
      "odd\n",
      "odd\n",
      "odd\n",
      "odd\n",
      "odd\n",
      "odd\n",
      "odd\n",
      "odd\n",
      "odd\n",
      "odd\n",
      "odd\n",
      "odd\n",
      "odd\n",
      "odd\n",
      "odd\n",
      "odd\n",
      "odd\n",
      "odd\n",
      "odd\n",
      "odd\n",
      "odd\n",
      "odd\n",
      "odd\n",
      "odd\n",
      "odd\n",
      "odd\n",
      "odd\n",
      "odd\n",
      "odd\n",
      "odd\n",
      "odd\n",
      "odd\n",
      "odd\n",
      "odd\n",
      "odd\n",
      "odd\n",
      "odd\n",
      "odd\n",
      "odd\n",
      "odd\n",
      "odd\n",
      "odd\n",
      "odd\n",
      "odd\n",
      "odd\n",
      "odd\n",
      "odd\n",
      "odd\n",
      "odd\n",
      "odd\n",
      "odd\n",
      "odd\n",
      "odd\n",
      "odd\n",
      "odd\n",
      "odd\n",
      "odd\n",
      "odd\n",
      "odd\n",
      "odd\n",
      "odd\n",
      "odd\n",
      "odd\n",
      "odd\n",
      "odd\n",
      "odd\n",
      "odd\n",
      "odd\n",
      "odd\n",
      "odd\n",
      "odd\n",
      "odd\n",
      "odd\n",
      "odd\n",
      "odd\n",
      "odd\n",
      "odd\n",
      "odd\n",
      "odd\n",
      "odd\n",
      "odd\n",
      "odd\n",
      "odd\n",
      "odd\n",
      "odd\n",
      "odd\n",
      "odd\n",
      "odd\n",
      "odd\n",
      "odd\n",
      "odd\n",
      "odd\n",
      "odd\n",
      "odd\n",
      "odd\n",
      "odd\n",
      "odd\n",
      "odd\n",
      "odd\n",
      "odd\n",
      "odd\n",
      "odd\n",
      "odd\n",
      "odd\n",
      "odd\n",
      "odd\n",
      "odd\n",
      "odd\n",
      "odd\n",
      "odd\n",
      "odd\n",
      "odd\n",
      "odd\n",
      "odd\n",
      "odd\n",
      "odd\n",
      "odd\n",
      "odd\n",
      "odd\n",
      "odd\n",
      "odd\n",
      "odd\n",
      "odd\n",
      "odd\n",
      "odd\n",
      "odd\n",
      "odd\n",
      "odd\n",
      "odd\n",
      "odd\n",
      "odd\n",
      "odd\n",
      "odd\n",
      "odd\n",
      "odd\n",
      "odd\n",
      "odd\n",
      "odd\n",
      "odd\n",
      "odd\n",
      "odd\n",
      "odd\n",
      "odd\n",
      "odd\n",
      "odd\n",
      "odd\n",
      "odd\n",
      "odd\n",
      "odd\n",
      "odd\n",
      "odd\n",
      "odd\n",
      "odd\n",
      "odd\n",
      "odd\n",
      "odd\n",
      "odd\n",
      "odd\n",
      "odd\n",
      "odd\n",
      "odd\n",
      "odd\n",
      "odd\n",
      "odd\n",
      "odd\n",
      "odd\n",
      "odd\n",
      "odd\n",
      "odd\n",
      "odd\n",
      "odd\n",
      "odd\n",
      "odd\n",
      "odd\n",
      "odd\n",
      "odd\n",
      "odd\n",
      "odd\n",
      "odd\n",
      "odd\n",
      "odd\n",
      "odd\n",
      "odd\n",
      "odd\n",
      "odd\n",
      "odd\n",
      "odd\n",
      "odd\n",
      "odd\n",
      "odd\n",
      "odd\n",
      "odd\n",
      "odd\n",
      "odd\n",
      "odd\n",
      "odd\n",
      "odd\n",
      "odd\n",
      "odd\n",
      "odd\n",
      "odd\n",
      "odd\n",
      "odd\n",
      "odd\n",
      "odd\n",
      "odd\n",
      "odd\n",
      "odd\n",
      "odd\n",
      "odd\n",
      "odd\n",
      "odd\n",
      "odd\n",
      "odd\n",
      "odd\n",
      "odd\n",
      "odd\n",
      "odd\n",
      "odd\n",
      "odd\n",
      "odd\n",
      "odd\n",
      "odd\n",
      "odd\n",
      "odd\n",
      "odd\n",
      "odd\n",
      "odd\n",
      "odd\n",
      "odd\n",
      "odd\n",
      "odd\n",
      "odd\n",
      "odd\n",
      "odd\n",
      "odd\n",
      "odd\n",
      "odd\n",
      "odd\n",
      "odd\n",
      "odd\n",
      "odd\n",
      "odd\n",
      "odd\n",
      "odd\n",
      "odd\n",
      "odd\n",
      "odd\n",
      "odd\n",
      "odd\n",
      "odd\n",
      "odd\n",
      "odd\n",
      "odd\n",
      "odd\n",
      "odd\n",
      "odd\n",
      "odd\n",
      "odd\n",
      "odd\n",
      "odd\n",
      "odd\n",
      "odd\n",
      "odd\n",
      "odd\n",
      "odd\n",
      "odd\n",
      "odd\n",
      "odd\n",
      "odd\n",
      "odd\n",
      "odd\n",
      "odd\n",
      "odd\n",
      "odd\n",
      "odd\n",
      "odd\n",
      "odd\n",
      "odd\n",
      "odd\n",
      "odd\n",
      "odd\n",
      "odd\n",
      "odd\n",
      "odd\n",
      "odd\n",
      "odd\n",
      "odd\n",
      "odd\n",
      "odd\n",
      "odd\n",
      "odd\n",
      "odd\n",
      "odd\n",
      "odd\n",
      "odd\n",
      "odd\n",
      "odd\n",
      "odd\n",
      "odd\n",
      "odd\n",
      "odd\n",
      "odd\n",
      "odd\n",
      "odd\n",
      "odd\n",
      "odd\n",
      "odd\n",
      "odd\n",
      "odd\n",
      "odd\n",
      "odd\n",
      "odd\n",
      "odd\n",
      "odd\n",
      "odd\n",
      "odd\n",
      "odd\n",
      "odd\n",
      "odd\n",
      "odd\n",
      "odd\n",
      "odd\n",
      "odd\n",
      "odd\n",
      "odd\n",
      "odd\n",
      "odd\n",
      "odd\n",
      "odd\n",
      "odd\n",
      "odd\n",
      "odd\n",
      "odd\n",
      "odd\n",
      "odd\n",
      "odd\n",
      "odd\n",
      "odd\n",
      "odd\n",
      "odd\n",
      "odd\n",
      "odd\n",
      "odd\n",
      "odd\n",
      "odd\n",
      "odd\n",
      "odd\n",
      "odd\n",
      "odd\n",
      "odd\n",
      "odd\n",
      "odd\n",
      "odd\n",
      "odd\n",
      "odd\n",
      "odd\n",
      "odd\n",
      "odd\n",
      "odd\n",
      "odd\n",
      "odd\n",
      "odd\n",
      "odd\n",
      "odd\n",
      "odd\n",
      "odd\n",
      "odd\n",
      "odd\n",
      "odd\n",
      "odd\n",
      "odd\n",
      "odd\n",
      "odd\n",
      "odd\n",
      "odd\n",
      "odd\n",
      "odd\n",
      "odd\n",
      "odd\n",
      "odd\n",
      "odd\n",
      "odd\n",
      "odd\n",
      "odd\n",
      "odd\n",
      "odd\n",
      "odd\n",
      "odd\n",
      "odd\n",
      "odd\n",
      "odd\n",
      "odd\n",
      "odd\n",
      "odd\n",
      "odd\n",
      "odd\n",
      "odd\n",
      "odd\n",
      "odd\n",
      "odd\n",
      "odd\n",
      "odd\n",
      "odd\n",
      "odd\n",
      "odd\n",
      "odd\n",
      "odd\n",
      "odd\n",
      "odd\n",
      "odd\n",
      "odd\n",
      "odd\n",
      "odd\n",
      "odd\n",
      "odd\n",
      "odd\n",
      "odd\n",
      "odd\n",
      "odd\n",
      "odd\n",
      "odd\n",
      "odd\n",
      "odd\n",
      "odd\n",
      "odd\n",
      "odd\n",
      "odd\n",
      "odd\n",
      "odd\n",
      "odd\n",
      "odd\n",
      "odd\n",
      "odd\n",
      "odd\n",
      "odd\n",
      "odd\n",
      "odd\n",
      "odd\n",
      "odd\n",
      "odd\n",
      "odd\n",
      "odd\n",
      "odd\n",
      "odd\n",
      "odd\n",
      "odd\n",
      "odd\n",
      "odd\n",
      "odd\n",
      "odd\n",
      "odd\n",
      "odd\n",
      "odd\n",
      "odd\n",
      "odd\n",
      "odd\n",
      "odd\n",
      "odd\n",
      "odd\n",
      "odd\n",
      "odd\n",
      "odd\n",
      "odd\n",
      "odd\n",
      "odd\n",
      "odd\n",
      "odd\n",
      "odd\n",
      "odd\n",
      "odd\n",
      "odd\n",
      "odd\n",
      "odd\n",
      "odd\n",
      "odd\n",
      "odd\n",
      "odd\n",
      "odd\n",
      "odd\n",
      "odd\n",
      "odd\n",
      "odd\n",
      "odd\n",
      "odd\n",
      "odd\n",
      "odd\n",
      "odd\n",
      "odd\n",
      "odd\n",
      "odd\n",
      "odd\n",
      "odd\n",
      "odd\n",
      "odd\n",
      "odd\n",
      "odd\n",
      "odd\n",
      "odd\n",
      "odd\n",
      "odd\n",
      "odd\n",
      "odd\n",
      "odd\n",
      "odd\n",
      "odd\n",
      "odd\n",
      "odd\n",
      "odd\n",
      "odd\n",
      "odd\n",
      "odd\n",
      "odd\n",
      "odd\n",
      "odd\n",
      "odd\n",
      "odd\n",
      "odd\n",
      "odd\n",
      "odd\n",
      "odd\n",
      "odd\n",
      "odd\n",
      "odd\n",
      "odd\n",
      "odd\n",
      "odd\n",
      "odd\n",
      "odd\n",
      "odd\n",
      "odd\n",
      "odd\n",
      "odd\n",
      "odd\n",
      "odd\n",
      "odd\n",
      "odd\n",
      "odd\n",
      "odd\n",
      "odd\n",
      "odd\n",
      "odd\n",
      "odd\n",
      "odd\n",
      "odd\n",
      "odd\n",
      "odd\n",
      "odd\n",
      "odd\n",
      "odd\n",
      "odd\n",
      "odd\n",
      "odd\n",
      "odd\n",
      "odd\n",
      "odd\n",
      "odd\n",
      "odd\n",
      "odd\n",
      "odd\n",
      "odd\n",
      "odd\n",
      "odd\n",
      "odd\n",
      "odd\n",
      "odd\n",
      "odd\n",
      "odd\n",
      "odd\n",
      "odd\n",
      "odd\n",
      "odd\n",
      "odd\n",
      "odd\n",
      "odd\n",
      "odd\n",
      "odd\n",
      "odd\n",
      "odd\n",
      "odd\n",
      "odd\n",
      "odd\n",
      "odd\n",
      "odd\n",
      "odd\n",
      "odd\n",
      "odd\n",
      "odd\n",
      "odd\n",
      "odd\n",
      "odd\n",
      "odd\n",
      "odd\n",
      "odd\n",
      "odd\n",
      "odd\n",
      "odd\n",
      "odd\n",
      "odd\n",
      "odd\n",
      "odd\n",
      "odd\n",
      "odd\n"
     ]
    },
    {
     "ename": "RecursionError",
     "evalue": "maximum recursion depth exceeded while calling a Python object",
     "output_type": "error",
     "traceback": [
      "\u001b[0;31m---------------------------------------------------------------------------\u001b[0m",
      "\u001b[0;31mRecursionError\u001b[0m                            Traceback (most recent call last)",
      "Cell \u001b[0;32mIn[42], line 4\u001b[0m\n\u001b[1;32m      2\u001b[0m     \u001b[38;5;28mprint\u001b[39m(\u001b[38;5;124m'\u001b[39m\u001b[38;5;124modd\u001b[39m\u001b[38;5;124m'\u001b[39m)\n\u001b[1;32m      3\u001b[0m     web()\n\u001b[0;32m----> 4\u001b[0m \u001b[43mweb\u001b[49m\u001b[43m(\u001b[49m\u001b[43m)\u001b[49m\n",
      "Cell \u001b[0;32mIn[42], line 3\u001b[0m, in \u001b[0;36mweb\u001b[0;34m()\u001b[0m\n\u001b[1;32m      1\u001b[0m \u001b[38;5;28;01mdef\u001b[39;00m \u001b[38;5;21mweb\u001b[39m():\n\u001b[1;32m      2\u001b[0m     \u001b[38;5;28mprint\u001b[39m(\u001b[38;5;124m'\u001b[39m\u001b[38;5;124modd\u001b[39m\u001b[38;5;124m'\u001b[39m)\n\u001b[0;32m----> 3\u001b[0m     \u001b[43mweb\u001b[49m\u001b[43m(\u001b[49m\u001b[43m)\u001b[49m\n",
      "Cell \u001b[0;32mIn[42], line 3\u001b[0m, in \u001b[0;36mweb\u001b[0;34m()\u001b[0m\n\u001b[1;32m      1\u001b[0m \u001b[38;5;28;01mdef\u001b[39;00m \u001b[38;5;21mweb\u001b[39m():\n\u001b[1;32m      2\u001b[0m     \u001b[38;5;28mprint\u001b[39m(\u001b[38;5;124m'\u001b[39m\u001b[38;5;124modd\u001b[39m\u001b[38;5;124m'\u001b[39m)\n\u001b[0;32m----> 3\u001b[0m     \u001b[43mweb\u001b[49m\u001b[43m(\u001b[49m\u001b[43m)\u001b[49m\n",
      "    \u001b[0;31m[... skipping similar frames: web at line 3 (2968 times)]\u001b[0m\n",
      "Cell \u001b[0;32mIn[42], line 3\u001b[0m, in \u001b[0;36mweb\u001b[0;34m()\u001b[0m\n\u001b[1;32m      1\u001b[0m \u001b[38;5;28;01mdef\u001b[39;00m \u001b[38;5;21mweb\u001b[39m():\n\u001b[1;32m      2\u001b[0m     \u001b[38;5;28mprint\u001b[39m(\u001b[38;5;124m'\u001b[39m\u001b[38;5;124modd\u001b[39m\u001b[38;5;124m'\u001b[39m)\n\u001b[0;32m----> 3\u001b[0m     \u001b[43mweb\u001b[49m\u001b[43m(\u001b[49m\u001b[43m)\u001b[49m\n",
      "Cell \u001b[0;32mIn[42], line 2\u001b[0m, in \u001b[0;36mweb\u001b[0;34m()\u001b[0m\n\u001b[1;32m      1\u001b[0m \u001b[38;5;28;01mdef\u001b[39;00m \u001b[38;5;21mweb\u001b[39m():\n\u001b[0;32m----> 2\u001b[0m     \u001b[38;5;28mprint\u001b[39m(\u001b[38;5;124m'\u001b[39m\u001b[38;5;124modd\u001b[39m\u001b[38;5;124m'\u001b[39m)\n\u001b[1;32m      3\u001b[0m     web()\n",
      "File \u001b[0;32m/usr/lib/python3/dist-packages/ipykernel/iostream.py:635\u001b[0m, in \u001b[0;36mOutStream.write\u001b[0;34m(self, string)\u001b[0m\n\u001b[1;32m    633\u001b[0m     \u001b[38;5;28;01mraise\u001b[39;00m \u001b[38;5;167;01mValueError\u001b[39;00m(msg)\n\u001b[1;32m    634\u001b[0m \u001b[38;5;28;01melse\u001b[39;00m:\n\u001b[0;32m--> 635\u001b[0m     is_child \u001b[38;5;241m=\u001b[39m \u001b[38;5;129;01mnot\u001b[39;00m \u001b[38;5;28;43mself\u001b[39;49m\u001b[38;5;241;43m.\u001b[39;49m\u001b[43m_is_master_process\u001b[49m\u001b[43m(\u001b[49m\u001b[43m)\u001b[49m\n\u001b[1;32m    636\u001b[0m     \u001b[38;5;66;03m# only touch the buffer in the IO thread to avoid races\u001b[39;00m\n\u001b[1;32m    637\u001b[0m     \u001b[38;5;28;01mwith\u001b[39;00m \u001b[38;5;28mself\u001b[39m\u001b[38;5;241m.\u001b[39m_buffer_lock:\n",
      "File \u001b[0;32m/usr/lib/python3/dist-packages/ipykernel/iostream.py:506\u001b[0m, in \u001b[0;36mOutStream._is_master_process\u001b[0;34m(self)\u001b[0m\n\u001b[1;32m    505\u001b[0m \u001b[38;5;28;01mdef\u001b[39;00m \u001b[38;5;21m_is_master_process\u001b[39m(\u001b[38;5;28mself\u001b[39m):\n\u001b[0;32m--> 506\u001b[0m     \u001b[38;5;28;01mreturn\u001b[39;00m \u001b[43mos\u001b[49m\u001b[38;5;241;43m.\u001b[39;49m\u001b[43mgetpid\u001b[49m\u001b[43m(\u001b[49m\u001b[43m)\u001b[49m \u001b[38;5;241m==\u001b[39m \u001b[38;5;28mself\u001b[39m\u001b[38;5;241m.\u001b[39m_master_pid\n",
      "\u001b[0;31mRecursionError\u001b[0m: maximum recursion depth exceeded while calling a Python object"
     ]
    }
   ],
   "source": [
    "def web():\n",
    "    print('odd')\n",
    "    web()\n",
    "web()"
   ]
  },
  {
   "cell_type": "code",
   "execution_count": 43,
   "id": "c03fdc14",
   "metadata": {},
   "outputs": [
    {
     "data": {
      "text/plain": [
       "3000"
      ]
     },
     "execution_count": 43,
     "metadata": {},
     "output_type": "execute_result"
    }
   ],
   "source": [
    "import sys\n",
    "sys.getrecursionlimit()"
   ]
  },
  {
   "cell_type": "markdown",
   "id": "c00841ef",
   "metadata": {},
   "source": [
    "# lambda anonymous function"
   ]
  },
  {
   "cell_type": "markdown",
   "id": "c680fdf5",
   "metadata": {},
   "source": [
    "lambda arguments: expression"
   ]
  },
  {
   "cell_type": "code",
   "execution_count": 44,
   "id": "2b92cf54",
   "metadata": {},
   "outputs": [
    {
     "data": {
      "text/plain": [
       "8"
      ]
     },
     "execution_count": 44,
     "metadata": {},
     "output_type": "execute_result"
    }
   ],
   "source": [
    "def sum(x,y):\n",
    "    return x+y\n",
    "sum(3,5)"
   ]
  },
  {
   "cell_type": "code",
   "execution_count": 45,
   "id": "8633bef8",
   "metadata": {},
   "outputs": [
    {
     "data": {
      "text/plain": [
       "7"
      ]
     },
     "execution_count": 45,
     "metadata": {},
     "output_type": "execute_result"
    }
   ],
   "source": [
    "f = lambda x,y:x+y\n",
    "f(3,4)"
   ]
  },
  {
   "cell_type": "code",
   "execution_count": 46,
   "id": "d47f20f1",
   "metadata": {},
   "outputs": [
    {
     "data": {
      "text/plain": [
       "6"
      ]
     },
     "execution_count": 46,
     "metadata": {},
     "output_type": "execute_result"
    }
   ],
   "source": [
    "f = lambda x:x+x\n",
    "f(3)"
   ]
  },
  {
   "cell_type": "markdown",
   "id": "b92de6d6",
   "metadata": {},
   "source": [
    "lambda in higher oreder"
   ]
  },
  {
   "cell_type": "code",
   "execution_count": 49,
   "id": "e00d1770",
   "metadata": {},
   "outputs": [
    {
     "data": {
      "text/plain": [
       "9"
      ]
     },
     "execution_count": 49,
     "metadata": {},
     "output_type": "execute_result"
    }
   ],
   "source": [
    "def operation_higher(x,y,operation):\n",
    "    return operation(x,y)\n",
    "operation_higher(4,5,lambda x,y:x+y)"
   ]
  },
  {
   "cell_type": "markdown",
   "id": "8b6a5f1d",
   "metadata": {},
   "source": [
    "# lambda with map(),filter(),reduce()"
   ]
  },
  {
   "cell_type": "code",
   "execution_count": 51,
   "id": "3ee4e958",
   "metadata": {},
   "outputs": [
    {
     "data": {
      "text/plain": [
       "[1, 2, 3, 4, 5, 6, 20]"
      ]
     },
     "execution_count": 51,
     "metadata": {},
     "output_type": "execute_result"
    }
   ],
   "source": [
    "num = [1,2,3,4,5,6,20]\n",
    "num"
   ]
  },
  {
   "cell_type": "code",
   "execution_count": 52,
   "id": "7c5bde02",
   "metadata": {},
   "outputs": [
    {
     "data": {
      "text/plain": [
       "27"
      ]
     },
     "execution_count": 52,
     "metadata": {},
     "output_type": "execute_result"
    }
   ],
   "source": [
    "def sq(x):\n",
    "    return x**x\n",
    "sq(3)\n",
    "    "
   ]
  },
  {
   "cell_type": "code",
   "execution_count": 55,
   "id": "dfd63403",
   "metadata": {},
   "outputs": [],
   "source": [
    "#map(function, iteable object)\n",
    "num = list(map(lambda x:x**2,num))"
   ]
  },
  {
   "cell_type": "code",
   "execution_count": 56,
   "id": "ef66ca1f",
   "metadata": {},
   "outputs": [
    {
     "data": {
      "text/plain": [
       "[1, 16, 81, 256, 625, 1296, 160000]"
      ]
     },
     "execution_count": 56,
     "metadata": {},
     "output_type": "execute_result"
    }
   ],
   "source": [
    "num"
   ]
  },
  {
   "cell_type": "code",
   "execution_count": 58,
   "id": "906c5f6d",
   "metadata": {},
   "outputs": [],
   "source": [
    "#filter(function, iteable object)\n",
    "num = list(filter(lambda num:num%2!=0,num))"
   ]
  },
  {
   "cell_type": "code",
   "execution_count": 59,
   "id": "edf528c1",
   "metadata": {},
   "outputs": [
    {
     "data": {
      "text/plain": [
       "[1, 81, 625]"
      ]
     },
     "execution_count": 59,
     "metadata": {},
     "output_type": "execute_result"
    }
   ],
   "source": [
    "num"
   ]
  },
  {
   "cell_type": "code",
   "execution_count": 62,
   "id": "0f2b542f",
   "metadata": {},
   "outputs": [
    {
     "data": {
      "text/plain": [
       "707"
      ]
     },
     "execution_count": 62,
     "metadata": {},
     "output_type": "execute_result"
    }
   ],
   "source": [
    "#reduce\n",
    "from functools import reduce\n",
    "reduce(lambda a,b:a+b,num)"
   ]
  },
  {
   "cell_type": "code",
   "execution_count": null,
   "id": "460fa319",
   "metadata": {},
   "outputs": [],
   "source": [
    "module"
   ]
  },
  {
   "cell_type": "code",
   "execution_count": null,
   "id": "3a80878f",
   "metadata": {},
   "outputs": [],
   "source": [
    "%%writefile test_modele.pu;\n",
    "\n",
    "import test_module//another file;                                                                                                                                                                                                                                                                                                                                                                                                                     "
   ]
  },
  {
   "cell_type": "code",
   "execution_count": 5,
   "id": "bcb5400c",
   "metadata": {},
   "outputs": [
    {
     "name": "stdout",
     "output_type": "stream",
     "text": [
      "\u001b[1;31merror\u001b[0m: \u001b[1mexternally-managed-environment\u001b[0m\r\n",
      "\r\n",
      "\u001b[31m×\u001b[0m This environment is externally managed\r\n",
      "\u001b[31m╰─>\u001b[0m To install Python packages system-wide, try apt install\r\n",
      "\u001b[31m   \u001b[0m python3-xyz, where xyz is the package you are trying to\r\n",
      "\u001b[31m   \u001b[0m install.\r\n",
      "\u001b[31m   \u001b[0m \r\n",
      "\u001b[31m   \u001b[0m If you wish to install a non-Debian-packaged Python package,\r\n",
      "\u001b[31m   \u001b[0m create a virtual environment using python3 -m venv path/to/venv.\r\n",
      "\u001b[31m   \u001b[0m Then use path/to/venv/bin/python and path/to/venv/bin/pip. Make\r\n",
      "\u001b[31m   \u001b[0m sure you have python3-full installed.\r\n",
      "\u001b[31m   \u001b[0m \r\n",
      "\u001b[31m   \u001b[0m If you wish to install a non-Debian packaged Python application,\r\n",
      "\u001b[31m   \u001b[0m it may be easiest to use pipx install xyz, which will manage a\r\n",
      "\u001b[31m   \u001b[0m virtual environment for you. Make sure you have pipx installed.\r\n",
      "\u001b[31m   \u001b[0m \r\n",
      "\u001b[31m   \u001b[0m See /usr/share/doc/python3.11/README.venv for more information.\r\n",
      "\r\n",
      "\u001b[1;35mnote\u001b[0m: If you believe this is a mistake, please contact your Python installation or OS distribution provider. You can override this, at the risk of breaking your Python installation or OS, by passing --break-system-packages.\r\n",
      "\u001b[1;36mhint\u001b[0m: See PEP 668 for the detailed specification.\r\n"
     ]
    }
   ],
   "source": [
    "!pip install pytube\n",
    "\n"
   ]
  },
  {
   "cell_type": "markdown",
   "id": "1c579968",
   "metadata": {},
   "source": [
    "# DOWNLLOAD YOUTUBE VIDEO\n"
   ]
  },
  {
   "cell_type": "code",
   "execution_count": null,
   "id": "098e0922",
   "metadata": {},
   "outputs": [],
   "source": [
    "!pip install pytube\n"
   ]
  },
  {
   "cell_type": "code",
   "execution_count": null,
   "id": "e964418a",
   "metadata": {},
   "outputs": [],
   "source": [
    "from pytube import YouTube"
   ]
  },
  {
   "cell_type": "code",
   "execution_count": null,
   "id": "8e3ee539",
   "metadata": {},
   "outputs": [],
   "source": [
    "url = 'any link'\n",
    "yt = YouTube(url)"
   ]
  },
  {
   "cell_type": "code",
   "execution_count": null,
   "id": "cdf710e7",
   "metadata": {},
   "outputs": [],
   "source": [
    "stream = yt.streams.get_highest_resolvtion()\n"
   ]
  },
  {
   "cell_type": "code",
   "execution_count": null,
   "id": "6a308f03",
   "metadata": {},
   "outputs": [],
   "source": [
    "stream.download()\n",
    "print('Donwload Completed')"
   ]
  },
  {
   "cell_type": "code",
   "execution_count": 11,
   "id": "15b4436e",
   "metadata": {},
   "outputs": [
    {
     "data": {
      "text/plain": [
       "'hello'"
      ]
     },
     "execution_count": 11,
     "metadata": {},
     "output_type": "execute_result"
    }
   ],
   "source": [
    "'hello'"
   ]
  },
  {
   "cell_type": "markdown",
   "id": "06186371",
   "metadata": {},
   "source": [
    "# reading text from a file"
   ]
  },
  {
   "cell_type": "code",
   "execution_count": 13,
   "id": "71b21556",
   "metadata": {},
   "outputs": [
    {
     "ename": "FileNotFoundError",
     "evalue": "[Errno 2] No such file or directory: 'py1.txt'",
     "output_type": "error",
     "traceback": [
      "\u001b[0;31m---------------------------------------------------------------------------\u001b[0m",
      "\u001b[0;31mFileNotFoundError\u001b[0m                         Traceback (most recent call last)",
      "Cell \u001b[0;32mIn[13], line 1\u001b[0m\n\u001b[0;32m----> 1\u001b[0m \u001b[38;5;28;01mwith\u001b[39;00m \u001b[38;5;28;43mopen\u001b[39;49m\u001b[43m(\u001b[49m\u001b[38;5;124;43m'\u001b[39;49m\u001b[38;5;124;43mpy1.txt\u001b[39;49m\u001b[38;5;124;43m'\u001b[39;49m\u001b[43m,\u001b[49m\u001b[38;5;124;43m'\u001b[39;49m\u001b[38;5;124;43mr\u001b[39;49m\u001b[38;5;124;43m'\u001b[39;49m\u001b[43m)\u001b[49m \u001b[38;5;28;01mas\u001b[39;00m file:\n\u001b[1;32m      2\u001b[0m     \u001b[38;5;28;01mfor\u001b[39;00m line \u001b[38;5;129;01min\u001b[39;00m file:\n\u001b[1;32m      3\u001b[0m         \u001b[38;5;28mprint\u001b[39m(line\u001b[38;5;241m.\u001b[39mstripI())\n",
      "File \u001b[0;32m/usr/lib/python3/dist-packages/IPython/core/interactiveshell.py:284\u001b[0m, in \u001b[0;36m_modified_open\u001b[0;34m(file, *args, **kwargs)\u001b[0m\n\u001b[1;32m    277\u001b[0m \u001b[38;5;28;01mif\u001b[39;00m file \u001b[38;5;129;01min\u001b[39;00m {\u001b[38;5;241m0\u001b[39m, \u001b[38;5;241m1\u001b[39m, \u001b[38;5;241m2\u001b[39m}:\n\u001b[1;32m    278\u001b[0m     \u001b[38;5;28;01mraise\u001b[39;00m \u001b[38;5;167;01mValueError\u001b[39;00m(\n\u001b[1;32m    279\u001b[0m         \u001b[38;5;124mf\u001b[39m\u001b[38;5;124m\"\u001b[39m\u001b[38;5;124mIPython won\u001b[39m\u001b[38;5;124m'\u001b[39m\u001b[38;5;124mt let you open fd=\u001b[39m\u001b[38;5;132;01m{\u001b[39;00mfile\u001b[38;5;132;01m}\u001b[39;00m\u001b[38;5;124m by default \u001b[39m\u001b[38;5;124m\"\u001b[39m\n\u001b[1;32m    280\u001b[0m         \u001b[38;5;124m\"\u001b[39m\u001b[38;5;124mas it is likely to crash IPython. If you know what you are doing, \u001b[39m\u001b[38;5;124m\"\u001b[39m\n\u001b[1;32m    281\u001b[0m         \u001b[38;5;124m\"\u001b[39m\u001b[38;5;124myou can use builtins\u001b[39m\u001b[38;5;124m'\u001b[39m\u001b[38;5;124m open.\u001b[39m\u001b[38;5;124m\"\u001b[39m\n\u001b[1;32m    282\u001b[0m     )\n\u001b[0;32m--> 284\u001b[0m \u001b[38;5;28;01mreturn\u001b[39;00m \u001b[43mio_open\u001b[49m\u001b[43m(\u001b[49m\u001b[43mfile\u001b[49m\u001b[43m,\u001b[49m\u001b[43m \u001b[49m\u001b[38;5;241;43m*\u001b[39;49m\u001b[43margs\u001b[49m\u001b[43m,\u001b[49m\u001b[43m \u001b[49m\u001b[38;5;241;43m*\u001b[39;49m\u001b[38;5;241;43m*\u001b[39;49m\u001b[43mkwargs\u001b[49m\u001b[43m)\u001b[49m\n",
      "\u001b[0;31mFileNotFoundError\u001b[0m: [Errno 2] No such file or directory: 'py1.txt'"
     ]
    }
   ],
   "source": [
    "with open('py1.txt','r') as file:\n",
    "    for line in file:\n",
    "        print(line.stripI())"
   ]
  },
  {
   "cell_type": "markdown",
   "id": "f8a9a0f6",
   "metadata": {},
   "source": [
    "# Writing text to a file"
   ]
  },
  {
   "cell_type": "code",
   "execution_count": 14,
   "id": "2a9ea4b1",
   "metadata": {},
   "outputs": [],
   "source": [
    "lines_to_write = ['hello , farhan']\n"
   ]
  },
  {
   "cell_type": "code",
   "execution_count": 15,
   "id": "b45f05da",
   "metadata": {},
   "outputs": [],
   "source": [
    "with open('py2.txt','w') as file:\n",
    "    for line in lines_to_write:\n",
    "        file.write(line + '\\n')"
   ]
  },
  {
   "cell_type": "markdown",
   "id": "043645a3",
   "metadata": {},
   "source": [
    "# Appending Text to an Existing file"
   ]
  },
  {
   "cell_type": "code",
   "execution_count": 19,
   "id": "3e38c7fa",
   "metadata": {},
   "outputs": [],
   "source": [
    "new_txt1 = ['dheid dkdkkk dkkd kkk']\n",
    "with open('py2.txt','a') as file:\n",
    "    for line in new_txt1:\n",
    "        file.write(line + ' ')"
   ]
  },
  {
   "cell_type": "markdown",
   "id": "3d9c1df1",
   "metadata": {},
   "source": [
    "# pdf reader"
   ]
  },
  {
   "cell_type": "code",
   "execution_count": 21,
   "id": "30b2dbf6",
   "metadata": {},
   "outputs": [
    {
     "name": "stdout",
     "output_type": "stream",
     "text": [
      "\u001b[1;31merror\u001b[0m: \u001b[1mexternally-managed-environment\u001b[0m\r\n",
      "\r\n",
      "\u001b[31m×\u001b[0m This environment is externally managed\r\n",
      "\u001b[31m╰─>\u001b[0m To install Python packages system-wide, try apt install\r\n",
      "\u001b[31m   \u001b[0m python3-xyz, where xyz is the package you are trying to\r\n",
      "\u001b[31m   \u001b[0m install.\r\n",
      "\u001b[31m   \u001b[0m \r\n",
      "\u001b[31m   \u001b[0m If you wish to install a non-Debian-packaged Python package,\r\n",
      "\u001b[31m   \u001b[0m create a virtual environment using python3 -m venv path/to/venv.\r\n",
      "\u001b[31m   \u001b[0m Then use path/to/venv/bin/python and path/to/venv/bin/pip. Make\r\n",
      "\u001b[31m   \u001b[0m sure you have python3-full installed.\r\n",
      "\u001b[31m   \u001b[0m \r\n",
      "\u001b[31m   \u001b[0m If you wish to install a non-Debian packaged Python application,\r\n",
      "\u001b[31m   \u001b[0m it may be easiest to use pipx install xyz, which will manage a\r\n",
      "\u001b[31m   \u001b[0m virtual environment for you. Make sure you have pipx installed.\r\n",
      "\u001b[31m   \u001b[0m \r\n",
      "\u001b[31m   \u001b[0m See /usr/share/doc/python3.11/README.venv for more information.\r\n",
      "\r\n",
      "\u001b[1;35mnote\u001b[0m: If you believe this is a mistake, please contact your Python installation or OS distribution provider. You can override this, at the risk of breaking your Python installation or OS, by passing --break-system-packages.\r\n",
      "\u001b[1;36mhint\u001b[0m: See PEP 668 for the detailed specification.\r\n"
     ]
    }
   ],
   "source": [
    "!pip install pypdf"
   ]
  },
  {
   "cell_type": "code",
   "execution_count": null,
   "id": "bb8d4863",
   "metadata": {},
   "outputs": [],
   "source": []
  }
 ],
 "metadata": {
  "kernelspec": {
   "display_name": "Python 3 (ipykernel)",
   "language": "python",
   "name": "python3"
  },
  "language_info": {
   "codemirror_mode": {
    "name": "ipython",
    "version": 3
   },
   "file_extension": ".py",
   "mimetype": "text/x-python",
   "name": "python",
   "nbconvert_exporter": "python",
   "pygments_lexer": "ipython3",
   "version": "3.11.6"
  }
 },
 "nbformat": 4,
 "nbformat_minor": 5
}
